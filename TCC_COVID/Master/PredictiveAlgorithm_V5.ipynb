{
 "cells": [
  {
   "cell_type": "code",
   "execution_count": 5,
   "metadata": {},
   "outputs": [],
   "source": [
    "import pandas as pd\n",
    "import matplotlib.pyplot as plt\n",
    "%matplotlib inline\n",
    "from sklearn.metrics import mean_squared_error\n",
    "import numpy as np\n",
    "from statsmodels.graphics.tsaplots import plot_acf,plot_pacf\n",
    "import datetime as dt\n",
    "from datetime import timedelta"
   ]
  },
  {
   "cell_type": "code",
   "execution_count": 6,
   "metadata": {},
   "outputs": [
    {
     "data": {
      "text/html": [
       "<div>\n",
       "<style scoped>\n",
       "    .dataframe tbody tr th:only-of-type {\n",
       "        vertical-align: middle;\n",
       "    }\n",
       "\n",
       "    .dataframe tbody tr th {\n",
       "        vertical-align: top;\n",
       "    }\n",
       "\n",
       "    .dataframe thead th {\n",
       "        text-align: right;\n",
       "    }\n",
       "</style>\n",
       "<table border=\"1\" class=\"dataframe\">\n",
       "  <thead>\n",
       "    <tr style=\"text-align: right;\">\n",
       "      <th></th>\n",
       "      <th>new_cases</th>\n",
       "    </tr>\n",
       "    <tr>\n",
       "      <th>date</th>\n",
       "      <th></th>\n",
       "    </tr>\n",
       "  </thead>\n",
       "  <tbody>\n",
       "    <tr>\n",
       "      <th>2019-12-31</th>\n",
       "      <td>0.0</td>\n",
       "    </tr>\n",
       "    <tr>\n",
       "      <th>2020-01-01</th>\n",
       "      <td>0.0</td>\n",
       "    </tr>\n",
       "    <tr>\n",
       "      <th>2020-01-02</th>\n",
       "      <td>0.0</td>\n",
       "    </tr>\n",
       "    <tr>\n",
       "      <th>2020-01-03</th>\n",
       "      <td>0.0</td>\n",
       "    </tr>\n",
       "    <tr>\n",
       "      <th>2020-01-04</th>\n",
       "      <td>0.0</td>\n",
       "    </tr>\n",
       "    <tr>\n",
       "      <th>...</th>\n",
       "      <td>...</td>\n",
       "    </tr>\n",
       "    <tr>\n",
       "      <th>2020-08-04</th>\n",
       "      <td>147.0</td>\n",
       "    </tr>\n",
       "    <tr>\n",
       "      <th>2020-08-05</th>\n",
       "      <td>760.0</td>\n",
       "    </tr>\n",
       "    <tr>\n",
       "      <th>2020-08-06</th>\n",
       "      <td>395.0</td>\n",
       "    </tr>\n",
       "    <tr>\n",
       "      <th>2020-08-07</th>\n",
       "      <td>374.0</td>\n",
       "    </tr>\n",
       "    <tr>\n",
       "      <th>2020-08-08</th>\n",
       "      <td>424.0</td>\n",
       "    </tr>\n",
       "  </tbody>\n",
       "</table>\n",
       "<p>222 rows × 1 columns</p>\n",
       "</div>"
      ],
      "text/plain": [
       "            new_cases\n",
       "date                 \n",
       "2019-12-31        0.0\n",
       "2020-01-01        0.0\n",
       "2020-01-02        0.0\n",
       "2020-01-03        0.0\n",
       "2020-01-04        0.0\n",
       "...               ...\n",
       "2020-08-04      147.0\n",
       "2020-08-05      760.0\n",
       "2020-08-06      395.0\n",
       "2020-08-07      374.0\n",
       "2020-08-08      424.0\n",
       "\n",
       "[222 rows x 1 columns]"
      ]
     },
     "execution_count": 6,
     "metadata": {},
     "output_type": "execute_result"
    }
   ],
   "source": [
    "dataset = pd.read_csv('inn.csv',index_col=[0],parse_dates=[0],squeeze = True)\n",
    "dropped = ['total_cases','total_deaths','new_deaths','new_tests','population','population_density','median_age','gdp_per_capita',\n",
    "           'extreme_poverty','cardiovasc_death_rate','diabetes_prevalence','life_expectancy',\n",
    "           'day','month','year','quarter','half','bimonth', 'cod_continent','prev_cases','prev_deaths','cod_location','date_id']\n",
    "loc_id = 35\n",
    "dataset = dataset[dataset['cod_location'] == loc_id]\n",
    "dataset.drop(dropped,inplace=True,axis=1)\n",
    "last_dt = pd.to_datetime(dataset['date'].iloc[-1])\n",
    "dataset.set_index('date')"
   ]
  },
  {
   "cell_type": "code",
   "execution_count": 7,
   "metadata": {},
   "outputs": [
    {
     "data": {
      "text/plain": [
       "Timestamp('2020-08-08 00:00:00')"
      ]
     },
     "execution_count": 7,
     "metadata": {},
     "output_type": "execute_result"
    }
   ],
   "source": [
    "type(dataset)\n",
    "series_value = dataset.values\n",
    "last_dt"
   ]
  },
  {
   "cell_type": "code",
   "execution_count": 8,
   "metadata": {},
   "outputs": [
    {
     "data": {
      "text/plain": [
       "<matplotlib.axes._subplots.AxesSubplot at 0x278dc1adc08>"
      ]
     },
     "execution_count": 8,
     "metadata": {},
     "output_type": "execute_result"
    },
    {
     "data": {
      "image/png": "[encoded data removed]",
      "text/plain": [
       "<Figure size 432x288 with 1 Axes>"
      ]
     },
     "metadata": {
      "needs_background": "light"
     },
     "output_type": "display_data"
    }
   ],
   "source": [
    "dataset.plot()"
   ]
  },
  {
   "cell_type": "code",
   "execution_count": 9,
   "metadata": {},
   "outputs": [],
   "source": [
    "f_new_cases = dataset.rolling(window = 20).mean()"
   ]
  },
  {
   "cell_type": "code",
   "execution_count": 10,
   "metadata": {},
   "outputs": [
    {
     "data": {
      "text/plain": [
       "<matplotlib.axes._subplots.AxesSubplot at 0x278dc9d9408>"
      ]
     },
     "execution_count": 10,
     "metadata": {},
     "output_type": "execute_result"
    },
    {
     "data": {
      "image/png": "[encoded data removed]",
      "text/plain": [
       "<Figure size 432x288 with 1 Axes>"
      ]
     },
     "metadata": {
      "needs_background": "light"
     },
     "output_type": "display_data"
    },
    {
     "data": {
      "image/png": "[encoded data removed]",
      "text/plain": [
       "<Figure size 432x288 with 1 Axes>"
      ]
     },
     "metadata": {
      "needs_background": "light"
     },
     "output_type": "display_data"
    }
   ],
   "source": [
    "f_new_cases = f_new_cases[0:365]\n",
    "dataset.plot()\n",
    "f_new_cases.plot()"
   ]
  },
  {
   "cell_type": "code",
   "execution_count": 11,
   "metadata": {},
   "outputs": [
    {
     "data": {
      "text/html": [
       "<div>\n",
       "<style scoped>\n",
       "    .dataframe tbody tr th:only-of-type {\n",
       "        vertical-align: middle;\n",
       "    }\n",
       "\n",
       "    .dataframe tbody tr th {\n",
       "        vertical-align: top;\n",
       "    }\n",
       "\n",
       "    .dataframe thead th {\n",
       "        text-align: right;\n",
       "    }\n",
       "</style>\n",
       "<table border=\"1\" class=\"dataframe\">\n",
       "  <thead>\n",
       "    <tr style=\"text-align: right;\">\n",
       "      <th></th>\n",
       "      <th>Actual</th>\n",
       "      <th>Forecast</th>\n",
       "    </tr>\n",
       "  </thead>\n",
       "  <tbody>\n",
       "    <tr>\n",
       "      <th>0</th>\n",
       "      <td>0</td>\n",
       "      <td>0</td>\n",
       "    </tr>\n",
       "    <tr>\n",
       "      <th>1</th>\n",
       "      <td>0</td>\n",
       "      <td>0</td>\n",
       "    </tr>\n",
       "    <tr>\n",
       "      <th>2</th>\n",
       "      <td>0</td>\n",
       "      <td>0</td>\n",
       "    </tr>\n",
       "    <tr>\n",
       "      <th>3</th>\n",
       "      <td>0</td>\n",
       "      <td>0</td>\n",
       "    </tr>\n",
       "    <tr>\n",
       "      <th>4</th>\n",
       "      <td>0</td>\n",
       "      <td>0</td>\n",
       "    </tr>\n",
       "  </tbody>\n",
       "</table>\n",
       "</div>"
      ],
      "text/plain": [
       "  Actual Forecast\n",
       "0      0        0\n",
       "1      0        0\n",
       "2      0        0\n",
       "3      0        0\n",
       "4      0        0"
      ]
     },
     "execution_count": 11,
     "metadata": {},
     "output_type": "execute_result"
    }
   ],
   "source": [
    "value = pd.DataFrame(series_value)\n",
    "new_df = pd.concat([value, value.shift(-1)],axis=1)\n",
    "new_df.columns = ['del','Actual','del1','Forecast']\n",
    "dela = ['del','del1']\n",
    "new_df.drop(dela,inplace=True,axis=1)\n",
    "new_df.head()"
   ]
  },
  {
   "cell_type": "code",
   "execution_count": 12,
   "metadata": {},
   "outputs": [],
   "source": [
    "test = new_df[:1]\n",
    "test = test.fillna(0)\n",
    "error = mean_squared_error(test.Actual,test.Forecast)"
   ]
  },
  {
   "cell_type": "code",
   "execution_count": 13,
   "metadata": {},
   "outputs": [],
   "source": [
    "train = f_new_cases[0:330]\n",
    "train = train.fillna(0)\n",
    "test = f_new_cases[330:365]"
   ]
  },
  {
   "cell_type": "code",
   "execution_count": 14,
   "metadata": {},
   "outputs": [
    {
     "name": "stderr",
     "output_type": "stream",
     "text": [
      "C:\\Users\\FahmeDX\\anaconda3\\lib\\site-packages\\statsmodels\\tsa\\base\\tsa_model.py:214: ValueWarning: An unsupported index was provided and will be ignored when e.g. forecasting.\n",
      "  ' ignored when e.g. forecasting.', ValueWarning)\n",
      "C:\\Users\\FahmeDX\\anaconda3\\lib\\site-packages\\statsmodels\\tsa\\base\\tsa_model.py:214: ValueWarning: An unsupported index was provided and will be ignored when e.g. forecasting.\n",
      "  ' ignored when e.g. forecasting.', ValueWarning)\n"
     ]
    }
   ],
   "source": [
    "from statsmodels.tsa.arima_model import ARIMA\n",
    "model = ARIMA(train, order=(2,1,3))"
   ]
  },
  {
   "cell_type": "code",
   "execution_count": 15,
   "metadata": {},
   "outputs": [],
   "source": [
    "model_fit = model.fit()\n",
    "forecast = model_fit.forecast(steps = 10)[0]\n",
    "column_names = [\"date_id\", \"cd_local\", \"date\", \"pred_val\"]\n",
    "predicted = pd.DataFrame(columns = column_names)"
   ]
  },
  {
   "cell_type": "code",
   "execution_count": 16,
   "metadata": {},
   "outputs": [],
   "source": [
    "forecast\n",
    "for x in range(0,10):\n",
    "    new_row = {'date':last_dt + timedelta(x + 1), 'pred_val':forecast[x], 'cd_local': loc_id}\n",
    "    #append row to the dataframe\n",
    "    predicted = predicted.append(new_row, ignore_index=True)"
   ]
  },
  {
   "cell_type": "code",
   "execution_count": 17,
   "metadata": {},
   "outputs": [
    {
     "data": {
      "text/html": [
       "<div>\n",
       "<style scoped>\n",
       "    .dataframe tbody tr th:only-of-type {\n",
       "        vertical-align: middle;\n",
       "    }\n",
       "\n",
       "    .dataframe tbody tr th {\n",
       "        vertical-align: top;\n",
       "    }\n",
       "\n",
       "    .dataframe thead th {\n",
       "        text-align: right;\n",
       "    }\n",
       "</style>\n",
       "<table border=\"1\" class=\"dataframe\">\n",
       "  <thead>\n",
       "    <tr style=\"text-align: right;\">\n",
       "      <th></th>\n",
       "      <th>cd_local</th>\n",
       "      <th>pred_val</th>\n",
       "    </tr>\n",
       "    <tr>\n",
       "      <th>date_id</th>\n",
       "      <th></th>\n",
       "      <th></th>\n",
       "    </tr>\n",
       "  </thead>\n",
       "  <tbody>\n",
       "    <tr>\n",
       "      <th>20200809</th>\n",
       "      <td>35</td>\n",
       "      <td>474.172069</td>\n",
       "    </tr>\n",
       "    <tr>\n",
       "      <th>20200810</th>\n",
       "      <td>35</td>\n",
       "      <td>480.334602</td>\n",
       "    </tr>\n",
       "    <tr>\n",
       "      <th>20200811</th>\n",
       "      <td>35</td>\n",
       "      <td>489.461053</td>\n",
       "    </tr>\n",
       "    <tr>\n",
       "      <th>20200812</th>\n",
       "      <td>35</td>\n",
       "      <td>499.034540</td>\n",
       "    </tr>\n",
       "    <tr>\n",
       "      <th>20200813</th>\n",
       "      <td>35</td>\n",
       "      <td>508.497369</td>\n",
       "    </tr>\n",
       "    <tr>\n",
       "      <th>20200814</th>\n",
       "      <td>35</td>\n",
       "      <td>517.732294</td>\n",
       "    </tr>\n",
       "    <tr>\n",
       "      <th>20200815</th>\n",
       "      <td>35</td>\n",
       "      <td>526.720839</td>\n",
       "    </tr>\n",
       "    <tr>\n",
       "      <th>20200816</th>\n",
       "      <td>35</td>\n",
       "      <td>535.466443</td>\n",
       "    </tr>\n",
       "    <tr>\n",
       "      <th>20200817</th>\n",
       "      <td>35</td>\n",
       "      <td>543.977178</td>\n",
       "    </tr>\n",
       "    <tr>\n",
       "      <th>20200818</th>\n",
       "      <td>35</td>\n",
       "      <td>552.261877</td>\n",
       "    </tr>\n",
       "  </tbody>\n",
       "</table>\n",
       "</div>"
      ],
      "text/plain": [
       "         cd_local    pred_val\n",
       "date_id                      \n",
       "20200809       35  474.172069\n",
       "20200810       35  480.334602\n",
       "20200811       35  489.461053\n",
       "20200812       35  499.034540\n",
       "20200813       35  508.497369\n",
       "20200814       35  517.732294\n",
       "20200815       35  526.720839\n",
       "20200816       35  535.466443\n",
       "20200817       35  543.977178\n",
       "20200818       35  552.261877"
      ]
     },
     "execution_count": 17,
     "metadata": {},
     "output_type": "execute_result"
    }
   ],
   "source": [
    "predicted['day'] = predicted['date'].dt.day\n",
    "predicted['month'] = predicted['date'].dt.month\n",
    "predicted['year'] = predicted['date'].dt.year\n",
    "predicted.loc[predicted['month'] < 10, 'month'] = '0' + predicted['month'].map(str)\n",
    "predicted.loc[predicted['day'] < 10, 'day'] = '0' + predicted['day'].map(str)\n",
    "predicted['date_id'] = predicted['year'].map(str) + predicted['month'].map(str) + predicted['day'].map(str)\n",
    "droppd = ['day','month','year','date']\n",
    "predicted.drop(droppd,inplace=True,axis=1)\n",
    "predicted.set_index('date_id')"
   ]
  },
  {
   "cell_type": "code",
   "execution_count": 18,
   "metadata": {},
   "outputs": [],
   "source": [
    "predicted.to_csv('predict.csv')"
   ]
  },
  {
   "cell_type": "code",
   "execution_count": null,
   "metadata": {},
   "outputs": [],
   "source": []
  },
  {
   "cell_type": "code",
   "execution_count": null,
   "metadata": {},
   "outputs": [],
   "source": []
  }
 ],
 "metadata": {
  "kernelspec": {
   "display_name": "Python 3",
   "language": "python",
   "name": "python3"
  },
  "language_info": {
   "codemirror_mode": {
    "name": "ipython",
    "version": 3
   },
   "file_extension": ".py",
   "mimetype": "text/x-python",
   "name": "python",
   "nbconvert_exporter": "python",
   "pygments_lexer": "ipython3",
   "version": "3.7.6"
  }
 },
 "nbformat": 4,
 "nbformat_minor": 4
}
