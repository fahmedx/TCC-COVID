{
 "cells": [
  {
   "cell_type": "code",
   "execution_count": 1,
   "metadata": {},
   "outputs": [],
   "source": [
    "import pandas as pd\n",
    "import matplotlib.pyplot as plt\n",
    "%matplotlib inline\n",
    "from sklearn.metrics import mean_squared_error\n",
    "import numpy as np\n",
    "from statsmodels.graphics.tsaplots import plot_acf,plot_pacf\n",
    "import datetime as dt\n",
    "from datetime import timedelta"
   ]
  },
  {
   "cell_type": "code",
   "execution_count": 2,
   "metadata": {},
   "outputs": [
    {
     "data": {
      "text/html": [
       "<div>\n",
       "<style scoped>\n",
       "    .dataframe tbody tr th:only-of-type {\n",
       "        vertical-align: middle;\n",
       "    }\n",
       "\n",
       "    .dataframe tbody tr th {\n",
       "        vertical-align: top;\n",
       "    }\n",
       "\n",
       "    .dataframe thead th {\n",
       "        text-align: right;\n",
       "    }\n",
       "</style>\n",
       "<table border=\"1\" class=\"dataframe\">\n",
       "  <thead>\n",
       "    <tr style=\"text-align: right;\">\n",
       "      <th></th>\n",
       "      <th>new_cases</th>\n",
       "    </tr>\n",
       "    <tr>\n",
       "      <th>date</th>\n",
       "      <th></th>\n",
       "    </tr>\n",
       "  </thead>\n",
       "  <tbody>\n",
       "    <tr>\n",
       "      <th>2019-12-31</th>\n",
       "      <td>0.0</td>\n",
       "    </tr>\n",
       "    <tr>\n",
       "      <th>2020-01-01</th>\n",
       "      <td>0.0</td>\n",
       "    </tr>\n",
       "    <tr>\n",
       "      <th>2020-01-02</th>\n",
       "      <td>0.0</td>\n",
       "    </tr>\n",
       "    <tr>\n",
       "      <th>2020-01-03</th>\n",
       "      <td>0.0</td>\n",
       "    </tr>\n",
       "    <tr>\n",
       "      <th>2020-01-04</th>\n",
       "      <td>0.0</td>\n",
       "    </tr>\n",
       "    <tr>\n",
       "      <th>...</th>\n",
       "      <td>...</td>\n",
       "    </tr>\n",
       "    <tr>\n",
       "      <th>2020-07-26</th>\n",
       "      <td>350.0</td>\n",
       "    </tr>\n",
       "    <tr>\n",
       "      <th>2020-07-27</th>\n",
       "      <td>355.0</td>\n",
       "    </tr>\n",
       "    <tr>\n",
       "      <th>2020-07-28</th>\n",
       "      <td>699.0</td>\n",
       "    </tr>\n",
       "    <tr>\n",
       "      <th>2020-07-29</th>\n",
       "      <td>383.0</td>\n",
       "    </tr>\n",
       "    <tr>\n",
       "      <th>2020-07-30</th>\n",
       "      <td>476.0</td>\n",
       "    </tr>\n",
       "  </tbody>\n",
       "</table>\n",
       "<p>213 rows × 1 columns</p>\n",
       "</div>"
      ],
      "text/plain": [
       "            new_cases\n",
       "date                 \n",
       "2019-12-31        0.0\n",
       "2020-01-01        0.0\n",
       "2020-01-02        0.0\n",
       "2020-01-03        0.0\n",
       "2020-01-04        0.0\n",
       "...               ...\n",
       "2020-07-26      350.0\n",
       "2020-07-27      355.0\n",
       "2020-07-28      699.0\n",
       "2020-07-29      383.0\n",
       "2020-07-30      476.0\n",
       "\n",
       "[213 rows x 1 columns]"
      ]
     },
     "execution_count": 2,
     "metadata": {},
     "output_type": "execute_result"
    }
   ],
   "source": [
    "dataset = pd.read_csv('inn.csv',index_col=[0],parse_dates=[0],squeeze = True)\n",
    "dropped = ['total_cases','total_deaths','new_deaths','new_tests','population','population_density','median_age','gdp_per_capita',\n",
    "           'extreme_poverty','cardiovasc_death_rate','diabetes_prevalence','life_expectancy',\n",
    "           'day','month','year','quarter','half','bimonth', 'cod_continent','prev_cases','prev_deaths','cod_location','date_id']\n",
    "loc_id = 35\n",
    "dataset = dataset[dataset['cod_location'] == loc_id]\n",
    "dataset.drop(dropped,inplace=True,axis=1)\n",
    "last_dt = pd.to_datetime(dataset['date'].iloc[-1])\n",
    "dataset.set_index('date')"
   ]
  },
  {
   "cell_type": "code",
   "execution_count": 3,
   "metadata": {},
   "outputs": [
    {
     "data": {
      "text/plain": [
       "Timestamp('2020-07-30 00:00:00')"
      ]
     },
     "execution_count": 3,
     "metadata": {},
     "output_type": "execute_result"
    }
   ],
   "source": [
    "type(dataset)\n",
    "series_value = dataset.values\n",
    "last_dt"
   ]
  },
  {
   "cell_type": "code",
   "execution_count": 4,
   "metadata": {},
   "outputs": [
    {
     "data": {
      "text/plain": [
       "<matplotlib.axes._subplots.AxesSubplot at 0x2531b92af88>"
      ]
     },
     "execution_count": 4,
     "metadata": {},
     "output_type": "execute_result"
    },
    {
     "data": {
      "image/png": "[encoded data removed]",
      "text/plain": [
       "<Figure size 432x288 with 1 Axes>"
      ]
     },
     "metadata": {
      "needs_background": "light"
     },
     "output_type": "display_data"
    }
   ],
   "source": [
    "dataset.plot()"
   ]
  },
  {
   "cell_type": "code",
   "execution_count": 5,
   "metadata": {},
   "outputs": [],
   "source": [
    "f_new_cases = dataset.rolling(window = 20).mean()"
   ]
  },
  {
   "cell_type": "code",
   "execution_count": 6,
   "metadata": {},
   "outputs": [
    {
     "data": {
      "text/plain": [
       "<matplotlib.axes._subplots.AxesSubplot at 0x2531c181b88>"
      ]
     },
     "execution_count": 6,
     "metadata": {},
     "output_type": "execute_result"
    },
    {
     "data": {
      "image/png": "[encoded data removed]",
      "text/plain": [
       "<Figure size 432x288 with 1 Axes>"
      ]
     },
     "metadata": {
      "needs_background": "light"
     },
     "output_type": "display_data"
    },
    {
     "data": {
      "image/png": "[encoded data removed]",
      "text/plain": [
       "<Figure size 432x288 with 1 Axes>"
      ]
     },
     "metadata": {
      "needs_background": "light"
     },
     "output_type": "display_data"
    }
   ],
   "source": [
    "f_new_cases = f_new_cases[0:365]\n",
    "dataset.plot()\n",
    "f_new_cases.plot()"
   ]
  },
  {
   "cell_type": "code",
   "execution_count": 7,
   "metadata": {},
   "outputs": [
    {
     "data": {
      "text/html": [
       "<div>\n",
       "<style scoped>\n",
       "    .dataframe tbody tr th:only-of-type {\n",
       "        vertical-align: middle;\n",
       "    }\n",
       "\n",
       "    .dataframe tbody tr th {\n",
       "        vertical-align: top;\n",
       "    }\n",
       "\n",
       "    .dataframe thead th {\n",
       "        text-align: right;\n",
       "    }\n",
       "</style>\n",
       "<table border=\"1\" class=\"dataframe\">\n",
       "  <thead>\n",
       "    <tr style=\"text-align: right;\">\n",
       "      <th></th>\n",
       "      <th>Actual</th>\n",
       "      <th>Forecast</th>\n",
       "    </tr>\n",
       "  </thead>\n",
       "  <tbody>\n",
       "    <tr>\n",
       "      <th>0</th>\n",
       "      <td>0</td>\n",
       "      <td>0</td>\n",
       "    </tr>\n",
       "    <tr>\n",
       "      <th>1</th>\n",
       "      <td>0</td>\n",
       "      <td>0</td>\n",
       "    </tr>\n",
       "    <tr>\n",
       "      <th>2</th>\n",
       "      <td>0</td>\n",
       "      <td>0</td>\n",
       "    </tr>\n",
       "    <tr>\n",
       "      <th>3</th>\n",
       "      <td>0</td>\n",
       "      <td>0</td>\n",
       "    </tr>\n",
       "    <tr>\n",
       "      <th>4</th>\n",
       "      <td>0</td>\n",
       "      <td>0</td>\n",
       "    </tr>\n",
       "  </tbody>\n",
       "</table>\n",
       "</div>"
      ],
      "text/plain": [
       "  Actual Forecast\n",
       "0      0        0\n",
       "1      0        0\n",
       "2      0        0\n",
       "3      0        0\n",
       "4      0        0"
      ]
     },
     "execution_count": 7,
     "metadata": {},
     "output_type": "execute_result"
    }
   ],
   "source": [
    "value = pd.DataFrame(series_value)\n",
    "new_df = pd.concat([value, value.shift(-1)],axis=1)\n",
    "new_df.columns = ['del','Actual','del1','Forecast']\n",
    "dela = ['del','del1']\n",
    "new_df.drop(dela,inplace=True,axis=1)\n",
    "new_df.head()"
   ]
  },
  {
   "cell_type": "code",
   "execution_count": 8,
   "metadata": {},
   "outputs": [],
   "source": [
    "test = new_df[:1]\n",
    "test = test.fillna(0)\n",
    "error = mean_squared_error(test.Actual,test.Forecast)"
   ]
  },
  {
   "cell_type": "code",
   "execution_count": 9,
   "metadata": {},
   "outputs": [],
   "source": [
    "train = f_new_cases[0:330]\n",
    "train = train.fillna(0)\n",
    "test = f_new_cases[330:365]"
   ]
  },
  {
   "cell_type": "code",
   "execution_count": 10,
   "metadata": {},
   "outputs": [
    {
     "name": "stderr",
     "output_type": "stream",
     "text": [
      "C:\\Users\\FahmeDX\\anaconda3\\lib\\site-packages\\statsmodels\\tsa\\base\\tsa_model.py:214: ValueWarning: An unsupported index was provided and will be ignored when e.g. forecasting.\n",
      "  ' ignored when e.g. forecasting.', ValueWarning)\n",
      "C:\\Users\\FahmeDX\\anaconda3\\lib\\site-packages\\statsmodels\\tsa\\base\\tsa_model.py:214: ValueWarning: An unsupported index was provided and will be ignored when e.g. forecasting.\n",
      "  ' ignored when e.g. forecasting.', ValueWarning)\n"
     ]
    }
   ],
   "source": [
    "from statsmodels.tsa.arima_model import ARIMA\n",
    "model = ARIMA(train, order=(2,1,3))"
   ]
  },
  {
   "cell_type": "code",
   "execution_count": 11,
   "metadata": {},
   "outputs": [],
   "source": [
    "model_fit = model.fit()\n",
    "forecast = model_fit.forecast(steps = 10)[0]\n",
    "column_names = [\"date_id\", \"cd_local\", \"date\", \"pred_val\"]\n",
    "predicted = pd.DataFrame(columns = column_names)"
   ]
  },
  {
   "cell_type": "code",
   "execution_count": 12,
   "metadata": {},
   "outputs": [],
   "source": [
    "forecast\n",
    "for x in range(0,10):\n",
    "    new_row = {'date':last_dt + timedelta(x + 1), 'pred_val':forecast[x], 'cd_local': loc_id}\n",
    "    #append row to the dataframe\n",
    "    predicted = predicted.append(new_row, ignore_index=True)"
   ]
  },
  {
   "cell_type": "code",
   "execution_count": 13,
   "metadata": {},
   "outputs": [
    {
     "data": {
      "text/html": [
       "<div>\n",
       "<style scoped>\n",
       "    .dataframe tbody tr th:only-of-type {\n",
       "        vertical-align: middle;\n",
       "    }\n",
       "\n",
       "    .dataframe tbody tr th {\n",
       "        vertical-align: top;\n",
       "    }\n",
       "\n",
       "    .dataframe thead th {\n",
       "        text-align: right;\n",
       "    }\n",
       "</style>\n",
       "<table border=\"1\" class=\"dataframe\">\n",
       "  <thead>\n",
       "    <tr style=\"text-align: right;\">\n",
       "      <th></th>\n",
       "      <th>cd_local</th>\n",
       "      <th>pred_val</th>\n",
       "    </tr>\n",
       "    <tr>\n",
       "      <th>date_id</th>\n",
       "      <th></th>\n",
       "      <th></th>\n",
       "    </tr>\n",
       "  </thead>\n",
       "  <tbody>\n",
       "    <tr>\n",
       "      <th>20200731</th>\n",
       "      <td>35</td>\n",
       "      <td>441.439041</td>\n",
       "    </tr>\n",
       "    <tr>\n",
       "      <th>20200801</th>\n",
       "      <td>35</td>\n",
       "      <td>449.192872</td>\n",
       "    </tr>\n",
       "    <tr>\n",
       "      <th>20200802</th>\n",
       "      <td>35</td>\n",
       "      <td>456.560879</td>\n",
       "    </tr>\n",
       "    <tr>\n",
       "      <th>20200803</th>\n",
       "      <td>35</td>\n",
       "      <td>463.685551</td>\n",
       "    </tr>\n",
       "    <tr>\n",
       "      <th>20200804</th>\n",
       "      <td>35</td>\n",
       "      <td>470.612480</td>\n",
       "    </tr>\n",
       "    <tr>\n",
       "      <th>20200805</th>\n",
       "      <td>35</td>\n",
       "      <td>477.359597</td>\n",
       "    </tr>\n",
       "    <tr>\n",
       "      <th>20200806</th>\n",
       "      <td>35</td>\n",
       "      <td>483.936799</td>\n",
       "    </tr>\n",
       "    <tr>\n",
       "      <th>20200807</th>\n",
       "      <td>35</td>\n",
       "      <td>490.351520</td>\n",
       "    </tr>\n",
       "    <tr>\n",
       "      <th>20200808</th>\n",
       "      <td>35</td>\n",
       "      <td>496.610316</td>\n",
       "    </tr>\n",
       "    <tr>\n",
       "      <th>20200809</th>\n",
       "      <td>35</td>\n",
       "      <td>502.719320</td>\n",
       "    </tr>\n",
       "  </tbody>\n",
       "</table>\n",
       "</div>"
      ],
      "text/plain": [
       "         cd_local    pred_val\n",
       "date_id                      \n",
       "20200731       35  441.439041\n",
       "20200801       35  449.192872\n",
       "20200802       35  456.560879\n",
       "20200803       35  463.685551\n",
       "20200804       35  470.612480\n",
       "20200805       35  477.359597\n",
       "20200806       35  483.936799\n",
       "20200807       35  490.351520\n",
       "20200808       35  496.610316\n",
       "20200809       35  502.719320"
      ]
     },
     "execution_count": 13,
     "metadata": {},
     "output_type": "execute_result"
    }
   ],
   "source": [
    "predicted['day'] = predicted['date'].dt.day\n",
    "predicted['month'] = predicted['date'].dt.month\n",
    "predicted['year'] = predicted['date'].dt.year\n",
    "predicted.loc[predicted['month'] < 10, 'month'] = '0' + predicted['month'].map(str)\n",
    "predicted.loc[predicted['day'] < 10, 'day'] = '0' + predicted['day'].map(str)\n",
    "predicted['date_id'] = predicted['year'].map(str) + predicted['month'].map(str) + predicted['day'].map(str)\n",
    "droppd = ['day','month','year','date']\n",
    "predicted.drop(droppd,inplace=True,axis=1)\n",
    "predicted.set_index('date_id')"
   ]
  },
  {
   "cell_type": "code",
   "execution_count": 14,
   "metadata": {},
   "outputs": [],
   "source": [
    "predicted.to_csv('predict.csv')"
   ]
  },
  {
   "cell_type": "code",
   "execution_count": null,
   "metadata": {},
   "outputs": [],
   "source": []
  },
  {
   "cell_type": "code",
   "execution_count": null,
   "metadata": {},
   "outputs": [],
   "source": []
  }
 ],
 "metadata": {
  "kernelspec": {
   "display_name": "Python 3",
   "language": "python",
   "name": "python3"
  },
  "language_info": {
   "codemirror_mode": {
    "name": "ipython",
    "version": 3
   },
   "file_extension": ".py",
   "mimetype": "text/x-python",
   "name": "python",
   "nbconvert_exporter": "python",
   "pygments_lexer": "ipython3",
   "version": "3.7.6"
  }
 },
 "nbformat": 4,
 "nbformat_minor": 4
}
