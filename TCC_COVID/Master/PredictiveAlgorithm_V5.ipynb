{
 "cells": [
  {
   "cell_type": "code",
   "execution_count": 17,
   "metadata": {},
   "outputs": [],
   "source": [
    "import pandas as pd\n",
    "import matplotlib.pyplot as plt\n",
    "%matplotlib inline\n",
    "from sklearn.metrics import mean_squared_error\n",
    "import numpy as np\n",
    "from statsmodels.graphics.tsaplots import plot_acf,plot_pacf\n",
    "import datetime as dt\n",
    "from datetime import timedelta"
   ]
  },
  {
   "cell_type": "code",
   "execution_count": 18,
   "metadata": {},
   "outputs": [
    {
     "data": {
      "text/html": [
       "<div>\n",
       "<style scoped>\n",
       "    .dataframe tbody tr th:only-of-type {\n",
       "        vertical-align: middle;\n",
       "    }\n",
       "\n",
       "    .dataframe tbody tr th {\n",
       "        vertical-align: top;\n",
       "    }\n",
       "\n",
       "    .dataframe thead th {\n",
       "        text-align: right;\n",
       "    }\n",
       "</style>\n",
       "<table border=\"1\" class=\"dataframe\">\n",
       "  <thead>\n",
       "    <tr style=\"text-align: right;\">\n",
       "      <th></th>\n",
       "      <th>new_cases</th>\n",
       "    </tr>\n",
       "    <tr>\n",
       "      <th>date</th>\n",
       "      <th></th>\n",
       "    </tr>\n",
       "  </thead>\n",
       "  <tbody>\n",
       "    <tr>\n",
       "      <th>2019-12-31</th>\n",
       "      <td>0.0</td>\n",
       "    </tr>\n",
       "    <tr>\n",
       "      <th>2020-01-01</th>\n",
       "      <td>0.0</td>\n",
       "    </tr>\n",
       "    <tr>\n",
       "      <th>2020-01-02</th>\n",
       "      <td>0.0</td>\n",
       "    </tr>\n",
       "    <tr>\n",
       "      <th>2020-01-03</th>\n",
       "      <td>0.0</td>\n",
       "    </tr>\n",
       "    <tr>\n",
       "      <th>2020-01-04</th>\n",
       "      <td>0.0</td>\n",
       "    </tr>\n",
       "    <tr>\n",
       "      <th>...</th>\n",
       "      <td>...</td>\n",
       "    </tr>\n",
       "    <tr>\n",
       "      <th>2020-06-29</th>\n",
       "      <td>218.0</td>\n",
       "    </tr>\n",
       "    <tr>\n",
       "      <th>2020-06-30</th>\n",
       "      <td>668.0</td>\n",
       "    </tr>\n",
       "    <tr>\n",
       "      <th>2020-07-01</th>\n",
       "      <td>286.0</td>\n",
       "    </tr>\n",
       "    <tr>\n",
       "      <th>2020-07-02</th>\n",
       "      <td>0.0</td>\n",
       "    </tr>\n",
       "    <tr>\n",
       "      <th>2020-07-03</th>\n",
       "      <td>567.0</td>\n",
       "    </tr>\n",
       "  </tbody>\n",
       "</table>\n",
       "<p>186 rows × 1 columns</p>\n",
       "</div>"
      ],
      "text/plain": [
       "            new_cases\n",
       "date                 \n",
       "2019-12-31        0.0\n",
       "2020-01-01        0.0\n",
       "2020-01-02        0.0\n",
       "2020-01-03        0.0\n",
       "2020-01-04        0.0\n",
       "...               ...\n",
       "2020-06-29      218.0\n",
       "2020-06-30      668.0\n",
       "2020-07-01      286.0\n",
       "2020-07-02        0.0\n",
       "2020-07-03      567.0\n",
       "\n",
       "[186 rows x 1 columns]"
      ]
     },
     "execution_count": 18,
     "metadata": {},
     "output_type": "execute_result"
    }
   ],
   "source": [
    "dataset = pd.read_csv('inn.csv',index_col=[0],parse_dates=[0],squeeze = True)\n",
    "dropped = ['total_cases','total_deaths','new_deaths','new_tests','population','population_density','median_age','gdp_per_capita',\n",
    "           'extreme_poverty','diabetes_prevalence','life_expectancy',\n",
    "           'day','month','year','quarter','half','bimonth', 'cod_continent','prev_cases','prev_deaths','cod_location','date_id','cvd_death_rate']\n",
    "loc_id = 35\n",
    "dataset = dataset[dataset['cod_location'] == loc_id]\n",
    "dataset.drop(dropped,inplace=True,axis=1)\n",
    "last_dt = pd.to_datetime(dataset['date'].iloc[-1])\n",
    "dataset.set_index('date')"
   ]
  },
  {
   "cell_type": "code",
   "execution_count": 19,
   "metadata": {},
   "outputs": [
    {
     "data": {
      "text/plain": [
       "Timestamp('2020-07-03 00:00:00')"
      ]
     },
     "execution_count": 19,
     "metadata": {},
     "output_type": "execute_result"
    }
   ],
   "source": [
    "type(dataset)\n",
    "series_value = dataset.values\n",
    "last_dt"
   ]
  },
  {
   "cell_type": "code",
   "execution_count": 20,
   "metadata": {},
   "outputs": [
    {
     "data": {
      "text/plain": [
       "<matplotlib.axes._subplots.AxesSubplot at 0x2623aaa9348>"
      ]
     },
     "execution_count": 20,
     "metadata": {},
     "output_type": "execute_result"
    },
    {
     "data": {
      "image/png": "[encoded data removed]",
      "text/plain": [
       "<Figure size 432x288 with 1 Axes>"
      ]
     },
     "metadata": {
      "needs_background": "light"
     },
     "output_type": "display_data"
    }
   ],
   "source": [
    "dataset.plot()"
   ]
  },
  {
   "cell_type": "code",
   "execution_count": 21,
   "metadata": {},
   "outputs": [],
   "source": [
    "f_new_cases = dataset.rolling(window = 20).mean()"
   ]
  },
  {
   "cell_type": "code",
   "execution_count": 22,
   "metadata": {},
   "outputs": [
    {
     "data": {
      "text/plain": [
       "<matplotlib.axes._subplots.AxesSubplot at 0x2623a70fdc8>"
      ]
     },
     "execution_count": 22,
     "metadata": {},
     "output_type": "execute_result"
    },
    {
     "data": {
      "image/png": "[encoded data removed]",
      "text/plain": [
       "<Figure size 432x288 with 1 Axes>"
      ]
     },
     "metadata": {
      "needs_background": "light"
     },
     "output_type": "display_data"
    },
    {
     "data": {
      "image/png": "[encoded data removed]",
      "text/plain": [
       "<Figure size 432x288 with 1 Axes>"
      ]
     },
     "metadata": {
      "needs_background": "light"
     },
     "output_type": "display_data"
    }
   ],
   "source": [
    "f_new_cases = f_new_cases[0:365]\n",
    "dataset.plot()\n",
    "f_new_cases.plot()"
   ]
  },
  {
   "cell_type": "code",
   "execution_count": 23,
   "metadata": {},
   "outputs": [
    {
     "data": {
      "text/html": [
       "<div>\n",
       "<style scoped>\n",
       "    .dataframe tbody tr th:only-of-type {\n",
       "        vertical-align: middle;\n",
       "    }\n",
       "\n",
       "    .dataframe tbody tr th {\n",
       "        vertical-align: top;\n",
       "    }\n",
       "\n",
       "    .dataframe thead th {\n",
       "        text-align: right;\n",
       "    }\n",
       "</style>\n",
       "<table border=\"1\" class=\"dataframe\">\n",
       "  <thead>\n",
       "    <tr style=\"text-align: right;\">\n",
       "      <th></th>\n",
       "      <th>Actual</th>\n",
       "      <th>Forecast</th>\n",
       "    </tr>\n",
       "  </thead>\n",
       "  <tbody>\n",
       "    <tr>\n",
       "      <th>0</th>\n",
       "      <td>0</td>\n",
       "      <td>0</td>\n",
       "    </tr>\n",
       "    <tr>\n",
       "      <th>1</th>\n",
       "      <td>0</td>\n",
       "      <td>0</td>\n",
       "    </tr>\n",
       "    <tr>\n",
       "      <th>2</th>\n",
       "      <td>0</td>\n",
       "      <td>0</td>\n",
       "    </tr>\n",
       "    <tr>\n",
       "      <th>3</th>\n",
       "      <td>0</td>\n",
       "      <td>0</td>\n",
       "    </tr>\n",
       "    <tr>\n",
       "      <th>4</th>\n",
       "      <td>0</td>\n",
       "      <td>0</td>\n",
       "    </tr>\n",
       "  </tbody>\n",
       "</table>\n",
       "</div>"
      ],
      "text/plain": [
       "  Actual Forecast\n",
       "0      0        0\n",
       "1      0        0\n",
       "2      0        0\n",
       "3      0        0\n",
       "4      0        0"
      ]
     },
     "execution_count": 23,
     "metadata": {},
     "output_type": "execute_result"
    }
   ],
   "source": [
    "value = pd.DataFrame(series_value)\n",
    "new_df = pd.concat([value, value.shift(-1)],axis=1)\n",
    "new_df.columns = ['del','Actual','del1','Forecast']\n",
    "dela = ['del','del1']\n",
    "new_df.drop(dela,inplace=True,axis=1)\n",
    "new_df.head()"
   ]
  },
  {
   "cell_type": "code",
   "execution_count": 24,
   "metadata": {},
   "outputs": [],
   "source": [
    "test = new_df[:1]\n",
    "test = test.fillna(0)\n",
    "error = mean_squared_error(test.Actual,test.Forecast)"
   ]
  },
  {
   "cell_type": "code",
   "execution_count": 25,
   "metadata": {},
   "outputs": [],
   "source": [
    "train = f_new_cases[0:330]\n",
    "train = train.fillna(0)\n",
    "test = f_new_cases[330:365]"
   ]
  },
  {
   "cell_type": "code",
   "execution_count": 26,
   "metadata": {},
   "outputs": [
    {
     "name": "stderr",
     "output_type": "stream",
     "text": [
      "C:\\Users\\FahmeDX\\anaconda3\\lib\\site-packages\\statsmodels\\tsa\\base\\tsa_model.py:214: ValueWarning: An unsupported index was provided and will be ignored when e.g. forecasting.\n",
      "  ' ignored when e.g. forecasting.', ValueWarning)\n",
      "C:\\Users\\FahmeDX\\anaconda3\\lib\\site-packages\\statsmodels\\tsa\\base\\tsa_model.py:214: ValueWarning: An unsupported index was provided and will be ignored when e.g. forecasting.\n",
      "  ' ignored when e.g. forecasting.', ValueWarning)\n"
     ]
    }
   ],
   "source": [
    "from statsmodels.tsa.arima_model import ARIMA\n",
    "model = ARIMA(train, order=(2,1,3))"
   ]
  },
  {
   "cell_type": "code",
   "execution_count": 27,
   "metadata": {},
   "outputs": [],
   "source": [
    "model_fit = model.fit()\n",
    "forecast = model_fit.forecast(steps = 10)[0]\n",
    "column_names = [\"date_id\", \"cd_local\", \"date\", \"pred_val\"]\n",
    "predicted = pd.DataFrame(columns = column_names)"
   ]
  },
  {
   "cell_type": "code",
   "execution_count": 28,
   "metadata": {},
   "outputs": [],
   "source": [
    "forecast\n",
    "for x in range(0,10):\n",
    "    new_row = {'date':last_dt + timedelta(x + 1), 'pred_val':forecast[x], 'cd_local': loc_id}\n",
    "    #append row to the dataframe\n",
    "    predicted = predicted.append(new_row, ignore_index=True)"
   ]
  },
  {
   "cell_type": "code",
   "execution_count": 29,
   "metadata": {},
   "outputs": [
    {
     "data": {
      "text/html": [
       "<div>\n",
       "<style scoped>\n",
       "    .dataframe tbody tr th:only-of-type {\n",
       "        vertical-align: middle;\n",
       "    }\n",
       "\n",
       "    .dataframe tbody tr th {\n",
       "        vertical-align: top;\n",
       "    }\n",
       "\n",
       "    .dataframe thead th {\n",
       "        text-align: right;\n",
       "    }\n",
       "</style>\n",
       "<table border=\"1\" class=\"dataframe\">\n",
       "  <thead>\n",
       "    <tr style=\"text-align: right;\">\n",
       "      <th></th>\n",
       "      <th>cd_local</th>\n",
       "      <th>pred_val</th>\n",
       "    </tr>\n",
       "    <tr>\n",
       "      <th>date_id</th>\n",
       "      <th></th>\n",
       "      <th></th>\n",
       "    </tr>\n",
       "  </thead>\n",
       "  <tbody>\n",
       "    <tr>\n",
       "      <th>20200704</th>\n",
       "      <td>35</td>\n",
       "      <td>340.833414</td>\n",
       "    </tr>\n",
       "    <tr>\n",
       "      <th>20200705</th>\n",
       "      <td>35</td>\n",
       "      <td>337.838667</td>\n",
       "    </tr>\n",
       "    <tr>\n",
       "      <th>20200706</th>\n",
       "      <td>35</td>\n",
       "      <td>336.720691</td>\n",
       "    </tr>\n",
       "    <tr>\n",
       "      <th>20200707</th>\n",
       "      <td>35</td>\n",
       "      <td>336.280573</td>\n",
       "    </tr>\n",
       "    <tr>\n",
       "      <th>20200708</th>\n",
       "      <td>35</td>\n",
       "      <td>336.109850</td>\n",
       "    </tr>\n",
       "    <tr>\n",
       "      <th>20200709</th>\n",
       "      <td>35</td>\n",
       "      <td>336.068350</td>\n",
       "    </tr>\n",
       "    <tr>\n",
       "      <th>20200710</th>\n",
       "      <td>35</td>\n",
       "      <td>336.107002</td>\n",
       "    </tr>\n",
       "    <tr>\n",
       "      <th>20200711</th>\n",
       "      <td>35</td>\n",
       "      <td>336.207709</td>\n",
       "    </tr>\n",
       "    <tr>\n",
       "      <th>20200712</th>\n",
       "      <td>35</td>\n",
       "      <td>336.362944</td>\n",
       "    </tr>\n",
       "    <tr>\n",
       "      <th>20200713</th>\n",
       "      <td>35</td>\n",
       "      <td>336.568820</td>\n",
       "    </tr>\n",
       "  </tbody>\n",
       "</table>\n",
       "</div>"
      ],
      "text/plain": [
       "         cd_local    pred_val\n",
       "date_id                      \n",
       "20200704       35  340.833414\n",
       "20200705       35  337.838667\n",
       "20200706       35  336.720691\n",
       "20200707       35  336.280573\n",
       "20200708       35  336.109850\n",
       "20200709       35  336.068350\n",
       "20200710       35  336.107002\n",
       "20200711       35  336.207709\n",
       "20200712       35  336.362944\n",
       "20200713       35  336.568820"
      ]
     },
     "execution_count": 29,
     "metadata": {},
     "output_type": "execute_result"
    }
   ],
   "source": [
    "predicted['day'] = predicted['date'].dt.day\n",
    "predicted['month'] = predicted['date'].dt.month\n",
    "predicted['year'] = predicted['date'].dt.year\n",
    "predicted.loc[predicted['month'] < 10, 'month'] = '0' + predicted['month'].map(str)\n",
    "predicted.loc[predicted['day'] < 10, 'day'] = '0' + predicted['day'].map(str)\n",
    "predicted['date_id'] = predicted['year'].map(str) + predicted['month'].map(str) + predicted['day'].map(str)\n",
    "droppd = ['day','month','year','date']\n",
    "predicted.drop(droppd,inplace=True,axis=1)\n",
    "predicted.set_index('date_id')"
   ]
  },
  {
   "cell_type": "code",
   "execution_count": 30,
   "metadata": {},
   "outputs": [],
   "source": [
    "predicted.to_csv('predict.csv')"
   ]
  },
  {
   "cell_type": "code",
   "execution_count": null,
   "metadata": {},
   "outputs": [],
   "source": []
  },
  {
   "cell_type": "code",
   "execution_count": null,
   "metadata": {},
   "outputs": [],
   "source": []
  }
 ],
 "metadata": {
  "kernelspec": {
   "display_name": "Python 3",
   "language": "python",
   "name": "python3"
  },
  "language_info": {
   "codemirror_mode": {
    "name": "ipython",
    "version": 3
   },
   "file_extension": ".py",
   "mimetype": "text/x-python",
   "name": "python",
   "nbconvert_exporter": "python",
   "pygments_lexer": "ipython3",
   "version": "3.7.6"
  }
 },
 "nbformat": 4,
 "nbformat_minor": 4
}
