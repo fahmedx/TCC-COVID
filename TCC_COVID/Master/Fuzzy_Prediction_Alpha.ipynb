{
 "cells": [
  {
   "cell_type": "code",
   "execution_count": 8,
   "metadata": {},
   "outputs": [],
   "source": [
    "import pandas as pd\n",
    "import numpy as np\n",
    "import sys\n",
    "import math \n",
    "import seaborn as sea\n",
    "import datetime as dt\n",
    "from datetime import timedelta\n",
    "from operator import itemgetter\n",
    "from functools import partial"
   ]
  },
  {
   "cell_type": "code",
   "execution_count": 9,
   "metadata": {},
   "outputs": [],
   "source": [
    "def range(init, end, step=1):\n",
    "    start = float(init)\n",
    "    stop = float(end)\n",
    "    step = float(step)\n",
    "    \n",
    "    result = [start]\n",
    "    curr = start\n",
    "    while curr < stop:\n",
    "        curr += step\n",
    "        result.append(curr)\n",
    "    return result"
   ]
  },
  {
   "cell_type": "code",
   "execution_count": 10,
   "metadata": {},
   "outputs": [],
   "source": [
    "#Funções de mebramento\n",
    "def up(a, b, x):w\n",
    "    a = float(a)\n",
    "    b = float(b)\n",
    "    x = float(x)\n",
    "    if x < a:\n",
    "        return 0\n",
    "    if x < b:\n",
    "        return (x - a) / (b - a)\n",
    "    return 1.0"
   ]
  },
  {
   "cell_type": "code",
   "execution_count": 11,
   "metadata": {},
   "outputs": [],
   "source": [
    "def down(a, b, x):\n",
    "    return 1. - up(a, b, x)"
   ]
  },
  {
   "cell_type": "code",
   "execution_count": 12,
   "metadata": {},
   "outputs": [],
   "source": [
    "def tri(a, b, x):\n",
    "    a = float(a)\n",
    "    b = float(b)\n",
    "    m = (a + b) / 2.\n",
    "    first = (x - a) / (m - a)\n",
    "    second = (b - x) / (b - m)\n",
    "    return max(min(first, second), 0.)"
   ]
  },
  {
   "cell_type": "code",
   "execution_count": 13,
   "metadata": {},
   "outputs": [],
   "source": [
    "def trap(a, b, c, d, x):\n",
    "    first = (x - a) / (b - a)\n",
    "    second = (d - x) / (d - c)\n",
    "    return max(min(first, 1., second), 0.)"
   ]
  },
  {
   "cell_type": "code",
   "execution_count": 14,
   "metadata": {},
   "outputs": [],
   "source": [
    "def edge(p, valor):\n",
    "    if not p:\n",
    "        return 0.0\n",
    "    return math.pow(valor,p)\n",
    "muito = partial(edge,2.)\n",
    "extremamente = partial(edge,3.)\n",
    "pouco = partial(edge,0.5)\n",
    "levemente = partial(edge, 1. /3.)"
   ]
  },
  {
   "cell_type": "code",
   "execution_count": 15,
   "metadata": {},
   "outputs": [],
   "source": [
    "def fuzzyficacao(dominio,tipo):\n",
    "    domin_sz = float(len(dominio))\n",
    "    delta = lambda x: x if (x < 0.5) else (1.0 - x)\n",
    "    result = (2. / domin_sz) \n",
    "    return result"
   ]
  },
  {
   "cell_type": "code",
   "execution_count": 16,
   "metadata": {},
   "outputs": [],
   "source": [
    "def aprox(fuzzy, n, dominio):\n",
    "    hw = fuzzy * (max(dominio) - min(dominio))\n",
    "    return  partial(tri, n - hw, n + hw)"
   ]
  },
  {
   "cell_type": "code",
   "execution_count": 17,
   "metadata": {},
   "outputs": [],
   "source": [
    "########################USAR PARA TESTES, DEPOIS SUBSTITUIR PELOS DADOS DO DATASET#############################################\n",
    "companies = [\n",
    "    ('a', 500, 7), ('b', 600, -9), ('c', 800, 17),\n",
    "    ('d', 850, 12), ('e', 900, -11), ('f', 1000, 15),\n",
    "    ('g', 1100, 14), ('h', 1200, 1), ('i', 1300, -2),\n",
    "    ('j', 1400, -6), ('k', 1500, 12)\n",
    "]\n",
    "profit = itemgetter(2)\n",
    "sales = itemgetter(1)\n",
    "\n",
    "percentages = map(float, range(-10, 30, 1))\n",
    "profitable = partial(up, 1., 15.)\n",
    "high = partial(up, 600., 1150.)\n",
    "\n",
    "fand = min\n",
    "\n",
    "def filtro(predicado, itens):\n",
    "    snd = itemgetter(1)\n",
    "    return filtro(\n",
    "        lambda x: snd(x) != 0.0,\n",
    "        map(predicado, itens)\n",
    "    )\n",
    "\n",
    "def p1(company):\n",
    "    value = profitable(profitable(profit(company)))\n",
    "    return (company, fand(value,1))\n",
    "\n",
    "def p2(company):\n",
    "    a = profitable(profit(company))\n",
    "    b = high(sales(company))\n",
    "    return (company,fand(a,b))\n",
    "\n",
    "def p3(company):\n",
    "    a = somewhat(profitable(profit(company)))\n",
    "    b = very(high(sales(company)))\n",
    "    return (company,fand(a,b))\n",
    "\n",
    "# exemplo \n",
    "sizes = range(4,13,0.5)\n",
    "\n",
    "short = partial(down, 1.5, 1.625)\n",
    "medium = partial(tri, 1.525, 1.775)\n",
    "tall = partial(tri, 1.675, 1.925)\n",
    "very_tall = partial(up, 1.825, 1.95)\n",
    "\n",
    "def small(size):\n",
    "    return down(4., 6., size)\n",
    "\n",
    "\n",
    "#average = partial(tri, 5., 9.)\n",
    "def average(size):\n",
    "    return tri(5., 9., size)\n",
    "\n",
    "\n",
    "#big = partial(tri, 8., 12.)\n",
    "def big(size):\n",
    "    return tri(8., 12., size)\n",
    "\n",
    "\n",
    "#very_big = partial(up, 11., 13.)\n",
    "def very_big(size):\n",
    "    return up(11., 13., size)\n",
    "\n",
    "#fl.near(20, fl.range(0, 40, 1))(17.5)\n",
    "near = partial(aprox, 0.125)\n",
    "around = partial(aprox, 0.25)\n",
    "roughly = partial(aprox, 0.375)\n",
    "\n",
    "\n",
    "rules = [\n",
    "    (short, small),\n",
    "    (medium, average),\n",
    "    (tall, big),\n",
    "    (very_tall, very_big)\n",
    "]\n",
    "################################################################################################################################"
   ]
  },
  {
   "cell_type": "code",
   "execution_count": 18,
   "metadata": {},
   "outputs": [],
   "source": [
    "def func_att(val,func, sz):\n",
    "    prim = func(sz)\n",
    "    return (val * prim)"
   ]
  },
  {
   "cell_type": "code",
   "execution_count": 19,
   "metadata": {},
   "outputs": [],
   "source": [
    "def regra_base(altura):\n",
    "    atualizado = []\n",
    "    for funcao_input, output in rules:\n",
    "        val = funcao_input(altura)\n",
    "        atualizado.append(partial(func_att,val,output))\n",
    "    funcao_regrabase = lambda s: sum([r(s) for r in atualizado])\n",
    "    return funcao_regrabase"
   ]
  },
  {
   "cell_type": "code",
   "execution_count": 20,
   "metadata": {},
   "outputs": [],
   "source": [
    "def centroide(dominio, funcao_pertinencia):\n",
    "    fdom = map(funcao_pertinencia,dominio)\n",
    "    prim = sum([a * b for (a,b) in zip(dominio, fdom)])\n",
    "    ult = sum(fdom)\n",
    "    return prim / ult"
   ]
  },
  {
   "cell_type": "code",
   "execution_count": 21,
   "metadata": {},
   "outputs": [],
   "source": [
    "## aa \n",
    "def exemplo_sapato(h):\n",
    "    result = centroide(sizes,regra_base(h))\n",
    "    return result"
   ]
  },
  {
   "cell_type": "code",
   "execution_count": 22,
   "metadata": {},
   "outputs": [],
   "source": [
    "def exemplo_centroide():\n",
    "    dominio = map(float, range(0,10))\n",
    "    funcao_pertinencia = partial(trap, 2, 3, 6, 9)\n",
    "    return centroid(dominio, funcao_perinencia)"
   ]
  },
  {
   "cell_type": "code",
   "execution_count": 23,
   "metadata": {},
   "outputs": [],
   "source": [
    "def mand(func, val):\n",
    "    return min([func(val) for func in funcs])"
   ]
  },
  {
   "cell_type": "code",
   "execution_count": 24,
   "metadata": {},
   "outputs": [],
   "source": [
    "def exemplo_preco(cost= 13.25, comp_price=29.99):\n",
    "    preco = range(15.,35.,0.5)\n",
    "    high = partial(up,15.,35.)\n",
    "    low = lambda p: 1- very(high(v))\n",
    "    preco1 = centroide(preco,partial(mand, [high, low]))\n",
    "    preco2 = centroide(preco,partial(mand, [high, low, around(2.0 * man_costs, prices)]),)\n",
    "    preco3 = centroide(\n",
    "        preco,\n",
    "        partial(\n",
    "            mand, [\n",
    "                high, low, around(2.0 * man_costs, prices),\n",
    "                lambda p: not_very(comp_price) * around(comp_price,prices)(p)\n",
    "            ]\n",
    "        )\n",
    "    )\n",
    "    return preco1, preco2, preco3\n",
    "    #print preco1,preco2,preco3"
   ]
  },
  {
   "cell_type": "code",
   "execution_count": 25,
   "metadata": {},
   "outputs": [
    {
     "ename": "ZeroDivisionError",
     "evalue": "float division by zero",
     "output_type": "error",
     "traceback": [
      "\u001b[1;31m---------------------------------------------------------------------------\u001b[0m",
      "\u001b[1;31mZeroDivisionError\u001b[0m                         Traceback (most recent call last)",
      "\u001b[1;32m<ipython-input-25-266574bfb33b>\u001b[0m in \u001b[0;36m<module>\u001b[1;34m\u001b[0m\n\u001b[0;32m      1\u001b[0m \u001b[1;32mif\u001b[0m \u001b[0m__name__\u001b[0m \u001b[1;33m==\u001b[0m \u001b[1;34m'__main__'\u001b[0m\u001b[1;33m:\u001b[0m\u001b[1;33m\u001b[0m\u001b[1;33m\u001b[0m\u001b[0m\n\u001b[0;32m      2\u001b[0m     \u001b[0mheight\u001b[0m \u001b[1;33m=\u001b[0m \u001b[0mfloat\u001b[0m\u001b[1;33m(\u001b[0m\u001b[1;36m1.75\u001b[0m\u001b[1;33m)\u001b[0m\u001b[1;33m\u001b[0m\u001b[1;33m\u001b[0m\u001b[0m\n\u001b[1;32m----> 3\u001b[1;33m     \u001b[0msize\u001b[0m \u001b[1;33m=\u001b[0m \u001b[0mexemplo_sapato\u001b[0m\u001b[1;33m(\u001b[0m\u001b[0mheight\u001b[0m\u001b[1;33m)\u001b[0m\u001b[1;33m\u001b[0m\u001b[1;33m\u001b[0m\u001b[0m\n\u001b[0m\u001b[0;32m      4\u001b[0m     \u001b[0mprint\u001b[0m\u001b[1;33m(\u001b[0m\u001b[1;34m'For height of %.2f the shoe size is %.2f'\u001b[0m \u001b[1;33m%\u001b[0m \u001b[1;33m(\u001b[0m\u001b[0mheight\u001b[0m\u001b[1;33m,\u001b[0m \u001b[0msize\u001b[0m\u001b[1;33m)\u001b[0m\u001b[1;33m)\u001b[0m\u001b[1;33m\u001b[0m\u001b[1;33m\u001b[0m\u001b[0m\n\u001b[0;32m      5\u001b[0m     \u001b[0mprice_example\u001b[0m\u001b[1;33m(\u001b[0m\u001b[1;33m)\u001b[0m\u001b[1;33m\u001b[0m\u001b[1;33m\u001b[0m\u001b[0m\n",
      "\u001b[1;32m<ipython-input-21-40a91fcb4553>\u001b[0m in \u001b[0;36mexemplo_sapato\u001b[1;34m(h)\u001b[0m\n\u001b[0;32m      1\u001b[0m \u001b[1;31m## aa\u001b[0m\u001b[1;33m\u001b[0m\u001b[1;33m\u001b[0m\u001b[1;33m\u001b[0m\u001b[0m\n\u001b[0;32m      2\u001b[0m \u001b[1;32mdef\u001b[0m \u001b[0mexemplo_sapato\u001b[0m\u001b[1;33m(\u001b[0m\u001b[0mh\u001b[0m\u001b[1;33m)\u001b[0m\u001b[1;33m:\u001b[0m\u001b[1;33m\u001b[0m\u001b[1;33m\u001b[0m\u001b[0m\n\u001b[1;32m----> 3\u001b[1;33m     \u001b[0mresult\u001b[0m \u001b[1;33m=\u001b[0m \u001b[0mcentroide\u001b[0m\u001b[1;33m(\u001b[0m\u001b[0msizes\u001b[0m\u001b[1;33m,\u001b[0m\u001b[0mregra_base\u001b[0m\u001b[1;33m(\u001b[0m\u001b[0mh\u001b[0m\u001b[1;33m)\u001b[0m\u001b[1;33m)\u001b[0m\u001b[1;33m\u001b[0m\u001b[1;33m\u001b[0m\u001b[0m\n\u001b[0m\u001b[0;32m      4\u001b[0m     \u001b[1;32mreturn\u001b[0m \u001b[0mresult\u001b[0m\u001b[1;33m\u001b[0m\u001b[1;33m\u001b[0m\u001b[0m\n",
      "\u001b[1;32m<ipython-input-20-cb596af46e75>\u001b[0m in \u001b[0;36mcentroide\u001b[1;34m(dominio, funcao_pertinencia)\u001b[0m\n\u001b[0;32m      3\u001b[0m     \u001b[0mprim\u001b[0m \u001b[1;33m=\u001b[0m \u001b[0msum\u001b[0m\u001b[1;33m(\u001b[0m\u001b[1;33m[\u001b[0m\u001b[0ma\u001b[0m \u001b[1;33m*\u001b[0m \u001b[0mb\u001b[0m \u001b[1;32mfor\u001b[0m \u001b[1;33m(\u001b[0m\u001b[0ma\u001b[0m\u001b[1;33m,\u001b[0m\u001b[0mb\u001b[0m\u001b[1;33m)\u001b[0m \u001b[1;32min\u001b[0m \u001b[0mzip\u001b[0m\u001b[1;33m(\u001b[0m\u001b[0mdominio\u001b[0m\u001b[1;33m,\u001b[0m \u001b[0mfdom\u001b[0m\u001b[1;33m)\u001b[0m\u001b[1;33m]\u001b[0m\u001b[1;33m)\u001b[0m\u001b[1;33m\u001b[0m\u001b[1;33m\u001b[0m\u001b[0m\n\u001b[0;32m      4\u001b[0m     \u001b[0mult\u001b[0m \u001b[1;33m=\u001b[0m \u001b[0msum\u001b[0m\u001b[1;33m(\u001b[0m\u001b[0mfdom\u001b[0m\u001b[1;33m)\u001b[0m\u001b[1;33m\u001b[0m\u001b[1;33m\u001b[0m\u001b[0m\n\u001b[1;32m----> 5\u001b[1;33m     \u001b[1;32mreturn\u001b[0m \u001b[0mprim\u001b[0m \u001b[1;33m/\u001b[0m \u001b[0mult\u001b[0m\u001b[1;33m\u001b[0m\u001b[1;33m\u001b[0m\u001b[0m\n\u001b[0m",
      "\u001b[1;31mZeroDivisionError\u001b[0m: float division by zero"
     ]
    }
   ],
   "source": [
    "if __name__ == '__main__':\n",
    "    height = float(1.75)\n",
    "    size = exemplo_sapato(height)\n",
    "    print('For height of %.2f the shoe size is %.2f' % (height, size))\n",
    "    price_example()"
   ]
  },
  {
   "cell_type": "code",
   "execution_count": null,
   "metadata": {},
   "outputs": [],
   "source": []
  },
  {
   "cell_type": "code",
   "execution_count": null,
   "metadata": {},
   "outputs": [],
   "source": []
  },
  {
   "cell_type": "code",
   "execution_count": null,
   "metadata": {},
   "outputs": [],
   "source": []
  }
 ],
 "metadata": {
  "kernelspec": {
   "display_name": "Python 3",
   "language": "python",
   "name": "python3"
  },
  "language_info": {
   "codemirror_mode": {
    "name": "ipython",
    "version": 3
   },
   "file_extension": ".py",
   "mimetype": "text/x-python",
   "name": "python",
   "nbconvert_exporter": "python",
   "pygments_lexer": "ipython3",
   "version": "3.7.6"
  }
 },
 "nbformat": 4,
 "nbformat_minor": 4
}
