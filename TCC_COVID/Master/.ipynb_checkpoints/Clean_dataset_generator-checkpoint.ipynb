{
 "cells": [
  {
   "cell_type": "code",
   "execution_count": 26,
   "metadata": {},
   "outputs": [],
   "source": [
    "import pandas as pd\n",
    "import numpy as np\n",
    "import seaborn as sea\n",
    "import datetime as dt\n",
    "from datetime import timedelta"
   ]
  },
  {
   "cell_type": "code",
   "execution_count": 27,
   "metadata": {},
   "outputs": [],
   "source": [
    "coronga = pd.read_csv('base.csv')"
   ]
  },
  {
   "cell_type": "code",
   "execution_count": 28,
   "metadata": {},
   "outputs": [
    {
     "data": {
      "text/plain": [
       "Index(['iso_code', 'continent', 'location', 'date', 'total_cases', 'new_cases',\n",
       "       'total_deaths', 'new_deaths', 'total_cases_per_million',\n",
       "       'new_cases_per_million', 'total_deaths_per_million',\n",
       "       'new_deaths_per_million', 'new_tests', 'total_tests',\n",
       "       'total_tests_per_thousand', 'new_tests_per_thousand',\n",
       "       'new_tests_smoothed', 'new_tests_smoothed_per_thousand',\n",
       "       'tests_per_case', 'positive_rate', 'tests_units', 'stringency_index',\n",
       "       'population', 'population_density', 'median_age', 'aged_65_older',\n",
       "       'aged_70_older', 'gdp_per_capita', 'extreme_poverty',\n",
       "       'cardiovasc_death_rate', 'diabetes_prevalence', 'female_smokers',\n",
       "       'male_smokers', 'handwashing_facilities', 'hospital_beds_per_thousand',\n",
       "       'life_expectancy'],\n",
       "      dtype='object')"
      ]
     },
     "execution_count": 28,
     "metadata": {},
     "output_type": "execute_result"
    }
   ],
   "source": [
    "coronga.columns"
   ]
  },
  {
   "cell_type": "code",
   "execution_count": 29,
   "metadata": {},
   "outputs": [],
   "source": [
    "coronga = coronga.fillna({'continent':\"No Continent\",'total_cases':0, 'new_cases':0,\n",
    "       'total_deaths':0, 'new_deaths':0, 'population':0, 'population_density':0,\n",
    "       'median_age':0,'new_tests':0,'median_age':50,'life_expectancy':0,'positive_rate':0,'tests_per_case':0,'positive_rate':0})\n",
    "\n",
    "#Criação de Colunas novas em relação à datas\n",
    "coronga['date'] = pd.to_datetime(coronga['date'])\n",
    "coronga['day'] = coronga['date'].dt.day\n",
    "coronga['month'] = coronga['date'].dt.month\n",
    "coronga['year'] = coronga['date'].dt.year\n",
    "\n",
    "\n",
    "#Trimestre,Semestre,bimestre\n",
    "coronga['quarter'] = coronga['date'].dt.quarter\n",
    "coronga['half'] = np.where(coronga['month']>6, 2, 1)\n",
    "#Condições\n",
    "cond = [\n",
    "    (coronga['month'] <= 2),\n",
    "    (coronga['month'] > 2) & (coronga['month'] <= 4),\n",
    "    (coronga['month'] > 4) & (coronga['month'] <= 6),\n",
    "    (coronga['month'] > 6) & (coronga['month'] <= 8),\n",
    "    (coronga['month'] > 8) & (coronga['month'] <= 10),\n",
    "    (coronga['month'] > 10)\n",
    "    ]\n",
    "\n",
    "# Lista de valores para cada condição\n",
    "vl = [1,2,3,4,5,6]\n",
    "\n",
    "# Nova coluna baseada nos valores anteriores\n",
    "coronga['bimonth'] = np.select(cond, vl)\n",
    "\n",
    "coronga.loc[coronga['month'] < 10, 'month'] = '0' + coronga['month'].map(str)\n",
    "coronga.loc[coronga['day'] < 10, 'day'] = '0' + coronga['day'].map(str)\n",
    "coronga['date_id'] = coronga['year'].map(str) + coronga['month'].map(str) + coronga['day'].map(str)\n",
    "\n",
    "\n",
    "#Criando Codigos para as Categoricas\n",
    "coronga['continent'] = coronga['continent'].astype('category')\n",
    "# Criando os codigos de Continente\n",
    "coronga['cod_continent'] = coronga['continent'].cat.codes\n",
    "coronga['location'] = coronga['location'].astype('category')\n",
    "# Criando os codigos de Local\n",
    "coronga['cod_location'] = coronga['location'].cat.codes\n",
    "\n",
    "#exportar Tabelas relacionadas.\n",
    "local = coronga['location']\n",
    "continentes = coronga['continent']\n",
    "cd_local = coronga['cod_location']\n",
    "cd_continentes = coronga['cod_continent']\n",
    "cd_date = coronga['date_id']\n",
    "date = coronga['date']\n",
    "data_local = {'cod':cd_local.unique(),\n",
    "              'location':local.unique()}\n",
    "data_continent = {'cod':cd_continentes.unique(),\n",
    "              'continent':continentes.unique()}\n",
    "data_date = {'sk_date':cd_date.unique(),\n",
    "             'date':date.unique()}\n",
    "df_local = pd.DataFrame(data_local)\n",
    "df_continent = pd.DataFrame(data_continent)\n",
    "df_date = pd.DataFrame(data_date)\n",
    "\n",
    "last_dt = pd.to_datetime(df_date['date'].iloc[-1])\n",
    "for x in range(0,10):\n",
    "    new_row = {'date':last_dt + timedelta(x+1)}\n",
    "    df_date = df_date.append(new_row, ignore_index=True)\n",
    "    \n",
    "df_date['day'] = df_date['date'].dt.day\n",
    "df_date['month'] = df_date['date'].dt.month\n",
    "df_date['year'] = df_date['date'].dt.year\n",
    "df_date.loc[df_date['month'] < 10, 'month'] = '0' + df_date['month'].map(str)\n",
    "df_date.loc[df_date['day'] < 10, 'day'] = '0' + df_date['day'].map(str)\n",
    "df_date['date_id'] = df_date['year'].map(str) + df_date['month'].map(str) + df_date['day'].map(str)\n",
    "droppd = ['day','month','year']\n",
    "df_date.drop(droppd,inplace=True,axis=1)\n",
    "    \n",
    "df_local.to_csv('local.csv')\n",
    "df_continent.to_csv('continentes.csv')\n",
    "df_date.to_csv('dtime.csv')\n",
    "\n",
    "#Criação de colunas previous Cases and Deaths\n",
    "coronga['prev_cases'] = coronga.groupby('cod_location')['new_cases'].shift(-1)\n",
    "coronga['prev_deaths'] = coronga.groupby('cod_location')['new_deaths'].shift(-1)"
   ]
  },
  {
   "cell_type": "code",
   "execution_count": 30,
   "metadata": {},
   "outputs": [],
   "source": [
    "#droppagem de colunas não utilizaveis\n",
    "dropped = ['iso_code','total_cases_per_million','new_cases_per_million','total_deaths_per_million',\n",
    "       'new_deaths_per_million', 'total_tests',\n",
    "       'total_tests_per_thousand', 'new_tests_per_thousand',\n",
    "       'new_tests_smoothed', 'new_tests_smoothed_per_thousand', 'tests_units',\n",
    "       'stringency_index', 'aged_65_older', 'aged_70_older', 'female_smokers',\n",
    "       'male_smokers', 'handwashing_facilities', 'hospital_beds_per_thousand','continent','location']\n",
    "dropped2 = ['date']"
   ]
  },
  {
   "cell_type": "code",
   "execution_count": 31,
   "metadata": {},
   "outputs": [],
   "source": [
    "coronga.drop(dropped,inplace=True,axis=1)\n",
    "coronga.to_csv('inn.csv')\n",
    "coronga.drop(dropped2,inplace=True,axis=1)\n",
    "coronga = coronga.fillna(0)"
   ]
  },
  {
   "cell_type": "code",
   "execution_count": 32,
   "metadata": {},
   "outputs": [
    {
     "data": {
      "text/plain": [
       "<matplotlib.axes._subplots.AxesSubplot at 0x23f797606c8>"
      ]
     },
     "execution_count": 32,
     "metadata": {},
     "output_type": "execute_result"
    },
    {
     "data": {
      "image/png": "[encoded data removed]",
      "text/plain": [
       "<Figure size 432x288 with 1 Axes>"
      ]
     },
     "metadata": {
      "needs_background": "light"
     },
     "output_type": "display_data"
    }
   ],
   "source": [
    "sea.heatmap(coronga.isnull(),yticklabels=False,cbar=False,cmap='viridis')"
   ]
  },
  {
   "cell_type": "code",
   "execution_count": 33,
   "metadata": {},
   "outputs": [],
   "source": [
    "#Saida em .csv\n",
    "coronga.to_csv('in.csv')"
   ]
  },
  {
   "cell_type": "code",
   "execution_count": null,
   "metadata": {},
   "outputs": [],
   "source": []
  }
 ],
 "metadata": {
  "kernelspec": {
   "display_name": "Python 3",
   "language": "python",
   "name": "python3"
  },
  "language_info": {
   "codemirror_mode": {
    "name": "ipython",
    "version": 3
   },
   "file_extension": ".py",
   "mimetype": "text/x-python",
   "name": "python",
   "nbconvert_exporter": "python",
   "pygments_lexer": "ipython3",
   "version": "3.7.6"
  }
 },
 "nbformat": 4,
 "nbformat_minor": 4
}
