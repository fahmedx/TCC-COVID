{
 "cells": [
  {
   "cell_type": "code",
   "execution_count": 53,
   "metadata": {},
   "outputs": [],
   "source": [
    "import pandas as pd\n",
    "import numpy as np\n",
    "import import_ipynb\n",
    "import sys\n",
    "import math \n",
    "import seaborn as sea\n",
    "import datetime as dt\n",
    "import Fuzzy_Prediction_Beta as fz\n",
    "from datetime import timedelta\n",
    "from operator import itemgetter\n",
    "from functools import partial\n",
    "url = \"in.csv\""
   ]
  },
  {
   "cell_type": "code",
   "execution_count": 54,
   "metadata": {},
   "outputs": [],
   "source": [
    "dataset = pd.read_csv(url, error_bad_lines=False)"
   ]
  },
  {
   "cell_type": "code",
   "execution_count": 55,
   "metadata": {},
   "outputs": [],
   "source": [
    "selected = dataset[['cod_location','date_id','total_cases']]"
   ]
  },
  {
   "cell_type": "code",
   "execution_count": 56,
   "metadata": {},
   "outputs": [],
   "source": [
    "selected = selected.groupby('cod_location').tail(15)"
   ]
  },
  {
   "cell_type": "code",
   "execution_count": 57,
   "metadata": {},
   "outputs": [],
   "source": [
    "selected.head()\n",
    "#Input na rede neural\n",
    "selected.to_csv('input.csv')"
   ]
  },
  {
   "cell_type": "code",
   "execution_count": 58,
   "metadata": {},
   "outputs": [],
   "source": [
    "def aver(input):\n",
    "    medias = input.groupby('cod_location')['total_cases'].apply(lambda x: x.tail(15).mean())\n",
    "    return medias"
   ]
  },
  {
   "cell_type": "code",
   "execution_count": 59,
   "metadata": {},
   "outputs": [],
   "source": [
    "def diff(input):\n",
    "    difference = input.groupby('cod_location')['total_cases'].apply(lambda x: x.tail(1).values[0] - x.head(1).values[0])\n",
    "    return difference"
   ]
  },
  {
   "cell_type": "code",
   "execution_count": 60,
   "metadata": {},
   "outputs": [],
   "source": [
    "def first(input):\n",
    "    first = selected.groupby('cod_location')['total_cases'].apply(lambda x: x.head(1).values[0])\n",
    "    return first"
   ]
  },
  {
   "cell_type": "code",
   "execution_count": 61,
   "metadata": {},
   "outputs": [],
   "source": [
    "def last(input):\n",
    "    last = selected.groupby('cod_location')['total_cases'].apply(lambda x: x.tail(1).values[0])\n",
    "    return last"
   ]
  },
  {
   "cell_type": "code",
   "execution_count": 62,
   "metadata": {},
   "outputs": [],
   "source": [
    "def param(last,diffe):\n",
    "    param = last + diffe\n",
    "    return param"
   ]
  },
  {
   "cell_type": "code",
   "execution_count": 63,
   "metadata": {},
   "outputs": [],
   "source": [
    "def fuzzifyErrorsPos(erro, media):\n",
    "    return fz.trapezio(erro, [(media + ((media * 26) / 100)), (media + ((media * 50) / 100)), (media + ((media * 80) / 100)), (media + ((media * 80) / 100))])"
   ]
  },
  {
   "cell_type": "code",
   "execution_count": 64,
   "metadata": {},
   "outputs": [],
   "source": [
    "def fuzzifyErrorPos(erro, media):\n",
    "    return fz.triangulo(erro, [(media + ((media * 8) / 100)), (media + ((media * 18) / 100)), (media + ((media * 28) / 100))])"
   ]
  },
  {
   "cell_type": "code",
   "execution_count": 65,
   "metadata": {},
   "outputs": [],
   "source": [
    "def fuzzifyErrorZ(erro, media):\n",
    "    return fz.triangulo(erro, [(media - ((media * 10) / 100)), media, (media + ((media * 10) / 100))])"
   ]
  },
  {
   "cell_type": "code",
   "execution_count": 66,
   "metadata": {},
   "outputs": [],
   "source": [
    "def fuzzifyErrorNeg(erro, media):\n",
    "    return fz.triangulo(erro, [(media - ((media * 28) / 100)), (media - ((media * 18) / 100)), (media - ((media * 8) / 100))])"
   ]
  },
  {
   "cell_type": "code",
   "execution_count": 67,
   "metadata": {},
   "outputs": [],
   "source": [
    "def fuzzifyErrorsNeg(erro, media):\n",
    "    return fz.trapezio(erro, [0, 0, (media - ((media * 50) / 100)), (media - ((media * 26) / 100))])"
   ]
  },
  {
   "cell_type": "code",
   "execution_count": 68,
   "metadata": {},
   "outputs": [],
   "source": [
    "def verifRegras(erro, media):\n",
    "    regras = [[0] * 5 for i in range(5)]\n",
    "    \n",
    "    fuzzifyErrorsNega = fuzzifyErrorsNeg(erro, media)\n",
    "    fuzzifyErrorNega = fuzzifyErrorNeg(erro, media)\n",
    "    fuzzifyErrorZe = fuzzifyErrorZ(erro, media)\n",
    "    fuzzifyErrorPosi = fuzzifyErrorPos(erro, media)\n",
    "    fuzzifyErrorsPosi = fuzzifyErrorsPos(erro, media)\n",
    "    \n",
    "    regras[0] = fuzzifyErrorsNega\n",
    "    regras[1] = fuzzifyErrorNega\n",
    "    regras[2] = fuzzifyErrorZe    \n",
    "    regras[3] = fuzzifyErrorPosi    \n",
    "    regras[4] = fuzzifyErrorsPosi\n",
    "    \n",
    "    return regras"
   ]
  },
  {
   "cell_type": "code",
   "execution_count": 69,
   "metadata": {},
   "outputs": [],
   "source": [
    "media = aver(selected)\n",
    "diffe = diff(selected)\n",
    "first = first(selected)\n",
    "last = last(selected)\n",
    "param = last + diffe\n",
    "maximus = max(selected['total_cases'])"
   ]
  },
  {
   "cell_type": "code",
   "execution_count": 70,
   "metadata": {},
   "outputs": [],
   "source": [
    "fuzzy_data = pd.DataFrame()"
   ]
  },
  {
   "cell_type": "code",
   "execution_count": 71,
   "metadata": {},
   "outputs": [],
   "source": [
    "## Códigos: 0-Queda Brusca 1-Queda 2-Platô 3-Subida 4-Subida Brusca\n",
    "for i in range(212):\n",
    "    Regras = verifRegras(param[i], media[i])\n",
    "    prev = fz.getOutput(np.argmax(Regras))\n",
    "    per  = fz.getPercentage(Regras)\n",
    "    #centroide = fz.getCentroid(prev,Regras,per,maximus)\n",
    "    fuzzy_data = fuzzy_data.append({'cd_local':i,'id_caso_prev':prev,'percent':per},ignore_index=True)\n",
    "    fuzzy_data['cd_local'] = fuzzy_data['cd_local'].astype(int)\n",
    "    fuzzy_data['id_caso_prev'] = fuzzy_data['id_caso_prev'].astype(int)\n"
   ]
  },
  {
   "cell_type": "code",
   "execution_count": 72,
   "metadata": {},
   "outputs": [],
   "source": [
    "fuzzy_data.to_csv('predict.csv', sep=';', decimal=',')"
   ]
  },
  {
   "cell_type": "code",
   "execution_count": null,
   "metadata": {},
   "outputs": [],
   "source": []
  },
  {
   "cell_type": "code",
   "execution_count": null,
   "metadata": {},
   "outputs": [],
   "source": []
  }
 ],
 "metadata": {
  "kernelspec": {
   "display_name": "Python 3",
   "language": "python",
   "name": "python3"
  },
  "language_info": {
   "codemirror_mode": {
    "name": "ipython",
    "version": 3
   },
   "file_extension": ".py",
   "mimetype": "text/x-python",
   "name": "python",
   "nbconvert_exporter": "python",
   "pygments_lexer": "ipython3",
   "version": "3.7.6"
  }
 },
 "nbformat": 4,
 "nbformat_minor": 4
}
