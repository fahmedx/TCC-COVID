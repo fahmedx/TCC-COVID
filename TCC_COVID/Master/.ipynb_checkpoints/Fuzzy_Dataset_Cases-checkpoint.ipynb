{
 "cells": [
  {
   "cell_type": "code",
   "execution_count": 19,
   "metadata": {},
   "outputs": [],
   "source": [
    "import pandas as pd\n",
    "import numpy as np\n",
    "import import_ipynb\n",
    "import sys\n",
    "import math \n",
    "import seaborn as sea\n",
    "import datetime as dt\n",
    "import Fuzzy_Prediction_Beta as fz\n",
    "from datetime import timedelta\n",
    "from operator import itemgetter\n",
    "from functools import partial\n",
    "url = \"in.csv\""
   ]
  },
  {
   "cell_type": "code",
   "execution_count": 20,
   "metadata": {},
   "outputs": [],
   "source": [
    "dataset = pd.read_csv(url, error_bad_lines=False)"
   ]
  },
  {
   "cell_type": "code",
   "execution_count": 21,
   "metadata": {},
   "outputs": [],
   "source": [
    "selected = dataset[['cod_location','date_id','total_cases']]"
   ]
  },
  {
   "cell_type": "code",
   "execution_count": 22,
   "metadata": {},
   "outputs": [],
   "source": [
    "selected = selected.groupby('cod_location').tail(5)"
   ]
  },
  {
   "cell_type": "code",
   "execution_count": 23,
   "metadata": {},
   "outputs": [],
   "source": [
    "selected.head()\n",
    "#Input na rede neural\n",
    "selected.to_csv('input.csv')"
   ]
  },
  {
   "cell_type": "code",
   "execution_count": 24,
   "metadata": {},
   "outputs": [],
   "source": [
    "def aver(input):\n",
    "    medias = input.groupby('cod_location')['total_cases'].apply(lambda x: x.tail(5).mean())\n",
    "    return medias"
   ]
  },
  {
   "cell_type": "code",
   "execution_count": 25,
   "metadata": {},
   "outputs": [],
   "source": [
    "def diff(input):\n",
    "    difference = input.groupby('cod_location')['total_cases'].apply(lambda x: x.tail(1).values[0] - x.head(1).values[0])\n",
    "    return difference"
   ]
  },
  {
   "cell_type": "code",
   "execution_count": 26,
   "metadata": {},
   "outputs": [],
   "source": [
    "def first(input):\n",
    "    first = selected.groupby('cod_location')['total_cases'].apply(lambda x: x.head(1).values[0])\n",
    "    return first"
   ]
  },
  {
   "cell_type": "code",
   "execution_count": 27,
   "metadata": {},
   "outputs": [],
   "source": [
    "def last(input):\n",
    "    last = selected.groupby('cod_location')['total_cases'].apply(lambda x: x.tail(1).values[0])\n",
    "    return last"
   ]
  },
  {
   "cell_type": "code",
   "execution_count": 28,
   "metadata": {},
   "outputs": [],
   "source": [
    "def param(last,diffe):\n",
    "    param = last + diffe\n",
    "    return param"
   ]
  },
  {
   "cell_type": "code",
   "execution_count": 29,
   "metadata": {},
   "outputs": [],
   "source": [
    "def fuzzifyErrorsPos(erro, media):\n",
    "    return fz.trapezio(erro, [(media + ((media * 20) / 100)), (media + ((media * 50) / 100)), (media + ((media * 80) / 100)), (media + ((media * 80) / 100))])"
   ]
  },
  {
   "cell_type": "code",
   "execution_count": 30,
   "metadata": {},
   "outputs": [],
   "source": [
    "def fuzzifyErrorPos(erro, media):\n",
    "    return fz.triangulo(erro, [(media + ((media * 2) / 100)), (media + ((media * 10) / 100)), (media + ((media * 25) / 100))])"
   ]
  },
  {
   "cell_type": "code",
   "execution_count": 31,
   "metadata": {},
   "outputs": [],
   "source": [
    "def fuzzifyErrorZ(erro, media):\n",
    "    return fz.triangulo(erro, [(media - ((media * 3) / 100)), media, (media + ((media * 3) / 100))])"
   ]
  },
  {
   "cell_type": "code",
   "execution_count": 32,
   "metadata": {},
   "outputs": [],
   "source": [
    "def fuzzifyErrorNeg(erro, media):\n",
    "    return fz.triangulo(erro, [(media - ((media * 25) / 100)), (media - ((media * 10) / 100)), (media - ((media * 2) / 100))])"
   ]
  },
  {
   "cell_type": "code",
   "execution_count": 33,
   "metadata": {},
   "outputs": [],
   "source": [
    "def fuzzifyErrorsNeg(erro, media):\n",
    "    return fz.trapezio(erro, [0, 0, (media - ((media * 60) / 100)), (media - ((media * 20) / 100))])"
   ]
  },
  {
   "cell_type": "code",
   "execution_count": 34,
   "metadata": {},
   "outputs": [],
   "source": [
    "def verifRegras(erro, media):\n",
    "    regras = [[0] * 5 for i in range(5)]\n",
    "    \n",
    "    fuzzifyErrorsNega = fuzzifyErrorsNeg(erro, media)\n",
    "    fuzzifyErrorNega = fuzzifyErrorNeg(erro, media)\n",
    "    fuzzifyErrorZe = fuzzifyErrorZ(erro, media)\n",
    "    fuzzifyErrorPosi = fuzzifyErrorPos(erro, media)\n",
    "    fuzzifyErrorsPosi = fuzzifyErrorsPos(erro, media)\n",
    "    \n",
    "    regras[0] = fuzzifyErrorsNega\n",
    "    regras[1] = fuzzifyErrorNega\n",
    "    regras[2] = fuzzifyErrorZe    \n",
    "    regras[3] = fuzzifyErrorPosi    \n",
    "    regras[4] = fuzzifyErrorsPosi\n",
    "    \n",
    "    return regras"
   ]
  },
  {
   "cell_type": "code",
   "execution_count": 35,
   "metadata": {},
   "outputs": [],
   "source": [
    "media = aver(selected)\n",
    "diffe = diff(selected)\n",
    "first = first(selected)\n",
    "last = last(selected)\n",
    "param = last + diffe\n",
    "maximus = max(selected['total_cases'])"
   ]
  },
  {
   "cell_type": "code",
   "execution_count": 36,
   "metadata": {},
   "outputs": [],
   "source": [
    "fuzzy_data = pd.DataFrame()"
   ]
  },
  {
   "cell_type": "code",
   "execution_count": 37,
   "metadata": {},
   "outputs": [
    {
     "name": "stderr",
     "output_type": "stream",
     "text": [
      "Fuzzy_Prediction_Beta.ipynb:3: RuntimeWarning: divide by zero encountered in double_scalars\n",
      "  {\n"
     ]
    }
   ],
   "source": [
    "## Códigos: 0-Queda Brusca 1-Queda 2-Platô 3-Subida 4-Subida Brusca\n",
    "for i in range(212):\n",
    "    Regras = verifRegras(param[i], media[i])\n",
    "    prev = fz.getOutput(np.argmax(Regras))\n",
    "    per  = fz.getPercentage(Regras)\n",
    "    #centroide = fz.getCentroid(prev,Regras,per,maximus)\n",
    "    fuzzy_data = fuzzy_data.append({'cd_local':i,'id_caso_prev':prev,'percent':per},ignore_index=True)\n",
    "    fuzzy_data['cd_local'] = fuzzy_data['cd_local'].astype(int)\n",
    "    fuzzy_data['id_caso_prev'] = fuzzy_data['id_caso_prev'].astype(int)\n"
   ]
  },
  {
   "cell_type": "code",
   "execution_count": 38,
   "metadata": {},
   "outputs": [],
   "source": [
    "fuzzy_data.to_csv('predict.csv', sep=';', decimal=',')"
   ]
  },
  {
   "cell_type": "code",
   "execution_count": null,
   "metadata": {},
   "outputs": [],
   "source": []
  },
  {
   "cell_type": "code",
   "execution_count": null,
   "metadata": {},
   "outputs": [],
   "source": []
  }
 ],
 "metadata": {
  "kernelspec": {
   "display_name": "Python 3",
   "language": "python",
   "name": "python3"
  },
  "language_info": {
   "codemirror_mode": {
    "name": "ipython",
    "version": 3
   },
   "file_extension": ".py",
   "mimetype": "text/x-python",
   "name": "python",
   "nbconvert_exporter": "python",
   "pygments_lexer": "ipython3",
   "version": "3.7.6"
  }
 },
 "nbformat": 4,
 "nbformat_minor": 4
}
