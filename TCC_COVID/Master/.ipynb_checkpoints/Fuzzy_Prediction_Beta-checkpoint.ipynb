{
 "cells": [
  {
   "cell_type": "code",
   "execution_count": 1,
   "metadata": {},
   "outputs": [],
   "source": [
    "import pandas as pd\n",
    "import numpy as np\n",
    "import sys\n",
    "import math \n",
    "import seaborn as sea\n",
    "import datetime as dt\n",
    "from datetime import timedelta\n",
    "from operator import itemgetter\n",
    "from functools import partial"
   ]
  },
  {
   "cell_type": "code",
   "execution_count": 2,
   "metadata": {},
   "outputs": [],
   "source": [
    "def triangulo(var, pontos):\n",
    "     a = pontos[0]\n",
    "     b = pontos[1]\n",
    "     c = pontos[2]\n",
    "     curvaAB = getCurva(a, 0, b, 1)\n",
    "     curvaBC = getCurva(b, 1, c, 0)\n",
    "     result = 0\n",
    "     if var >= a and var <= b:\n",
    "            result = curvaAB * var + getYIntercept(a,0,b,1)\n",
    "     elif var >= b and var <= c:\n",
    "        result = curvaBC * var + getYIntercept(b,1,c,0)\n",
    "     return result"
   ]
  },
  {
   "cell_type": "code",
   "execution_count": 3,
   "metadata": {},
   "outputs": [],
   "source": [
    "def trapezio(var,pontos):\n",
    "    a = pontos[0]\n",
    "    b = pontos[1]\n",
    "    c = pontos[2]\n",
    "    d = pontos[3]\n",
    "    curvaAB = getCurva(a, 0, b, 1)\n",
    "    curvaCD = getCurva(c, 1, d, 0)\n",
    "    yInterceptAB = getYIntercept(a,0,b,1)\n",
    "    yInterceptCD = getYIntercept(c,1,d,0)\n",
    "    result = 0\n",
    "    if var > a and var < b:\n",
    "        result = curvaAB * var + yInterceptAB\n",
    "    elif var >= b and var <= c:\n",
    "        result = 1\n",
    "    elif var > c and var < d:\n",
    "        result = curvaCD * var + yInterceptCD\n",
    "    return result"
   ]
  },
  {
   "cell_type": "code",
   "execution_count": 4,
   "metadata": {},
   "outputs": [],
   "source": [
    "def getCurva(x1,y1,x2,y2):\n",
    "    try:\n",
    "        curva = (y2 - y1)/(x2 - x1)\n",
    "    except ZeroDivisionError:\n",
    "        curva = 0\n",
    "    return curva"
   ]
  },
  {
   "cell_type": "code",
   "execution_count": 5,
   "metadata": {},
   "outputs": [],
   "source": [
    "def getYIntercept(x1,y1,x2,y2):\n",
    "    m = getCurva(x1,y1,x2,y2)\n",
    "    if y1 < y2:\n",
    "        y = y2\n",
    "        x = x2\n",
    "    else:\n",
    "        y = y1\n",
    "        x = x1\n",
    "    return y - m * x"
   ]
  },
  {
   "cell_type": "code",
   "execution_count": 6,
   "metadata": {},
   "outputs": [],
   "source": [
    "def getTriPlot(start,end, pontos):\n",
    "    plots = [0] * (abs(start) + abs(end))\n",
    "    a = pontos[0]\n",
    "    b = pontos[1]\n",
    "    c = pontos[2]\n",
    "    curvaAB = getCurva(a,0,b,1)\n",
    "    curvaBC = getCurva(b,1,c,0)\n",
    "    yInterceptAB = getYIntercept(a,0,b,1)\n",
    "    yInterceptBC = getYIntercept(b,1,c,0)\n",
    "    for i in range(a, b):\n",
    "        plots[i] = curvaAB * i + yInterceptAB\n",
    "    for i in range(b, c):\n",
    "        plots[i] = curvaBC * i + yInterceptBC\n",
    "    \n",
    "    return plots"
   ]
  },
  {
   "cell_type": "code",
   "execution_count": 7,
   "metadata": {},
   "outputs": [],
   "source": [
    "def getTrapPlot(start,end,pontos, shoulder=None):\n",
    "    plots = [0] * (abs(start) + abs(end))\n",
    "    a = pontos[0]\n",
    "    b = pontos[1]\n",
    "    c = pontos[2]\n",
    "    d = pontos[3]\n",
    "    left = 0\n",
    "    right = 0\n",
    "    curvaAB = getCurva(a, 0, b, 1)\n",
    "    curvaCD = getCurva(c, 1, d, 0)\n",
    "    yInterceptAB = getYIntercept(a, 0, b, 1)\n",
    "    yInterceptCD = getYIntercept(c, 1, d, 0)\n",
    "    if shoulder == \"left\":\n",
    "        for i in range(start, a):\n",
    "            plots[i] = 1\n",
    "    elif shoulder == \"right\":\n",
    "        for i in range(d, end):\n",
    "            plots[i] = 1\n",
    "    for i in range(a, b):\n",
    "        plots[i] = curvaAB * i + yInterceptAB\n",
    "    for i in range(b, c):\n",
    "        plots[i] = 1\n",
    "    for i in range(c, d):\n",
    "        plots[i] = curvaCD * i + yInterceptCD\n",
    "    return plots"
   ]
  },
  {
   "cell_type": "code",
   "execution_count": 8,
   "metadata": {},
   "outputs": [],
   "source": [
    "def getCentroid(aP):\n",
    "    n = len(aP)\n",
    "    EixoX = list(range(n))\n",
    "    centNum = 0\n",
    "    centDNum = 0\n",
    "    for i in range(n):\n",
    "        centNum += EixoX[i] * aP[i]\n",
    "        centDNum += aP[i]\n",
    "    return centNum / centDNum"
   ]
  },
  {
   "cell_type": "code",
   "execution_count": null,
   "metadata": {},
   "outputs": [],
   "source": []
  },
  {
   "cell_type": "code",
   "execution_count": null,
   "metadata": {},
   "outputs": [],
   "source": []
  }
 ],
 "metadata": {
  "kernelspec": {
   "display_name": "Python 3",
   "language": "python",
   "name": "python3"
  },
  "language_info": {
   "codemirror_mode": {
    "name": "ipython",
    "version": 3
   },
   "file_extension": ".py",
   "mimetype": "text/x-python",
   "name": "python",
   "nbconvert_exporter": "python",
   "pygments_lexer": "ipython3",
   "version": "3.7.6"
  }
 },
 "nbformat": 4,
 "nbformat_minor": 4
}
