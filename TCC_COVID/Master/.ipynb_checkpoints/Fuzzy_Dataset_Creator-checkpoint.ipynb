{
 "cells": [
  {
   "cell_type": "code",
   "execution_count": 215,
   "metadata": {},
   "outputs": [],
   "source": [
    "import pandas as pd\n",
    "import numpy as np\n",
    "import import_ipynb\n",
    "import sys\n",
    "import math \n",
    "import seaborn as sea\n",
    "import datetime as dt\n",
    "import Fuzzy_Prediction_Beta as fz\n",
    "from datetime import timedelta\n",
    "from operator import itemgetter\n",
    "from functools import partial\n",
    "url = \"in.csv\""
   ]
  },
  {
   "cell_type": "code",
   "execution_count": 216,
   "metadata": {},
   "outputs": [],
   "source": [
    "dataset = pd.read_csv(url, error_bad_lines=False)"
   ]
  },
  {
   "cell_type": "code",
   "execution_count": 217,
   "metadata": {},
   "outputs": [],
   "source": [
    "selected = dataset[['cod_location','date_id','total_cases']]"
   ]
  },
  {
   "cell_type": "code",
   "execution_count": 218,
   "metadata": {},
   "outputs": [],
   "source": [
    "selected = selected.groupby('cod_location').tail(5)"
   ]
  },
  {
   "cell_type": "code",
   "execution_count": 219,
   "metadata": {},
   "outputs": [],
   "source": [
    "selected.head()\n",
    "#Input na rede neural\n",
    "selected.to_csv('input.csv')"
   ]
  },
  {
   "cell_type": "code",
   "execution_count": 220,
   "metadata": {},
   "outputs": [],
   "source": [
    "def aver(input):\n",
    "    medias = input.groupby(['cod_location'])['total_cases'].mean()\n",
    "    return medias"
   ]
  },
  {
   "cell_type": "code",
   "execution_count": 221,
   "metadata": {},
   "outputs": [],
   "source": [
    "def diff(input):\n",
    "    difference = input.groupby('cod_location')['total_cases'].apply(lambda x: x.tail(1).values[0] - x.head(1).values[0])\n",
    "    return difference"
   ]
  },
  {
   "cell_type": "code",
   "execution_count": 222,
   "metadata": {},
   "outputs": [],
   "source": [
    "def first(input):\n",
    "    first = selected.groupby('cod_location')['total_cases'].apply(lambda x: x.head(1).values[0])\n",
    "    return first"
   ]
  },
  {
   "cell_type": "code",
   "execution_count": 223,
   "metadata": {},
   "outputs": [],
   "source": [
    "def last(input):\n",
    "    last = selected.groupby('cod_location')['total_cases'].apply(lambda x: x.tail(1).values[0])\n",
    "    return last"
   ]
  },
  {
   "cell_type": "code",
   "execution_count": 224,
   "metadata": {},
   "outputs": [],
   "source": [
    "def fuzzifyErrorsPos(erro, media, maximus):\n",
    "    return fz.trapezio(erro,[(media + ((media * 26) / 100)), (media + ((media * 40) / 100)), maximus, maximus])"
   ]
  },
  {
   "cell_type": "code",
   "execution_count": 225,
   "metadata": {},
   "outputs": [],
   "source": [
    "def fuzzifyErrorPos(erro, media):\n",
    "    return fz.triangulo(erro, [(media - (media + ((media * 8) / 100))), (media + ((media * 18) / 100)), (media + ((media * 28) / 100))])"
   ]
  },
  {
   "cell_type": "code",
   "execution_count": 226,
   "metadata": {},
   "outputs": [],
   "source": [
    "def fuzzifyErrorZ(erro, media):\n",
    "    return fz.triangulo(erro, [(media - ((media * 10) / 100)), media, (media + ((media * 10) / 100))])"
   ]
  },
  {
   "cell_type": "code",
   "execution_count": 227,
   "metadata": {},
   "outputs": [],
   "source": [
    "def fuzzifyErrorNeg(erro, media):\n",
    "    return fz.triangulo(erro, [(media - ((media * 28) / 100)), (media - ((media * 18) / 100)), (media - ((media * 8) / 100))])"
   ]
  },
  {
   "cell_type": "code",
   "execution_count": 228,
   "metadata": {},
   "outputs": [],
   "source": [
    "def fuzzifyErrorsNeg(erro, media):\n",
    "    return fz.trapezio(erro, [0, 0, (media - ((media * 40) / 100)), (media - ((media * 26) / 100))])"
   ]
  },
  {
   "cell_type": "code",
   "execution_count": 229,
   "metadata": {},
   "outputs": [],
   "source": [
    "def fuzzifyErrorDotsPos(erroD, media, maximus):\n",
    "    return fz.trapezio(erroD,[(media + ((media * 26) / 100)), (media + ((media * 40) / 100)), maximus, maximus])"
   ]
  },
  {
   "cell_type": "code",
   "execution_count": 230,
   "metadata": {},
   "outputs": [],
   "source": [
    "def fuzzifyErrorDotPos(erroD, media):\n",
    "    return fz.triangulo(erroD,[(media - (media + ((media * 8) / 100))),(media - (media + ((media * 18) / 100))),(media - (media + ((media * 28) / 100)))])"
   ]
  },
  {
   "cell_type": "code",
   "execution_count": 231,
   "metadata": {},
   "outputs": [],
   "source": [
    "def fuzzifyErrorDotZ(erroD, media):\n",
    "    return fz.triangulo(erroD,[(media - ((media * 10) / 100)), media, (media + ((media * 10) / 100))])"
   ]
  },
  {
   "cell_type": "code",
   "execution_count": 232,
   "metadata": {},
   "outputs": [],
   "source": [
    "def fuzzifyErrorDotNeg(erroD, media):\n",
    "    return fz.triangulo(erroD,[(media - ((media * 28) / 100)), (media - ((media * 18) / 100)), (media - ((media * 8) / 100))])"
   ]
  },
  {
   "cell_type": "code",
   "execution_count": 233,
   "metadata": {},
   "outputs": [],
   "source": [
    "def fuzzifyErrorDotsNeg(erroD, media):\n",
    "    return fz.trapezio(erroD,[0, 0, (media - ((media * 40) / 100)), (media - ((media * 26) / 100))])"
   ]
  },
  {
   "cell_type": "code",
   "execution_count": 234,
   "metadata": {},
   "outputs": [],
   "source": [
    "def agrega(regras, maximus, sbot, bot, mid, top, stop, media):\n",
    "    result = [0] * maximus\n",
    "    for regra in range(len(regras)):\n",
    "        for i in range(maximus):\n",
    "            if regras[regra][0]>0 and i < (media - ((media * 26) / 100)):\n",
    "                result[i] = min(regras[regra][0], bot[i])\n",
    "            if regras[regra][1]>0 and i > (media - ((media * 28) / 100)) and i < (media - ((media * 8) / 100)):\n",
    "                result[i] = min(regras[regra][1], mid[i])\n",
    "            if regras[regra][2]>0 and i > (media - ((media * 10) / 100)) and i < (media + ((media * 10) / 100)):\n",
    "                result[i] = min(regras[regra][2], top[i])\n",
    "            if regras[regra][3]>0 and i > (media + ((media * 8) / 100)) and i< (media + ((media * 28) / 100)):\n",
    "                result[i] = min(regras[regra][3], bot[i])\n",
    "            if regras[regra][4]>0 and i > (media + ((media * 26) / 100)):\n",
    "                result[i] = min(regras[regra][4], mid[i])\n",
    "    return result"
   ]
  },
  {
   "cell_type": "code",
   "execution_count": 235,
   "metadata": {},
   "outputs": [],
   "source": [
    "def OutputSugDecr(media, maximus):\n",
    "    return fz.getTrapPlot(0, maximus, [0, 0, (media - ((media * 40) / 100)), (media - ((media * 26) / 100))], \"left\")"
   ]
  },
  {
   "cell_type": "code",
   "execution_count": 236,
   "metadata": {},
   "outputs": [],
   "source": [
    "def OutputDecr(media, maximus):\n",
    "    return fz.getTriPlot(0, maximus, [(media - ((media * 28) / 100)), (media - ((media * 18) / 100)), (media - ((media * 8) / 100))])"
   ]
  },
  {
   "cell_type": "code",
   "execution_count": 237,
   "metadata": {},
   "outputs": [],
   "source": [
    "def OutputPlat(media, maximus):\n",
    "    return fz.getTriPlot(0, maximus, [(media - ((media * 10) / 100)), media, (media + ((media * 10) / 100))])"
   ]
  },
  {
   "cell_type": "code",
   "execution_count": 238,
   "metadata": {},
   "outputs": [],
   "source": [
    "def OutputCres(media, maximus):\n",
    "    return fz.getTriPlot(0, maximus, [(media + ((media * 8) / 100)), (media + ((media * 18) / 100)), (media + ((media * 28) / 100))])"
   ]
  },
  {
   "cell_type": "code",
   "execution_count": 239,
   "metadata": {},
   "outputs": [],
   "source": [
    "def OutputSugCres(media, maximus):\n",
    "    return fz.getTrapPlot(0, maximus, [(media + ((media * 26) / 100)), (media + ((media * 40) / 100)), maximus, maximus], \"right\")"
   ]
  },
  {
   "cell_type": "code",
   "execution_count": 240,
   "metadata": {},
   "outputs": [],
   "source": [
    "def verifRegras(erro, erroD, media, maximus):\n",
    "    regras = [[0] * 25 for i in range(5)]\n",
    "    \n",
    "    fuzzifyErrorsNega = fuzzifyErrorsNeg(erro, media)\n",
    "    fuzzifyErrorNega = fuzzifyErrorNeg(erro, media)\n",
    "    fuzzifyErrorZe = fuzzifyErrorZ(erro, media)\n",
    "    fuzzifyErrorPosi= fuzzifyErrorPos(erro, media)\n",
    "    fuzzifyErrorsPosi= fuzzifyErrorsPos(erro, media, maximus)\n",
    "    \n",
    "    fuzzifyErrorDotsNega = fuzzifyErrorDotsNeg(erroD, media)\n",
    "    fuzzifyErrorDotNega = fuzzifyErrorDotNeg(erroD, media)\n",
    "    fuzzifyErrorDotZe = fuzzifyErrorDotZ(erroD, media)\n",
    "    fuzzifyErrorDotPosi = fuzzifyErrorDotPos(erroD, media)\n",
    "    fuzzifyErrorDotsPosi = fuzzifyErrorDotsPos(erroD, media, maximus)\n",
    "    \n",
    "    regras[0][0] = min(fuzzifyErrorsNega,fuzzifyErrorDotsNega)\n",
    "    regras[0][1] = min(fuzzifyErrorNega,fuzzifyErrorDotsNega)\n",
    "    regras[0][2] = min(fuzzifyErrorZe,fuzzifyErrorDotsNega)\n",
    "    regras[0][3] = min(fuzzifyErrorPosi,fuzzifyErrorDotsNega)\n",
    "    regras[0][4] = min(fuzzifyErrorsPosi,fuzzifyErrorDotsNega)\n",
    "    \n",
    "    regras[1][0] = min(fuzzifyErrorsNega,fuzzifyErrorDotNega)\n",
    "    regras[1][1] = min(fuzzifyErrorNega,fuzzifyErrorDotNega)\n",
    "    regras[1][2] = min(fuzzifyErrorZe,fuzzifyErrorDotNega)\n",
    "    regras[1][3] = min(fuzzifyErrorPosi,fuzzifyErrorDotNega)\n",
    "    regras[1][4] = min(fuzzifyErrorsPosi,fuzzifyErrorDotNega)\n",
    "    \n",
    "    regras[2][0] = min(fuzzifyErrorsNega,fuzzifyErrorDotZe)\n",
    "    regras[2][1] = min(fuzzifyErrorNega,fuzzifyErrorDotZe)\n",
    "    regras[2][2] = min(fuzzifyErrorZe,fuzzifyErrorDotZe)\n",
    "    regras[2][3] = min(fuzzifyErrorPosi,fuzzifyErrorDotZe)\n",
    "    regras[2][4] = min(fuzzifyErrorsPosi,fuzzifyErrorDotZe)\n",
    "    \n",
    "    regras[3][0] = min(fuzzifyErrorsNega,fuzzifyErrorDotPosi)\n",
    "    regras[3][1] = min(fuzzifyErrorNega,fuzzifyErrorDotPosi)\n",
    "    regras[3][2] = min(fuzzifyErrorZe,fuzzifyErrorDotPosi)\n",
    "    regras[3][3] = min(fuzzifyErrorPosi,fuzzifyErrorDotPosi)\n",
    "    regras[3][4] = min(fuzzifyErrorsPosi,fuzzifyErrorDotPosi)\n",
    "    \n",
    "    regras[4][0] = min(fuzzifyErrorsNega,fuzzifyErrorDotsPosi)\n",
    "    regras[4][1] = min(fuzzifyErrorNega,fuzzifyErrorDotsPosi)\n",
    "    regras[4][2] = min(fuzzifyErrorZe,fuzzifyErrorDotsPosi)\n",
    "    regras[4][3] = min(fuzzifyErrorPosi,fuzzifyErrorDotsPosi)\n",
    "    regras[4][4] = min(fuzzifyErrorsPosi,fuzzifyErrorDotsPosi)\n",
    "    \n",
    "    return regras"
   ]
  },
  {
   "cell_type": "code",
   "execution_count": 241,
   "metadata": {},
   "outputs": [],
   "source": [
    "media = aver(selected)\n",
    "diffe = diff(selected)\n",
    "first = first(selected)\n",
    "maximus = max(selected['total_cases'])\n",
    "\n",
    "target = media - ((media * 28) / 100)"
   ]
  },
  {
   "cell_type": "code",
   "execution_count": 242,
   "metadata": {},
   "outputs": [],
   "source": [
    "currError = target - diffe"
   ]
  },
  {
   "cell_type": "code",
   "execution_count": 243,
   "metadata": {},
   "outputs": [],
   "source": [
    "error = currError\n",
    "dervError = first - diffe"
   ]
  },
  {
   "cell_type": "code",
   "execution_count": 244,
   "metadata": {},
   "outputs": [
    {
     "ename": "TypeError",
     "evalue": "'numpy.float64' object cannot be interpreted as an integer",
     "output_type": "error",
     "traceback": [
      "\u001b[1;31m---------------------------------------------------------------------------\u001b[0m",
      "\u001b[1;31mTypeError\u001b[0m                                 Traceback (most recent call last)",
      "\u001b[1;32m<ipython-input-244-db74921c348e>\u001b[0m in \u001b[0;36m<module>\u001b[1;34m\u001b[0m\n\u001b[0;32m      1\u001b[0m \u001b[1;31m##\u001b[0m\u001b[1;33m\u001b[0m\u001b[1;33m\u001b[0m\u001b[1;33m\u001b[0m\u001b[0m\n\u001b[0;32m      2\u001b[0m \u001b[0mRegras\u001b[0m \u001b[1;33m=\u001b[0m \u001b[0mverifRegras\u001b[0m\u001b[1;33m(\u001b[0m\u001b[0merror\u001b[0m\u001b[1;33m[\u001b[0m\u001b[1;36m0\u001b[0m\u001b[1;33m]\u001b[0m\u001b[1;33m,\u001b[0m \u001b[0mdervError\u001b[0m\u001b[1;33m[\u001b[0m\u001b[1;36m0\u001b[0m\u001b[1;33m]\u001b[0m\u001b[1;33m,\u001b[0m \u001b[0mmedia\u001b[0m\u001b[1;33m[\u001b[0m\u001b[1;36m0\u001b[0m\u001b[1;33m]\u001b[0m\u001b[1;33m,\u001b[0m\u001b[0mround\u001b[0m\u001b[1;33m(\u001b[0m\u001b[0mmaximus\u001b[0m\u001b[1;33m)\u001b[0m\u001b[1;33m)\u001b[0m\u001b[1;33m\u001b[0m\u001b[1;33m\u001b[0m\u001b[0m\n\u001b[1;32m----> 3\u001b[1;33m vA = agrega(Regras, round(maximus), OutputSugDecr(media[0],round(maximus)), OutputDecr(media[0],round(maximus)), \n\u001b[0m\u001b[0;32m      4\u001b[0m             OutputPlat(media[0],round(maximus)), OutputCres(media[0],round(maximus)), OutputSugCres(media[0],round(maximus)),media[0])\n\u001b[0;32m      5\u001b[0m \u001b[0mcentroide\u001b[0m \u001b[1;33m=\u001b[0m \u001b[0mfz\u001b[0m\u001b[1;33m.\u001b[0m\u001b[0mgetCentroid\u001b[0m\u001b[1;33m(\u001b[0m\u001b[0mvA\u001b[0m\u001b[1;33m)\u001b[0m\u001b[1;33m\u001b[0m\u001b[1;33m\u001b[0m\u001b[0m\n",
      "\u001b[1;32m<ipython-input-235-519c3361597f>\u001b[0m in \u001b[0;36mOutputSugDecr\u001b[1;34m(media, maximus)\u001b[0m\n\u001b[0;32m      1\u001b[0m \u001b[1;32mdef\u001b[0m \u001b[0mOutputSugDecr\u001b[0m\u001b[1;33m(\u001b[0m\u001b[0mmedia\u001b[0m\u001b[1;33m,\u001b[0m \u001b[0mmaximus\u001b[0m\u001b[1;33m)\u001b[0m\u001b[1;33m:\u001b[0m\u001b[1;33m\u001b[0m\u001b[1;33m\u001b[0m\u001b[0m\n\u001b[1;32m----> 2\u001b[1;33m     \u001b[1;32mreturn\u001b[0m \u001b[0mfz\u001b[0m\u001b[1;33m.\u001b[0m\u001b[0mgetTrapPlot\u001b[0m\u001b[1;33m(\u001b[0m\u001b[1;36m0\u001b[0m\u001b[1;33m,\u001b[0m \u001b[0mmaximus\u001b[0m\u001b[1;33m,\u001b[0m \u001b[1;33m[\u001b[0m\u001b[1;36m0\u001b[0m\u001b[1;33m,\u001b[0m \u001b[1;36m0\u001b[0m\u001b[1;33m,\u001b[0m \u001b[1;33m(\u001b[0m\u001b[0mmedia\u001b[0m \u001b[1;33m-\u001b[0m \u001b[1;33m(\u001b[0m\u001b[1;33m(\u001b[0m\u001b[0mmedia\u001b[0m \u001b[1;33m*\u001b[0m \u001b[1;36m40\u001b[0m\u001b[1;33m)\u001b[0m \u001b[1;33m/\u001b[0m \u001b[1;36m100\u001b[0m\u001b[1;33m)\u001b[0m\u001b[1;33m)\u001b[0m\u001b[1;33m,\u001b[0m \u001b[1;33m(\u001b[0m\u001b[0mmedia\u001b[0m \u001b[1;33m-\u001b[0m \u001b[1;33m(\u001b[0m\u001b[1;33m(\u001b[0m\u001b[0mmedia\u001b[0m \u001b[1;33m*\u001b[0m \u001b[1;36m26\u001b[0m\u001b[1;33m)\u001b[0m \u001b[1;33m/\u001b[0m \u001b[1;36m100\u001b[0m\u001b[1;33m)\u001b[0m\u001b[1;33m)\u001b[0m\u001b[1;33m]\u001b[0m\u001b[1;33m,\u001b[0m \u001b[1;34m\"left\"\u001b[0m\u001b[1;33m)\u001b[0m\u001b[1;33m\u001b[0m\u001b[1;33m\u001b[0m\u001b[0m\n\u001b[0m",
      "\u001b[1;32m~\\Documents\\TCC-COVID\\TCC_COVID\\Master\\Fuzzy_Prediction_Beta.ipynb\u001b[0m in \u001b[0;36mgetTrapPlot\u001b[1;34m(start, end, pontos, shoulder)\u001b[0m\n",
      "\u001b[1;31mTypeError\u001b[0m: 'numpy.float64' object cannot be interpreted as an integer"
     ]
    }
   ],
   "source": [
    "##\n",
    "Regras = verifRegras(error[0], dervError[0], media[0],round(maximus))\n",
    "vA = agrega(Regras, round(maximus), OutputSugDecr(media[0],round(maximus)), OutputDecr(media[0],round(maximus)), \n",
    "            OutputPlat(media[0],round(maximus)), OutputCres(media[0],round(maximus)), OutputSugCres(media[0],round(maximus)),media[0])\n",
    "centroide = fz.getCentroid(vA)\n",
    "\n",
    "print(error)\n",
    "print(dervError)\n",
    "print(centroide)\n",
    "##"
   ]
  },
  {
   "cell_type": "code",
   "execution_count": null,
   "metadata": {},
   "outputs": [],
   "source": []
  },
  {
   "cell_type": "code",
   "execution_count": null,
   "metadata": {},
   "outputs": [],
   "source": []
  },
  {
   "cell_type": "code",
   "execution_count": null,
   "metadata": {},
   "outputs": [],
   "source": []
  }
 ],
 "metadata": {
  "kernelspec": {
   "display_name": "Python 3",
   "language": "python",
   "name": "python3"
  },
  "language_info": {
   "codemirror_mode": {
    "name": "ipython",
    "version": 3
   },
   "file_extension": ".py",
   "mimetype": "text/x-python",
   "name": "python",
   "nbconvert_exporter": "python",
   "pygments_lexer": "ipython3",
   "version": "3.7.6"
  }
 },
 "nbformat": 4,
 "nbformat_minor": 4
}
