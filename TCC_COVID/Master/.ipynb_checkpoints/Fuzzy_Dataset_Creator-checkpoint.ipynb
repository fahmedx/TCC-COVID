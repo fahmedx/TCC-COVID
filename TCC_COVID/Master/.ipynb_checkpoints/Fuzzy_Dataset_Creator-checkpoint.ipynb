{
 "cells": [
  {
   "cell_type": "code",
   "execution_count": 209,
   "metadata": {},
   "outputs": [],
   "source": [
    "import pandas as pd\n",
    "import numpy as np\n",
    "import import_ipynb\n",
    "import sys\n",
    "import math \n",
    "import seaborn as sea\n",
    "import datetime as dt\n",
    "import Fuzzy_Prediction_Beta as fz\n",
    "from datetime import timedelta\n",
    "from operator import itemgetter\n",
    "from functools import partial\n",
    "url = \"in.csv\""
   ]
  },
  {
   "cell_type": "code",
   "execution_count": 210,
   "metadata": {},
   "outputs": [],
   "source": [
    "dataset = pd.read_csv(url, error_bad_lines=False)"
   ]
  },
  {
   "cell_type": "code",
   "execution_count": 211,
   "metadata": {},
   "outputs": [],
   "source": [
    "selected = dataset[['cod_location','date_id','total_cases']]"
   ]
  },
  {
   "cell_type": "code",
   "execution_count": 212,
   "metadata": {},
   "outputs": [],
   "source": [
    "selected = selected.groupby('cod_location').tail(10)"
   ]
  },
  {
   "cell_type": "code",
   "execution_count": 213,
   "metadata": {},
   "outputs": [],
   "source": [
    "selected.head()\n",
    "#Input na rede neural\n",
    "selected.to_csv('input.csv')"
   ]
  },
  {
   "cell_type": "code",
   "execution_count": 214,
   "metadata": {},
   "outputs": [],
   "source": [
    "def aver(input):\n",
    "    medias = input.groupby(['cod_location'])['total_cases'].mean()\n",
    "    return medias"
   ]
  },
  {
   "cell_type": "code",
   "execution_count": 215,
   "metadata": {},
   "outputs": [],
   "source": [
    "def diff(input):\n",
    "    difference = input.groupby('cod_location')['total_cases'].apply(lambda x: x.tail(1).values[0] - x.head(1).values[0])\n",
    "    return difference"
   ]
  },
  {
   "cell_type": "code",
   "execution_count": 216,
   "metadata": {},
   "outputs": [],
   "source": [
    "def first(input):\n",
    "    first = selected.groupby('cod_location')['total_cases'].apply(lambda x: x.head(1).values[0])\n",
    "    return first"
   ]
  },
  {
   "cell_type": "code",
   "execution_count": 217,
   "metadata": {},
   "outputs": [],
   "source": [
    "def last(input):\n",
    "    last = selected.groupby('cod_location')['total_cases'].apply(lambda x: x.tail(1).values[0])\n",
    "    return last"
   ]
  },
  {
   "cell_type": "code",
   "execution_count": 218,
   "metadata": {},
   "outputs": [],
   "source": [
    "def param(last,diffe):\n",
    "    param = last + diffe\n",
    "    return param"
   ]
  },
  {
   "cell_type": "code",
   "execution_count": 219,
   "metadata": {},
   "outputs": [],
   "source": [
    "def fuzzifyErrorsPos(erro, media):\n",
    "    return fz.trapezio(erro, [(media + ((media * 30) / 100)), (media + ((media * 40) / 100)), (media + ((media * 50) / 100)), (media + ((media * 50) / 100))])"
   ]
  },
  {
   "cell_type": "code",
   "execution_count": 220,
   "metadata": {},
   "outputs": [],
   "source": [
    "def fuzzifyErrorPos(erro, media):\n",
    "    return fz.triangulo(erro, [(media + ((media * 15) / 100)), (media + ((media * 20) / 100)), (media + ((media * 35) / 100))])"
   ]
  },
  {
   "cell_type": "code",
   "execution_count": 221,
   "metadata": {},
   "outputs": [],
   "source": [
    "def fuzzifyErrorZ(erro, media):\n",
    "    return fz.trapezio(erro, [(media - ((media * 17) / 100)), (media - ((media * 5) / 100)), (media + ((media * 5) / 100)), (media + ((media * 17) / 100))])"
   ]
  },
  {
   "cell_type": "code",
   "execution_count": 222,
   "metadata": {},
   "outputs": [],
   "source": [
    "def fuzzifyErrorNeg(erro, media):\n",
    "    return fz.triangulo(erro, [(media - ((media * 35) / 100)), (media - ((media * 20) / 100)), (media - ((media * 15) / 100))])"
   ]
  },
  {
   "cell_type": "code",
   "execution_count": 223,
   "metadata": {},
   "outputs": [],
   "source": [
    "def fuzzifyErrorsNeg(erro, media):\n",
    "    return fz.trapezio(erro, [0, 0, (media - ((media * 40) / 100)), (media - ((media * 30) / 100))])"
   ]
  },
  {
   "cell_type": "code",
   "execution_count": 224,
   "metadata": {},
   "outputs": [],
   "source": [
    "def verifRegras(erro, media):\n",
    "    regras = [[0] * 5 for i in range(5)]\n",
    "    \n",
    "    fuzzifyErrorsNega = fuzzifyErrorsNeg(erro, media)\n",
    "    fuzzifyErrorNega = fuzzifyErrorNeg(erro, media)\n",
    "    fuzzifyErrorZe = fuzzifyErrorZ(erro, media)\n",
    "    fuzzifyErrorPosi = fuzzifyErrorPos(erro, media)\n",
    "    fuzzifyErrorsPosi = fuzzifyErrorsPos(erro, media)\n",
    "    \n",
    "    regras[0] = fuzzifyErrorsNega\n",
    "    regras[1] = fuzzifyErrorNega\n",
    "    regras[2] = fuzzifyErrorZe    \n",
    "    regras[3] = fuzzifyErrorPosi    \n",
    "    regras[4] = fuzzifyErrorsPosi\n",
    "    \n",
    "    return regras"
   ]
  },
  {
   "cell_type": "code",
   "execution_count": 225,
   "metadata": {},
   "outputs": [],
   "source": [
    "media = aver(selected)\n",
    "diffe = diff(selected)\n",
    "first = first(selected)\n",
    "last = last(selected)\n",
    "parameter = param(last,diffe)\n",
    "maximus = max(selected['total_cases'])\n",
    "\n",
    "target = media - ((media * 28) / 100)"
   ]
  },
  {
   "cell_type": "code",
   "execution_count": 226,
   "metadata": {},
   "outputs": [],
   "source": [
    "#currError = target - diffe"
   ]
  },
  {
   "cell_type": "code",
   "execution_count": 227,
   "metadata": {},
   "outputs": [],
   "source": [
    "error = diffe\n",
    "dervError = first - diffe\n",
    "fuzzy_data = pd.DataFrame()"
   ]
  },
  {
   "cell_type": "code",
   "execution_count": 228,
   "metadata": {},
   "outputs": [
    {
     "ename": "UnboundLocalError",
     "evalue": "local variable 'Index' referenced before assignment",
     "output_type": "error",
     "traceback": [
      "\u001b[1;31m---------------------------------------------------------------------------\u001b[0m",
      "\u001b[1;31mUnboundLocalError\u001b[0m                         Traceback (most recent call last)",
      "\u001b[1;32m<ipython-input-228-557a248d0589>\u001b[0m in \u001b[0;36m<module>\u001b[1;34m\u001b[0m\n\u001b[0;32m      2\u001b[0m \u001b[1;32mfor\u001b[0m \u001b[0mi\u001b[0m \u001b[1;32min\u001b[0m \u001b[0mrange\u001b[0m\u001b[1;33m(\u001b[0m\u001b[1;36m212\u001b[0m\u001b[1;33m)\u001b[0m\u001b[1;33m:\u001b[0m\u001b[1;33m\u001b[0m\u001b[1;33m\u001b[0m\u001b[0m\n\u001b[0;32m      3\u001b[0m     \u001b[0mRegras\u001b[0m \u001b[1;33m=\u001b[0m \u001b[0mverifRegras\u001b[0m\u001b[1;33m(\u001b[0m\u001b[0mparameter\u001b[0m\u001b[1;33m[\u001b[0m\u001b[0mi\u001b[0m\u001b[1;33m]\u001b[0m\u001b[1;33m,\u001b[0m \u001b[0mmedia\u001b[0m\u001b[1;33m[\u001b[0m\u001b[0mi\u001b[0m\u001b[1;33m]\u001b[0m\u001b[1;33m)\u001b[0m\u001b[1;33m\u001b[0m\u001b[1;33m\u001b[0m\u001b[0m\n\u001b[1;32m----> 4\u001b[1;33m     \u001b[0mprev\u001b[0m \u001b[1;33m=\u001b[0m \u001b[0mfz\u001b[0m\u001b[1;33m.\u001b[0m\u001b[0mgetOutput\u001b[0m\u001b[1;33m(\u001b[0m\u001b[0mRegras\u001b[0m\u001b[1;33m)\u001b[0m\u001b[1;33m\u001b[0m\u001b[1;33m\u001b[0m\u001b[0m\n\u001b[0m\u001b[0;32m      5\u001b[0m     \u001b[0mper\u001b[0m  \u001b[1;33m=\u001b[0m \u001b[0mfz\u001b[0m\u001b[1;33m.\u001b[0m\u001b[0mgetPercentage\u001b[0m\u001b[1;33m(\u001b[0m\u001b[0mRegras\u001b[0m\u001b[1;33m)\u001b[0m\u001b[1;33m\u001b[0m\u001b[1;33m\u001b[0m\u001b[0m\n\u001b[0;32m      6\u001b[0m     \u001b[0mcentroide\u001b[0m \u001b[1;33m=\u001b[0m \u001b[0mfz\u001b[0m\u001b[1;33m.\u001b[0m\u001b[0mgetCentroid\u001b[0m\u001b[1;33m(\u001b[0m\u001b[0mprev\u001b[0m\u001b[1;33m,\u001b[0m\u001b[0mRegras\u001b[0m\u001b[1;33m,\u001b[0m\u001b[0mper\u001b[0m\u001b[1;33m,\u001b[0m\u001b[0mmaximus\u001b[0m\u001b[1;33m)\u001b[0m\u001b[1;33m\u001b[0m\u001b[1;33m\u001b[0m\u001b[0m\n",
      "\u001b[1;32m~\\Documents\\TCC-COVID\\TCC_COVID\\Master\\Fuzzy_Prediction_Beta.ipynb\u001b[0m in \u001b[0;36mgetOutput\u001b[1;34m(rules)\u001b[0m\n",
      "\u001b[1;31mUnboundLocalError\u001b[0m: local variable 'Index' referenced before assignment"
     ]
    }
   ],
   "source": [
    "## Códigos: 0-Queda Brusca 1-Queda 2-Platô 3-Subida 4-Subida Brusca\n",
    "for i in range(212):\n",
    "    Regras = verifRegras(parameter[i], media[i])\n",
    "    prev = fz.getOutput(Regras)\n",
    "    per  = fz.getPercentage(Regras)\n",
    "    centroide = fz.getCentroid(prev,Regras,per,maximus)\n",
    "    fuzzy_data = fuzzy_data.append({'cd_local':i,'id_caso_prev':prev,'percent':per,'previsao_infec':centroide},ignore_index=True)"
   ]
  },
  {
   "cell_type": "code",
   "execution_count": 147,
   "metadata": {},
   "outputs": [],
   "source": [
    "fuzzy_data.to_csv('predict.csv')"
   ]
  },
  {
   "cell_type": "code",
   "execution_count": 148,
   "metadata": {},
   "outputs": [
    {
     "data": {
      "text/html": [
       "<div>\n",
       "<style scoped>\n",
       "    .dataframe tbody tr th:only-of-type {\n",
       "        vertical-align: middle;\n",
       "    }\n",
       "\n",
       "    .dataframe tbody tr th {\n",
       "        vertical-align: top;\n",
       "    }\n",
       "\n",
       "    .dataframe thead th {\n",
       "        text-align: right;\n",
       "    }\n",
       "</style>\n",
       "<table border=\"1\" class=\"dataframe\">\n",
       "  <thead>\n",
       "    <tr style=\"text-align: right;\">\n",
       "      <th></th>\n",
       "      <th>cd_local</th>\n",
       "      <th>id_caso_prev</th>\n",
       "      <th>percent</th>\n",
       "      <th>previsao_infec</th>\n",
       "    </tr>\n",
       "  </thead>\n",
       "  <tbody>\n",
       "    <tr>\n",
       "      <th>0</th>\n",
       "      <td>0.0</td>\n",
       "      <td>0.0</td>\n",
       "      <td>100.0</td>\n",
       "      <td>74.0</td>\n",
       "    </tr>\n",
       "    <tr>\n",
       "      <th>1</th>\n",
       "      <td>1.0</td>\n",
       "      <td>0.0</td>\n",
       "      <td>100.0</td>\n",
       "      <td>74.0</td>\n",
       "    </tr>\n",
       "    <tr>\n",
       "      <th>2</th>\n",
       "      <td>2.0</td>\n",
       "      <td>0.0</td>\n",
       "      <td>100.0</td>\n",
       "      <td>74.0</td>\n",
       "    </tr>\n",
       "    <tr>\n",
       "      <th>3</th>\n",
       "      <td>3.0</td>\n",
       "      <td>0.0</td>\n",
       "      <td>100.0</td>\n",
       "      <td>74.0</td>\n",
       "    </tr>\n",
       "    <tr>\n",
       "      <th>4</th>\n",
       "      <td>4.0</td>\n",
       "      <td>0.0</td>\n",
       "      <td>100.0</td>\n",
       "      <td>74.0</td>\n",
       "    </tr>\n",
       "    <tr>\n",
       "      <th>...</th>\n",
       "      <td>...</td>\n",
       "      <td>...</td>\n",
       "      <td>...</td>\n",
       "      <td>...</td>\n",
       "    </tr>\n",
       "    <tr>\n",
       "      <th>207</th>\n",
       "      <td>207.0</td>\n",
       "      <td>0.0</td>\n",
       "      <td>100.0</td>\n",
       "      <td>74.0</td>\n",
       "    </tr>\n",
       "    <tr>\n",
       "      <th>208</th>\n",
       "      <td>208.0</td>\n",
       "      <td>0.0</td>\n",
       "      <td>100.0</td>\n",
       "      <td>74.0</td>\n",
       "    </tr>\n",
       "    <tr>\n",
       "      <th>209</th>\n",
       "      <td>209.0</td>\n",
       "      <td>0.0</td>\n",
       "      <td>100.0</td>\n",
       "      <td>74.0</td>\n",
       "    </tr>\n",
       "    <tr>\n",
       "      <th>210</th>\n",
       "      <td>210.0</td>\n",
       "      <td>0.0</td>\n",
       "      <td>100.0</td>\n",
       "      <td>74.0</td>\n",
       "    </tr>\n",
       "    <tr>\n",
       "      <th>211</th>\n",
       "      <td>211.0</td>\n",
       "      <td>0.0</td>\n",
       "      <td>100.0</td>\n",
       "      <td>74.0</td>\n",
       "    </tr>\n",
       "  </tbody>\n",
       "</table>\n",
       "<p>212 rows × 4 columns</p>\n",
       "</div>"
      ],
      "text/plain": [
       "     cd_local  id_caso_prev  percent  previsao_infec\n",
       "0         0.0           0.0    100.0            74.0\n",
       "1         1.0           0.0    100.0            74.0\n",
       "2         2.0           0.0    100.0            74.0\n",
       "3         3.0           0.0    100.0            74.0\n",
       "4         4.0           0.0    100.0            74.0\n",
       "..        ...           ...      ...             ...\n",
       "207     207.0           0.0    100.0            74.0\n",
       "208     208.0           0.0    100.0            74.0\n",
       "209     209.0           0.0    100.0            74.0\n",
       "210     210.0           0.0    100.0            74.0\n",
       "211     211.0           0.0    100.0            74.0\n",
       "\n",
       "[212 rows x 4 columns]"
      ]
     },
     "execution_count": 148,
     "metadata": {},
     "output_type": "execute_result"
    }
   ],
   "source": [
    "fuzzy_data"
   ]
  },
  {
   "cell_type": "code",
   "execution_count": 54,
   "metadata": {},
   "outputs": [
    {
     "data": {
      "text/plain": [
       "7729.8"
      ]
     },
     "execution_count": 54,
     "metadata": {},
     "output_type": "execute_result"
    }
   ],
   "source": [
    "media[211]"
   ]
  },
  {
   "cell_type": "code",
   "execution_count": 55,
   "metadata": {},
   "outputs": [
    {
     "data": {
      "text/plain": [
       "5400.456"
      ]
     },
     "execution_count": 55,
     "metadata": {},
     "output_type": "execute_result"
    }
   ],
   "source": [
    "error[211]"
   ]
  },
  {
   "cell_type": "code",
   "execution_count": 56,
   "metadata": {},
   "outputs": [
    {
     "data": {
      "text/plain": [
       "0.2953282842283844"
      ]
     },
     "execution_count": 56,
     "metadata": {},
     "output_type": "execute_result"
    }
   ],
   "source": [
    "fz.trapezio(error[211], [0, 0, (media[211] - ((media[211] * 40) / 100)), (media[211] - ((media[211] * 26) / 100))])"
   ]
  },
  {
   "cell_type": "code",
   "execution_count": 57,
   "metadata": {},
   "outputs": [
    {
     "data": {
      "text/plain": [
       "0"
      ]
     },
     "execution_count": 57,
     "metadata": {},
     "output_type": "execute_result"
    }
   ],
   "source": [
    "fz.triangulo(error[211], [(media[211] - ((media[211] * 28) / 100)), (media[211] - ((media[211] * 18) / 100)), (media[211] - ((media[211] * 8) / 100))])"
   ]
  },
  {
   "cell_type": "code",
   "execution_count": 149,
   "metadata": {},
   "outputs": [
    {
     "data": {
      "text/plain": [
       "cod_location\n",
       "0          308.0\n",
       "1         1186.0\n",
       "2         1654.0\n",
       "3          272.0\n",
       "4          883.0\n",
       "         ...    \n",
       "207          0.0\n",
       "208    2632507.0\n",
       "209         10.0\n",
       "210        619.0\n",
       "211        165.0\n",
       "Name: total_cases, Length: 212, dtype: float64"
      ]
     },
     "execution_count": 149,
     "metadata": {},
     "output_type": "execute_result"
    }
   ],
   "source": []
  },
  {
   "cell_type": "code",
   "execution_count": null,
   "metadata": {},
   "outputs": [],
   "source": []
  }
 ],
 "metadata": {
  "kernelspec": {
   "display_name": "Python 3",
   "language": "python",
   "name": "python3"
  },
  "language_info": {
   "codemirror_mode": {
    "name": "ipython",
    "version": 3
   },
   "file_extension": ".py",
   "mimetype": "text/x-python",
   "name": "python",
   "nbconvert_exporter": "python",
   "pygments_lexer": "ipython3",
   "version": "3.7.6"
  }
 },
 "nbformat": 4,
 "nbformat_minor": 4
}
