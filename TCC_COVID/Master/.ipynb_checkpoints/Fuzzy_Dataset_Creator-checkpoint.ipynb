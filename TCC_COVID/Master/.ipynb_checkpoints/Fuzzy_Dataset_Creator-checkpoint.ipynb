{
 "cells": [
  {
   "cell_type": "code",
   "execution_count": 57,
   "metadata": {},
   "outputs": [],
   "source": [
    "import pandas as pd\n",
    "import numpy as np\n",
    "import import_ipynb\n",
    "import sys\n",
    "import math \n",
    "import seaborn as sea\n",
    "import datetime as dt\n",
    "import Fuzzy_Prediction_Beta as fz\n",
    "from datetime import timedelta\n",
    "from operator import itemgetter\n",
    "from functools import partial\n",
    "url = \"in.csv\""
   ]
  },
  {
   "cell_type": "code",
   "execution_count": 58,
   "metadata": {},
   "outputs": [],
   "source": [
    "dataset = pd.read_csv(url, error_bad_lines=False)"
   ]
  },
  {
   "cell_type": "code",
   "execution_count": 59,
   "metadata": {},
   "outputs": [
    {
     "data": {
      "text/html": [
       "<div>\n",
       "<style scoped>\n",
       "    .dataframe tbody tr th:only-of-type {\n",
       "        vertical-align: middle;\n",
       "    }\n",
       "\n",
       "    .dataframe tbody tr th {\n",
       "        vertical-align: top;\n",
       "    }\n",
       "\n",
       "    .dataframe thead th {\n",
       "        text-align: right;\n",
       "    }\n",
       "</style>\n",
       "<table border=\"1\" class=\"dataframe\">\n",
       "  <thead>\n",
       "    <tr style=\"text-align: right;\">\n",
       "      <th></th>\n",
       "      <th>cod_location</th>\n",
       "      <th>date_id</th>\n",
       "      <th>total_cases</th>\n",
       "    </tr>\n",
       "  </thead>\n",
       "  <tbody>\n",
       "    <tr>\n",
       "      <th>0</th>\n",
       "      <td>0</td>\n",
       "      <td>20191231</td>\n",
       "      <td>0.0</td>\n",
       "    </tr>\n",
       "    <tr>\n",
       "      <th>1</th>\n",
       "      <td>0</td>\n",
       "      <td>20200101</td>\n",
       "      <td>0.0</td>\n",
       "    </tr>\n",
       "    <tr>\n",
       "      <th>2</th>\n",
       "      <td>0</td>\n",
       "      <td>20200102</td>\n",
       "      <td>0.0</td>\n",
       "    </tr>\n",
       "    <tr>\n",
       "      <th>3</th>\n",
       "      <td>0</td>\n",
       "      <td>20200103</td>\n",
       "      <td>0.0</td>\n",
       "    </tr>\n",
       "    <tr>\n",
       "      <th>4</th>\n",
       "      <td>0</td>\n",
       "      <td>20200104</td>\n",
       "      <td>0.0</td>\n",
       "    </tr>\n",
       "  </tbody>\n",
       "</table>\n",
       "</div>"
      ],
      "text/plain": [
       "   cod_location   date_id  total_cases\n",
       "0             0  20191231          0.0\n",
       "1             0  20200101          0.0\n",
       "2             0  20200102          0.0\n",
       "3             0  20200103          0.0\n",
       "4             0  20200104          0.0"
      ]
     },
     "execution_count": 59,
     "metadata": {},
     "output_type": "execute_result"
    }
   ],
   "source": [
    "selected = dataset[['cod_location','date_id','total_cases']]\n",
    "selected.head()"
   ]
  },
  {
   "cell_type": "code",
   "execution_count": 60,
   "metadata": {},
   "outputs": [],
   "source": [
    "selected = selected.groupby('cod_location').tail(5)"
   ]
  },
  {
   "cell_type": "code",
   "execution_count": 61,
   "metadata": {},
   "outputs": [],
   "source": [
    "selected.head()\n",
    "#Input na rede neural\n",
    "selected.to_csv('input.csv')"
   ]
  },
  {
   "cell_type": "code",
   "execution_count": 62,
   "metadata": {},
   "outputs": [],
   "source": [
    "def aver(input):\n",
    "    medias = input.groupby(['cod_location'])['total_cases'].mean()\n",
    "    return medias"
   ]
  },
  {
   "cell_type": "code",
   "execution_count": 63,
   "metadata": {},
   "outputs": [],
   "source": [
    "def diff(input):\n",
    "    difference = input.groupby('cod_location')['total_cases'].apply(lambda x: x.tail(1).values[0] - x.head(1).values[0])\n",
    "    return difference"
   ]
  },
  {
   "cell_type": "code",
   "execution_count": 64,
   "metadata": {},
   "outputs": [],
   "source": [
    "def first(input):\n",
    "    first = selected.groupby('cod_location')['total_cases'].apply(lambda x: x.head(1).values[0])\n",
    "    return first"
   ]
  },
  {
   "cell_type": "code",
   "execution_count": 65,
   "metadata": {},
   "outputs": [],
   "source": [
    "def last(input):\n",
    "    last = selected.groupby('cod_location')['total_cases'].apply(lambda x: x.tail(1).values[0])\n",
    "    return last"
   ]
  },
  {
   "cell_type": "code",
   "execution_count": 66,
   "metadata": {},
   "outputs": [],
   "source": [
    "def fuzzifyErrorsPos(erro):\n",
    "    return fz.triangulo(erro, [5, 10, 15])"
   ]
  },
  {
   "cell_type": "code",
   "execution_count": 67,
   "metadata": {},
   "outputs": [],
   "source": [
    "def fuzzifyErrorPos(erro):\n",
    "    return fz.triangulo(erro, [0, 5, 10])"
   ]
  },
  {
   "cell_type": "code",
   "execution_count": 68,
   "metadata": {},
   "outputs": [],
   "source": [
    "def fuzzifyErrorZ(erro):\n",
    "    return fz.triangulo(erro, [-5, 0, 5])"
   ]
  },
  {
   "cell_type": "code",
   "execution_count": 69,
   "metadata": {},
   "outputs": [],
   "source": [
    "def fuzzifyErrorNeg(erro):\n",
    "    return fz.triangulo(erro, [-10,-5,0])"
   ]
  },
  {
   "cell_type": "code",
   "execution_count": 70,
   "metadata": {},
   "outputs": [],
   "source": [
    "def fuzzifyErrorsNeg(erro):\n",
    "    return fz.triangulo(erro, [-15,-10,-5])"
   ]
  },
  {
   "cell_type": "code",
   "execution_count": 71,
   "metadata": {},
   "outputs": [],
   "source": [
    "def fuzzifyErrorDotsPos(erroD):\n",
    "    return fz.trapezio(erroD,[5,5.5,8.5,9])"
   ]
  },
  {
   "cell_type": "code",
   "execution_count": 72,
   "metadata": {},
   "outputs": [],
   "source": [
    "def fuzzifyErrorDotPos(erroD):\n",
    "    return fz.triangulo(erroD,[2,4,6])"
   ]
  },
  {
   "cell_type": "code",
   "execution_count": 73,
   "metadata": {},
   "outputs": [],
   "source": [
    "def fuzzifyErrorDotZ(erroD):\n",
    "    return fz.triangulo(erroD,[-2,0,2])"
   ]
  },
  {
   "cell_type": "code",
   "execution_count": 74,
   "metadata": {},
   "outputs": [],
   "source": [
    "def fuzzifyErrorDotNeg(erroD):\n",
    "    return fz.triangulo(erroD,[-2,-4,-6])"
   ]
  },
  {
   "cell_type": "code",
   "execution_count": 75,
   "metadata": {},
   "outputs": [],
   "source": [
    "def fuzzifyErrorDotsNeg(erroD):\n",
    "    return fz.trapezio(erroD,[-5,-5.5,-8.5,-9])"
   ]
  },
  {
   "cell_type": "code",
   "execution_count": 76,
   "metadata": {},
   "outputs": [],
   "source": [
    "def agrega(regras, sbot, bot, mid, top, stop):\n",
    "    result = [0] * 200\n",
    "    for regra in range(len(regras)):\n",
    "        for i in range(200):\n",
    "            if regras[regra][0]>0 and i < 95:\n",
    "                result[i] = min(regras[regra][0], bot[i])\n",
    "            if regras[regra][1]>0 and i > 90 and i<110:\n",
    "                result[i] = min(regras[regra][1], mid[i])\n",
    "            if regras[regra][2]>0 and i > 80 and i<130:\n",
    "                result[i] = min(regras[regra][2], top[i])\n",
    "            if regras[regra][3]>0 and i > 125 and i<150:\n",
    "                result[i] = min(regras[regra][3], bot[i])\n",
    "            if regras[regra][4]>0 and i > 145:\n",
    "                result[i] = min(regras[regra][4], mid[i])\n",
    "    return result"
   ]
  },
  {
   "cell_type": "code",
   "execution_count": 77,
   "metadata": {},
   "outputs": [],
   "source": [
    "def OutputSugDecr():\n",
    "    return fz.getTrapPlot(0, 200, [0, 0, 30, 95], \"left\")"
   ]
  },
  {
   "cell_type": "code",
   "execution_count": 78,
   "metadata": {},
   "outputs": [],
   "source": [
    "def OutputDecr():\n",
    "    return fz.getTriPlot(0, 200, [90, 100, 110])"
   ]
  },
  {
   "cell_type": "code",
   "execution_count": 79,
   "metadata": {},
   "outputs": [],
   "source": [
    "def OutputPlat():\n",
    "    return fz.getTriPlot(0, 200, [80, 120, 130])"
   ]
  },
  {
   "cell_type": "code",
   "execution_count": 80,
   "metadata": {},
   "outputs": [],
   "source": [
    "def OutputCres():\n",
    "    return fz.getTriPlot(0, 200, [125, 140, 150])"
   ]
  },
  {
   "cell_type": "code",
   "execution_count": 81,
   "metadata": {},
   "outputs": [],
   "source": [
    "def OutputSugCres():\n",
    "    return fz.getTrapPlot(0, 200, [145, 180, 200, 200], \"right\")"
   ]
  },
  {
   "cell_type": "code",
   "execution_count": 82,
   "metadata": {},
   "outputs": [],
   "source": [
    "def verifRegras(erro, erroD):\n",
    "    regras = [[0] * 4 for i in range(4)]\n",
    "    \n",
    "    fuzzifyErrorsNega = fuzzifyErrorsNeg(erro)\n",
    "    fuzzifyErrorNega = fuzzifyErrorNeg(erro)\n",
    "    fuzzifyErrorZe = fuzzifyErrorZ(erro)\n",
    "    fuzzifyErrorPosi= fuzzifyErrorPos(erro)\n",
    "    fuzzifyErrorsPosi= fuzzifyErrorsPos(erro)\n",
    "    \n",
    "    fuzzifyErrorDotsNega = fuzzifyErrorDotsNeg(erroD)\n",
    "    fuzzifyErrorDotNega = fuzzifyErrorDotNeg(erroD)\n",
    "    fuzzifyErrorDotZe = fuzzifyErrorDotZ(erroD)\n",
    "    fuzzifyErrorDotPosi = fuzzifyErrorDotPos(erroD)\n",
    "    fuzzifyErrorDotsPosi = fuzzifyErrorDotsPos(erroD)\n",
    "    \n",
    "    regras[0][0] = min(fuzzifyErrorsNega,fuzzifyErrorDotsNega)\n",
    "    regras[0][1] = min(fuzzifyErrorNega,fuzzifyErrorDotsNega)\n",
    "    regras[0][2] = min(fuzzifyErrorZe,fuzzifyErrorDotsNega)\n",
    "    regras[0][3] = min(fuzzifyErrorPosi,fuzzifyErrorDotsNega)\n",
    "    regras[0][4] = min(fuzzifyErrorsPosi,fuzzifyErrorDotsNega)\n",
    "    \n",
    "    regras[1][0] = min(fuzzifyErrorsNega,fuzzifyErrorDotNega)\n",
    "    regras[1][1] = min(fuzzifyErrorNega,fuzzifyErrorDotNega)\n",
    "    regras[1][2] = min(fuzzifyErrorZe,fuzzifyErrorDotNega)\n",
    "    regras[1][3] = min(fuzzifyErrorPosi,fuzzifyErrorDotNega)\n",
    "    regras[1][4] = min(fuzzifyErrorsPosi,fuzzifyErrorDotNega)\n",
    "    \n",
    "    regras[2][0] = min(fuzzifyErrorsNega,fuzzifyErrorDotZe)\n",
    "    regras[2][1] = min(fuzzifyErrorNega,fuzzifyErrorDotZe)\n",
    "    regras[2][2] = min(fuzzifyErrorZe,fuzzifyErrorDotZe)\n",
    "    regras[2][3] = min(fuzzifyErrorPosi,fuzzifyErrorDotZe)\n",
    "    regras[2][4] = min(fuzzifyErrorsPosi,fuzzifyErrorDotZe)\n",
    "    \n",
    "    regras[3][0] = min(fuzzifyErrorsNega,fuzzifyErrorDotPosi)\n",
    "    regras[3][1] = min(fuzzifyErrorNega,fuzzifyErrorDotPosi)\n",
    "    regras[3][2] = min(fuzzifyErrorZe,fuzzifyErrorDotPosi)\n",
    "    regras[3][3] = min(fuzzifyErrorPosi,fuzzifyErrorDotPosi)\n",
    "    regras[3][4] = min(fuzzifyErrorsPosi,fuzzifyErrorDotPosi)\n",
    "    \n",
    "    regras[4][0] = min(fuzzifyErrorsNega,fuzzifyErrorDotsPosi)\n",
    "    regras[4][1] = min(fuzzifyErrorNega,fuzzifyErrorDotsPosi)\n",
    "    regras[4][2] = min(fuzzifyErrorZe,fuzzifyErrorDotsPosi)\n",
    "    regras[4][3] = min(fuzzifyErrorPosi,fuzzifyErrorDotsPosi)\n",
    "    regras[4][4] = min(fuzzifyErrorsPosi,fuzzifyErrorDotsPosi)\n",
    "    \n",
    "    return regras"
   ]
  },
  {
   "cell_type": "code",
   "execution_count": 83,
   "metadata": {},
   "outputs": [],
   "source": [
    "media = aver(selected)\n",
    "diffe = diff(selected)\n",
    "first = first(selected)\n",
    "target = media - (media * 28) / 100"
   ]
  },
  {
   "cell_type": "code",
   "execution_count": 84,
   "metadata": {},
   "outputs": [],
   "source": [
    "prevError = target - first\n",
    "currError = target - diffe"
   ]
  },
  {
   "cell_type": "code",
   "execution_count": 85,
   "metadata": {},
   "outputs": [],
   "source": [
    "error = 1.5\n",
    "#currError\n",
    "dervError = 2.75\n",
    "#first - diffe"
   ]
  },
  {
   "cell_type": "code",
   "execution_count": 86,
   "metadata": {},
   "outputs": [
    {
     "ename": "IndexError",
     "evalue": "list assignment index out of range",
     "output_type": "error",
     "traceback": [
      "\u001b[1;31m---------------------------------------------------------------------------\u001b[0m",
      "\u001b[1;31mIndexError\u001b[0m                                Traceback (most recent call last)",
      "\u001b[1;32m<ipython-input-86-07b678d01d09>\u001b[0m in \u001b[0;36m<module>\u001b[1;34m\u001b[0m\n\u001b[0;32m      1\u001b[0m \u001b[1;31m##\u001b[0m\u001b[1;33m\u001b[0m\u001b[1;33m\u001b[0m\u001b[1;33m\u001b[0m\u001b[0m\n\u001b[1;32m----> 2\u001b[1;33m \u001b[0mRegras\u001b[0m \u001b[1;33m=\u001b[0m \u001b[0mverifRegras\u001b[0m\u001b[1;33m(\u001b[0m\u001b[0merror\u001b[0m\u001b[1;33m,\u001b[0m \u001b[0mdervError\u001b[0m\u001b[1;33m)\u001b[0m\u001b[1;33m\u001b[0m\u001b[1;33m\u001b[0m\u001b[0m\n\u001b[0m\u001b[0;32m      3\u001b[0m \u001b[0mvA\u001b[0m \u001b[1;33m=\u001b[0m \u001b[0magrega\u001b[0m\u001b[1;33m(\u001b[0m\u001b[0mRegras\u001b[0m\u001b[1;33m,\u001b[0m \u001b[0mOutputSugDecr\u001b[0m\u001b[1;33m(\u001b[0m\u001b[1;33m)\u001b[0m\u001b[1;33m,\u001b[0m \u001b[0mOutputDecr\u001b[0m\u001b[1;33m(\u001b[0m\u001b[1;33m)\u001b[0m\u001b[1;33m,\u001b[0m \u001b[0mOutputPlat\u001b[0m\u001b[1;33m(\u001b[0m\u001b[1;33m)\u001b[0m\u001b[1;33m,\u001b[0m \u001b[0mOutputCres\u001b[0m\u001b[1;33m(\u001b[0m\u001b[1;33m)\u001b[0m\u001b[1;33m,\u001b[0m \u001b[0mOutputSugCres\u001b[0m\u001b[1;33m(\u001b[0m\u001b[1;33m)\u001b[0m\u001b[1;33m)\u001b[0m\u001b[1;33m\u001b[0m\u001b[1;33m\u001b[0m\u001b[0m\n\u001b[0;32m      4\u001b[0m \u001b[0mcentroide\u001b[0m \u001b[1;33m=\u001b[0m \u001b[0mfz\u001b[0m\u001b[1;33m.\u001b[0m\u001b[0mgetCentroid\u001b[0m\u001b[1;33m(\u001b[0m\u001b[0mvA\u001b[0m\u001b[1;33m)\u001b[0m\u001b[1;33m\u001b[0m\u001b[1;33m\u001b[0m\u001b[0m\n\u001b[0;32m      5\u001b[0m \u001b[1;33m\u001b[0m\u001b[0m\n",
      "\u001b[1;32m<ipython-input-82-7020be1619e5>\u001b[0m in \u001b[0;36mverifRegras\u001b[1;34m(erro, erroD)\u001b[0m\n\u001b[0;32m     18\u001b[0m     \u001b[0mregras\u001b[0m\u001b[1;33m[\u001b[0m\u001b[1;36m0\u001b[0m\u001b[1;33m]\u001b[0m\u001b[1;33m[\u001b[0m\u001b[1;36m2\u001b[0m\u001b[1;33m]\u001b[0m \u001b[1;33m=\u001b[0m \u001b[0mmin\u001b[0m\u001b[1;33m(\u001b[0m\u001b[0mfuzzifyErrorZe\u001b[0m\u001b[1;33m,\u001b[0m\u001b[0mfuzzifyErrorDotsNega\u001b[0m\u001b[1;33m)\u001b[0m\u001b[1;33m\u001b[0m\u001b[1;33m\u001b[0m\u001b[0m\n\u001b[0;32m     19\u001b[0m     \u001b[0mregras\u001b[0m\u001b[1;33m[\u001b[0m\u001b[1;36m0\u001b[0m\u001b[1;33m]\u001b[0m\u001b[1;33m[\u001b[0m\u001b[1;36m3\u001b[0m\u001b[1;33m]\u001b[0m \u001b[1;33m=\u001b[0m \u001b[0mmin\u001b[0m\u001b[1;33m(\u001b[0m\u001b[0mfuzzifyErrorPosi\u001b[0m\u001b[1;33m,\u001b[0m\u001b[0mfuzzifyErrorDotsNega\u001b[0m\u001b[1;33m)\u001b[0m\u001b[1;33m\u001b[0m\u001b[1;33m\u001b[0m\u001b[0m\n\u001b[1;32m---> 20\u001b[1;33m     \u001b[0mregras\u001b[0m\u001b[1;33m[\u001b[0m\u001b[1;36m0\u001b[0m\u001b[1;33m]\u001b[0m\u001b[1;33m[\u001b[0m\u001b[1;36m4\u001b[0m\u001b[1;33m]\u001b[0m \u001b[1;33m=\u001b[0m \u001b[0mmin\u001b[0m\u001b[1;33m(\u001b[0m\u001b[0mfuzzifyErrorsPosi\u001b[0m\u001b[1;33m,\u001b[0m\u001b[0mfuzzifyErrorDotsNega\u001b[0m\u001b[1;33m)\u001b[0m\u001b[1;33m\u001b[0m\u001b[1;33m\u001b[0m\u001b[0m\n\u001b[0m\u001b[0;32m     21\u001b[0m \u001b[1;33m\u001b[0m\u001b[0m\n\u001b[0;32m     22\u001b[0m     \u001b[0mregras\u001b[0m\u001b[1;33m[\u001b[0m\u001b[1;36m1\u001b[0m\u001b[1;33m]\u001b[0m\u001b[1;33m[\u001b[0m\u001b[1;36m0\u001b[0m\u001b[1;33m]\u001b[0m \u001b[1;33m=\u001b[0m \u001b[0mmin\u001b[0m\u001b[1;33m(\u001b[0m\u001b[0mfuzzifyErrorsNega\u001b[0m\u001b[1;33m,\u001b[0m\u001b[0mfuzzifyErrorDotNega\u001b[0m\u001b[1;33m)\u001b[0m\u001b[1;33m\u001b[0m\u001b[1;33m\u001b[0m\u001b[0m\n",
      "\u001b[1;31mIndexError\u001b[0m: list assignment index out of range"
     ]
    }
   ],
   "source": [
    "##\n",
    "Regras = verifRegras(error, dervError)\n",
    "vA = agrega(Regras, OutputSugDecr(), OutputDecr(), OutputPlat(), OutputCres(), OutputSugCres())\n",
    "centroide = fz.getCentroid(vA)\n",
    "\n",
    "print(error)\n",
    "print(dervError)\n",
    "print(centroide)\n",
    "##"
   ]
  },
  {
   "cell_type": "code",
   "execution_count": null,
   "metadata": {},
   "outputs": [],
   "source": []
  },
  {
   "cell_type": "code",
   "execution_count": null,
   "metadata": {},
   "outputs": [],
   "source": []
  }
 ],
 "metadata": {
  "kernelspec": {
   "display_name": "Python 3",
   "language": "python",
   "name": "python3"
  },
  "language_info": {
   "codemirror_mode": {
    "name": "ipython",
    "version": 3
   },
   "file_extension": ".py",
   "mimetype": "text/x-python",
   "name": "python",
   "nbconvert_exporter": "python",
   "pygments_lexer": "ipython3",
   "version": "3.7.6"
  }
 },
 "nbformat": 4,
 "nbformat_minor": 4
}
