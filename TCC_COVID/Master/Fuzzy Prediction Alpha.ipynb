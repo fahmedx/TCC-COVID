{
 "cells": [
  {
   "cell_type": "code",
   "execution_count": 3,
   "metadata": {},
   "outputs": [],
   "source": [
    "import pandas as pd\n",
    "import numpy as np\n",
    "import sys\n",
    "import math \n",
    "import seaborn as sea\n",
    "import datetime as dt\n",
    "from datetime import timedelta\n",
    "from operator import itemgetter\n",
    "from functools import partial\n",
    "url = \"in.csv\""
   ]
  },
  {
   "cell_type": "code",
   "execution_count": 4,
   "metadata": {},
   "outputs": [],
   "source": [
    "dataset = pd.read_csv(url, error_bad_lines=False)"
   ]
  },
  {
   "cell_type": "code",
   "execution_count": 5,
   "metadata": {},
   "outputs": [
    {
     "data": {
      "text/html": [
       "<div>\n",
       "<style scoped>\n",
       "    .dataframe tbody tr th:only-of-type {\n",
       "        vertical-align: middle;\n",
       "    }\n",
       "\n",
       "    .dataframe tbody tr th {\n",
       "        vertical-align: top;\n",
       "    }\n",
       "\n",
       "    .dataframe thead th {\n",
       "        text-align: right;\n",
       "    }\n",
       "</style>\n",
       "<table border=\"1\" class=\"dataframe\">\n",
       "  <thead>\n",
       "    <tr style=\"text-align: right;\">\n",
       "      <th></th>\n",
       "      <th>cod_location</th>\n",
       "      <th>date_id</th>\n",
       "      <th>total_cases</th>\n",
       "    </tr>\n",
       "  </thead>\n",
       "  <tbody>\n",
       "    <tr>\n",
       "      <th>0</th>\n",
       "      <td>9</td>\n",
       "      <td>20200313</td>\n",
       "      <td>2.0</td>\n",
       "    </tr>\n",
       "    <tr>\n",
       "      <th>1</th>\n",
       "      <td>9</td>\n",
       "      <td>20200319</td>\n",
       "      <td>0.0</td>\n",
       "    </tr>\n",
       "    <tr>\n",
       "      <th>2</th>\n",
       "      <td>9</td>\n",
       "      <td>20200320</td>\n",
       "      <td>4.0</td>\n",
       "    </tr>\n",
       "    <tr>\n",
       "      <th>3</th>\n",
       "      <td>9</td>\n",
       "      <td>20200321</td>\n",
       "      <td>0.0</td>\n",
       "    </tr>\n",
       "    <tr>\n",
       "      <th>4</th>\n",
       "      <td>9</td>\n",
       "      <td>20200322</td>\n",
       "      <td>0.0</td>\n",
       "    </tr>\n",
       "  </tbody>\n",
       "</table>\n",
       "</div>"
      ],
      "text/plain": [
       "   cod_location   date_id  total_cases\n",
       "0             9  20200313          2.0\n",
       "1             9  20200319          0.0\n",
       "2             9  20200320          4.0\n",
       "3             9  20200321          0.0\n",
       "4             9  20200322          0.0"
      ]
     },
     "execution_count": 5,
     "metadata": {},
     "output_type": "execute_result"
    }
   ],
   "source": [
    "selected = dataset[['cod_location','date_id','total_cases']]\n",
    "selected.head()"
   ]
  },
  {
   "cell_type": "code",
   "execution_count": 6,
   "metadata": {},
   "outputs": [],
   "source": [
    "selected = selected.groupby('cod_location').tail(5)"
   ]
  },
  {
   "cell_type": "code",
   "execution_count": 7,
   "metadata": {},
   "outputs": [
    {
     "data": {
      "text/html": [
       "<div>\n",
       "<style scoped>\n",
       "    .dataframe tbody tr th:only-of-type {\n",
       "        vertical-align: middle;\n",
       "    }\n",
       "\n",
       "    .dataframe tbody tr th {\n",
       "        vertical-align: top;\n",
       "    }\n",
       "\n",
       "    .dataframe thead th {\n",
       "        text-align: right;\n",
       "    }\n",
       "</style>\n",
       "<table border=\"1\" class=\"dataframe\">\n",
       "  <thead>\n",
       "    <tr style=\"text-align: right;\">\n",
       "      <th></th>\n",
       "      <th>cod_location</th>\n",
       "      <th>date_id</th>\n",
       "      <th>total_cases</th>\n",
       "    </tr>\n",
       "  </thead>\n",
       "  <tbody>\n",
       "    <tr>\n",
       "      <th>183</th>\n",
       "      <td>9</td>\n",
       "      <td>20200917</td>\n",
       "      <td>3328.0</td>\n",
       "    </tr>\n",
       "    <tr>\n",
       "      <th>184</th>\n",
       "      <td>9</td>\n",
       "      <td>20200918</td>\n",
       "      <td>3382.0</td>\n",
       "    </tr>\n",
       "    <tr>\n",
       "      <th>185</th>\n",
       "      <td>9</td>\n",
       "      <td>20200919</td>\n",
       "      <td>3460.0</td>\n",
       "    </tr>\n",
       "    <tr>\n",
       "      <th>186</th>\n",
       "      <td>9</td>\n",
       "      <td>20200920</td>\n",
       "      <td>3460.0</td>\n",
       "    </tr>\n",
       "    <tr>\n",
       "      <th>187</th>\n",
       "      <td>9</td>\n",
       "      <td>20200921</td>\n",
       "      <td>3551.0</td>\n",
       "    </tr>\n",
       "  </tbody>\n",
       "</table>\n",
       "</div>"
      ],
      "text/plain": [
       "     cod_location   date_id  total_cases\n",
       "183             9  20200917       3328.0\n",
       "184             9  20200918       3382.0\n",
       "185             9  20200919       3460.0\n",
       "186             9  20200920       3460.0\n",
       "187             9  20200921       3551.0"
      ]
     },
     "execution_count": 7,
     "metadata": {},
     "output_type": "execute_result"
    }
   ],
   "source": [
    "selected.head()"
   ]
  },
  {
   "cell_type": "code",
   "execution_count": 8,
   "metadata": {},
   "outputs": [],
   "source": [
    "#Input na rede neural\n",
    "selected.to_csv('input.csv')"
   ]
  },
  {
   "cell_type": "code",
   "execution_count": 9,
   "metadata": {},
   "outputs": [],
   "source": [
    "def aver(input):\n",
    "    medias = input.groupby(['cod_location'])['total_cases'].mean()\n",
    "    return medias"
   ]
  },
  {
   "cell_type": "code",
   "execution_count": 10,
   "metadata": {},
   "outputs": [],
   "source": [
    "def diff(input):\n",
    "    difference = input.groupby('cod_location')['total_cases'].apply(lambda x: x.tail(1).values[0] - x.head(1).values[0])\n",
    "    return difference"
   ]
  },
  {
   "cell_type": "code",
   "execution_count": 11,
   "metadata": {},
   "outputs": [],
   "source": [
    "def range(init, end, step=1):\n",
    "    start = float(init)\n",
    "    stop = float(end)\n",
    "    step = float(step)\n",
    "    \n",
    "    result = [start]\n",
    "    curr = start\n",
    "    while curr < stop:\n",
    "        curr += step\n",
    "        result.append(curr)\n",
    "    return result"
   ]
  },
  {
   "cell_type": "code",
   "execution_count": 12,
   "metadata": {},
   "outputs": [],
   "source": [
    "#Funções de mebramento\n",
    "def up(a, b, x):\n",
    "    a = float(a)\n",
    "    b = float(b)\n",
    "    x = float(x)\n",
    "    if x < a:\n",
    "        return 0\n",
    "    if x < b:\n",
    "        return (x - a) / (b - a)\n",
    "    return 1.0"
   ]
  },
  {
   "cell_type": "code",
   "execution_count": 13,
   "metadata": {},
   "outputs": [],
   "source": [
    "def down(a, b, x):\n",
    "    return 1. - up(a, b, x)"
   ]
  },
  {
   "cell_type": "code",
   "execution_count": 14,
   "metadata": {},
   "outputs": [],
   "source": [
    "def tri(a, b, x):\n",
    "    a = float(a)\n",
    "    b = float(b)\n",
    "    m = (a + b) / 2.\n",
    "    first = (x - a) / (m - a)\n",
    "    second = (b - x) / (b - m)\n",
    "    return max(min(first, second), 0.)"
   ]
  },
  {
   "cell_type": "code",
   "execution_count": 15,
   "metadata": {},
   "outputs": [],
   "source": [
    "def trap(a, b, c, d, x):\n",
    "    first = (x - a) / (b - a)\n",
    "    second = (d - x) / (d - c)\n",
    "    return max(min(first, 1., second), 0.)"
   ]
  },
  {
   "cell_type": "code",
   "execution_count": 16,
   "metadata": {},
   "outputs": [],
   "source": [
    "def edge(p, valor):\n",
    "    if not p:\n",
    "        return 0.0\n",
    "    return math.pow(valor,p)\n",
    "muito = partial(edge,2.)\n",
    "extremamente = partial(edge,3.)\n",
    "pouco = partial(edge,0.5)\n",
    "levemente = partial(edge, 1. /3.)"
   ]
  },
  {
   "cell_type": "code",
   "execution_count": 17,
   "metadata": {},
   "outputs": [],
   "source": [
    "def fuzzyficacao(dominio,tipo):\n",
    "    domin_sz = float(len(dominio))\n",
    "    delta = lambda x: x if (x < 0.5) else (1.0 - x)\n",
    "    result = (2. / domin_sz) \n",
    "    return result"
   ]
  },
  {
   "cell_type": "code",
   "execution_count": 18,
   "metadata": {},
   "outputs": [],
   "source": [
    "def aprox(fuzzy, n, dominio):\n",
    "    hw = fuzzy * (max(dominio) - min(dominio))\n",
    "    return  partial(tri, n - hw, n + hw)"
   ]
  },
  {
   "cell_type": "code",
   "execution_count": 20,
   "metadata": {},
   "outputs": [],
   "source": [
    "########################USAR PARA TESTES, DEPOIS SUBSTITUIR PELOS DADOS DO DATASET#############################################\n",
    "companies = [\n",
    "    ('a', 500, 7), ('b', 600, -9), ('c', 800, 17),\n",
    "    ('d', 850, 12), ('e', 900, -11), ('f', 1000, 15),\n",
    "    ('g', 1100, 14), ('h', 1200, 1), ('i', 1300, -2),\n",
    "    ('j', 1400, -6), ('k', 1500, 12)\n",
    "]\n",
    "profit = itemgetter(2)\n",
    "sales = itemgetter(1)\n",
    "\n",
    "percentages = map(float, range(-10, 30, 1))\n",
    "profitable = partial(up, 0., 15.)\n",
    "high = partial(up, 600., 1150.)\n",
    "\n",
    "fand = min\n",
    "\n",
    "def filtro(predicado, itens):\n",
    "    snd = itemgetter(1)\n",
    "    return filtro(\n",
    "        lambda x: snd(x) != 0.0,\n",
    "        map(predicado, itens)\n",
    "    )\n",
    "\n",
    "def p1(company):\n",
    "    value = profitable(profitable(profit(company)))\n",
    "    return (company, fand(value,1))\n",
    "\n",
    "def p2(company):\n",
    "    a = profitable(profit(company))\n",
    "    b = high(sales(company))\n",
    "    return (company,fand(a,b))\n",
    "\n",
    "def p3(company):\n",
    "    a = somewhat(profitable(profit(company)))\n",
    "    b = very(high(sales(company)))\n",
    "    return (company,fand(a,b))\n",
    "\n",
    "# exemplo \n",
    "sizes = range(4,13,0.5)\n",
    "\n",
    "short = partial(down, 1.5, 1.625)\n",
    "medium = partial(tri, 1.525, 1.775)\n",
    "tall = partial(tri, 1.675, 1.925)\n",
    "very_tall = partial(up, 1.825, 1.95)\n",
    "\n",
    "def small(size):\n",
    "    return down(4., 6., size)\n",
    "\n",
    "\n",
    "#average = partial(tri, 5., 9.)\n",
    "def average(size):\n",
    "    return tri(5., 9., size)\n",
    "\n",
    "\n",
    "#big = partial(tri, 8., 12.)\n",
    "def big(size):\n",
    "    return tri(8., 12., size)\n",
    "\n",
    "\n",
    "#very_big = partial(up, 11., 13.)\n",
    "def very_big(size):\n",
    "    return up(11., 13., size)\n",
    "\n",
    "#fl.near(20, fl.range(0, 40, 1))(17.5)\n",
    "near = partial(aprox, 0.125)\n",
    "around = partial(aprox, 0.25)\n",
    "roughly = partial(aprox, 0.375)\n",
    "\n",
    "\n",
    "rules = [\n",
    "    (short, small),\n",
    "    (medium, average),\n",
    "    (tall, big),\n",
    "    (very_tall, very_big)\n",
    "]\n",
    "################################################################################################################################"
   ]
  },
  {
   "cell_type": "code",
   "execution_count": 21,
   "metadata": {},
   "outputs": [],
   "source": [
    "def func_att(val,func, sz):\n",
    "    prim = func(sz)\n",
    "    return (val * prim)"
   ]
  },
  {
   "cell_type": "code",
   "execution_count": null,
   "metadata": {},
   "outputs": [],
   "source": []
  }
 ],
 "metadata": {
  "kernelspec": {
   "display_name": "Python 3",
   "language": "python",
   "name": "python3"
  },
  "language_info": {
   "codemirror_mode": {
    "name": "ipython",
    "version": 3
   },
   "file_extension": ".py",
   "mimetype": "text/x-python",
   "name": "python",
   "nbconvert_exporter": "python",
   "pygments_lexer": "ipython3",
   "version": "3.7.6"
  }
 },
 "nbformat": 4,
 "nbformat_minor": 4
}
