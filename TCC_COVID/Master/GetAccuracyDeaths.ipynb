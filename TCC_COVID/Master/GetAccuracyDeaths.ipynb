{
 "cells": [
  {
   "cell_type": "code",
   "execution_count": 2,
   "metadata": {},
   "outputs": [
    {
     "data": {
      "text/plain": [
       "19.591474957043836"
      ]
     },
     "execution_count": 2,
     "metadata": {},
     "output_type": "execute_result"
    }
   ],
   "source": [
    "import pandas as pd\n",
    "import numpy as np\n",
    "import import_ipynb\n",
    "import sys\n",
    "import math \n",
    "import seaborn as sea\n",
    "import datetime as dt\n",
    "import Fuzzy_Prediction_Beta as fz\n",
    "from datetime import timedelta\n",
    "from operator import itemgetter\n",
    "from functools import partial\n",
    "from statistics import mean \n",
    "\n",
    "url = \"in.csv\"\n",
    "\n",
    "dataset = pd.read_csv(url, error_bad_lines=False)\n",
    "\n",
    "selected = dataset[['cod_location','date_id','total_deaths']]\n",
    "\n",
    "rasuto = selected.groupby('cod_location').tail(5)\n",
    "selected = selected.groupby('cod_location').tail(10)\n",
    "selected = selected.groupby('cod_location').head(5)\n",
    "\n",
    "selected.head()\n",
    "#Input na rede neural\n",
    "selected.to_csv('input_d.csv')\n",
    "\n",
    "def aver(input):\n",
    "    medias = input.groupby('cod_location')['total_deaths'].apply(lambda x: x.tail(5).mean())\n",
    "    return medias\n",
    "\n",
    "def diff(input):\n",
    "    difference = input.groupby('cod_location')['total_deaths'].apply(lambda x: x.tail(1).values[0] - x.head(1).values[0])\n",
    "    return difference\n",
    "\n",
    "def first(input):\n",
    "    first = selected.groupby('cod_location')['total_deaths'].apply(lambda x: x.head(1).values[0])\n",
    "    return first\n",
    "\n",
    "def last(input):\n",
    "    last = selected.groupby('cod_location')['total_deaths'].apply(lambda x: x.tail(1).values[0])\n",
    "    return last\n",
    "\n",
    "def firsta(input):\n",
    "    first = rasuto.groupby('cod_location')['total_deaths'].apply(lambda x: x.head(1).values[0])\n",
    "    return first\n",
    "\n",
    "def lasto(input):\n",
    "    last = rasuto.groupby('cod_location')['total_deaths'].apply(lambda x: x.tail(1).values[0])\n",
    "    return last\n",
    "\n",
    "def param(last,diffe):\n",
    "    param = last + diffe\n",
    "    return param\n",
    "\n",
    "media = aver(selected)\n",
    "diffe = diff(selected)\n",
    "first = first(selected)\n",
    "last = last(selected)\n",
    "param =  last + diffe\n",
    "maximus = max(selected['total_deaths'])\n",
    "\n",
    "mediaa = aver(rasuto)\n",
    "diffee = diff(rasuto)\n",
    "firsta = firsta(rasuto)\n",
    "lastt = lasto(rasuto)\n",
    "paramm =  lastt + diffee\n",
    "maximuss = max(rasuto['total_deaths'])\n",
    "\n",
    "centroid_fore_data = pd.DataFrame()\n",
    "centroid_act_data = pd.DataFrame()\n",
    "\n",
    "for i in range(213):\n",
    "    Regras = fz.verifRegras(param[i], media[i])\n",
    "    centroid_fore = fz.getCentroid(media[i],Regras,param[i])\n",
    "    centroid_fore_data = centroid_fore_data.append({'cd_local':i,'centroid':centroid_fore}, ignore_index=True)\n",
    "    Rules = fz.verifRegras(paramm[i], mediaa[i])\n",
    "    centroid_act = fz.getCentroid(mediaa[i],Rules,paramm[i])\n",
    "    centroid_act_data = centroid_act_data.append({'cd_local':i,'centroid':centroid_act}, ignore_index=True)\n",
    "\n",
    "Error = ((abs(centroid_act_data['centroid'] - centroid_fore_data['centroid']) / centroid_act_data['centroid']) * 100)\n",
    "\n",
    "where_are_NaN = np.isnan(Error)\n",
    "Error[where_are_NaN] = 0\n",
    "\n",
    "where_are_in = np.isinf(Error)\n",
    "Error[where_are_in] = 100\n",
    "\n",
    "\n",
    "for i in range(213):\n",
    "    if Error[i] > 100:\n",
    "        Error[i] = 100\n",
    "\n",
    "Error.mean()"
   ]
  },
  {
   "cell_type": "code",
   "execution_count": null,
   "metadata": {},
   "outputs": [],
   "source": []
  },
  {
   "cell_type": "code",
   "execution_count": null,
   "metadata": {},
   "outputs": [],
   "source": []
  },
  {
   "cell_type": "code",
   "execution_count": null,
   "metadata": {},
   "outputs": [],
   "source": []
  }
 ],
 "metadata": {
  "kernelspec": {
   "display_name": "Python 3",
   "language": "python",
   "name": "python3"
  },
  "language_info": {
   "codemirror_mode": {
    "name": "ipython",
    "version": 3
   },
   "file_extension": ".py",
   "mimetype": "text/x-python",
   "name": "python",
   "nbconvert_exporter": "python",
   "pygments_lexer": "ipython3",
   "version": "3.7.6"
  }
 },
 "nbformat": 4,
 "nbformat_minor": 4
}
