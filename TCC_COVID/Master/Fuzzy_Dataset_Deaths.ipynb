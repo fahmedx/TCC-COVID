{
 "cells": [
  {
   "cell_type": "code",
   "execution_count": 1,
   "metadata": {},
   "outputs": [
    {
     "name": "stdout",
     "output_type": "stream",
     "text": [
      "importing Jupyter notebook from Fuzzy_Prediction_Beta.ipynb\n"
     ]
    }
   ],
   "source": [
    "import pandas as pd\n",
    "import numpy as np\n",
    "import import_ipynb\n",
    "import sys\n",
    "import math \n",
    "import seaborn as sea\n",
    "import datetime as dt\n",
    "import Fuzzy_Prediction_Beta as fz\n",
    "from datetime import timedelta\n",
    "from operator import itemgetter\n",
    "from functools import partial\n",
    "url = \"in.csv\"\n",
    "\n",
    "dataset = pd.read_csv(url, error_bad_lines=False)\n",
    "\n",
    "selected = dataset[['cod_location','date_id','total_deaths']]\n",
    "\n",
    "selected = selected.groupby('cod_location').tail(5)\n",
    "\n",
    "selected.head()\n",
    "#Input na rede neural\n",
    "selected.to_csv('input_d.csv')\n",
    "\n",
    "def aver(input):\n",
    "    medias = input.groupby('cod_location')['total_deaths'].apply(lambda x: x.tail(5).mean())\n",
    "    return medias\n",
    "\n",
    "def diff(input):\n",
    "    difference = input.groupby('cod_location')['total_deaths'].apply(lambda x: x.tail(1).values[0] - x.head(1).values[0])\n",
    "    return difference\n",
    "\n",
    "def first(input):\n",
    "    first = selected.groupby('cod_location')['total_deaths'].apply(lambda x: x.head(1).values[0])\n",
    "    return first\n",
    "\n",
    "def last(input):\n",
    "    last = selected.groupby('cod_location')['total_deaths'].apply(lambda x: x.tail(1).values[0])\n",
    "    return last\n",
    "\n",
    "def param(last,diffe):\n",
    "    param = last + diffe\n",
    "    return param\n",
    "\n",
    "media = aver(selected)\n",
    "diffe = diff(selected)\n",
    "first = first(selected)\n",
    "last = last(selected)\n",
    "param =  last + diffe\n",
    "maximus = max(selected['total_deaths'])\n",
    "\n",
    "fuzzy_data = pd.DataFrame()"
   ]
  },
  {
   "cell_type": "code",
   "execution_count": 2,
   "metadata": {},
   "outputs": [],
   "source": [
    "## Códigos: 0-Queda Brusca 1-Queda 2-Platô 3-Subida 4-Subida Brusca\n",
    "for i in range(213):\n",
    "    Regras = fz.verifRegras(param[i], media[i])\n",
    "    prev = fz.defuzzyfication(np.argmax(Regras))\n",
    "    per  = fz.getPercentage(Regras)\n",
    "    centroid = fz.getCentroid(media[i],Regras,param[i])\n",
    "    fuzzy_data = fuzzy_data.append({'cd_local':i,'id_death_prev':prev,'percent':per,'previsao_numerica':centroid},ignore_index=True)\n",
    "    fuzzy_data['cd_local'] = fuzzy_data['cd_local'].astype(int)\n",
    "    fuzzy_data['id_death_prev'] = fuzzy_data['id_death_prev'].astype(int)"
   ]
  },
  {
   "cell_type": "code",
   "execution_count": 3,
   "metadata": {},
   "outputs": [],
   "source": [
    "fuzzy_data.to_csv('predict_deaths.csv', sep=';', decimal=',')"
   ]
  },
  {
   "cell_type": "code",
   "execution_count": null,
   "metadata": {},
   "outputs": [],
   "source": []
  }
 ],
 "metadata": {
  "kernelspec": {
   "display_name": "Python 3",
   "language": "python",
   "name": "python3"
  },
  "language_info": {
   "codemirror_mode": {
    "name": "ipython",
    "version": 3
   },
   "file_extension": ".py",
   "mimetype": "text/x-python",
   "name": "python",
   "nbconvert_exporter": "python",
   "pygments_lexer": "ipython3",
   "version": "3.7.6"
  }
 },
 "nbformat": 4,
 "nbformat_minor": 4
}
