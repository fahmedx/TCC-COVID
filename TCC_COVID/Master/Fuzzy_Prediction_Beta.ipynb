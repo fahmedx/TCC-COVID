{
 "cells": [
  {
   "cell_type": "code",
   "execution_count": 1,
   "metadata": {},
   "outputs": [],
   "source": [
    "import pandas as pd\n",
    "import numpy as np\n",
    "import sys\n",
    "import math \n",
    "import seaborn as sea\n",
    "import datetime as dt\n",
    "from datetime import timedelta\n",
    "from operator import itemgetter\n",
    "from functools import partial"
   ]
  },
  {
   "cell_type": "code",
   "execution_count": 2,
   "metadata": {},
   "outputs": [],
   "source": [
    "def triangulo(var, pontos):\n",
    "     a = pontos[0]\n",
    "     b = pontos[1]\n",
    "     c = pontos[2]\n",
    "     result = 0\n",
    "     if var >= a and var < b:\n",
    "        result = (var - a) / float(b - a)\n",
    "     elif var > b and var <= c:\n",
    "        result = (c - var) / float(c - b)\n",
    "     elif var == b: \n",
    "        result = 1\n",
    "     return result"
   ]
  },
  {
   "cell_type": "code",
   "execution_count": 3,
   "metadata": {},
   "outputs": [],
   "source": [
    "def trapezio(var,pontos):\n",
    "    a = pontos[0]\n",
    "    b = pontos[1]\n",
    "    c = pontos[2]\n",
    "    d = pontos[3]\n",
    "    result = 0\n",
    "    if var >= a and var < b:\n",
    "        result = triangulo(var, [a, b, b])\n",
    "    elif var >= b and var <= c:\n",
    "        result = 1\n",
    "    elif var > c and var <= d:\n",
    "        result = triangulo(var, [c, c, d])\n",
    "    return result"
   ]
  },
  {
   "cell_type": "code",
   "execution_count": 4,
   "metadata": {},
   "outputs": [],
   "source": [
    "def defuzzyfication(indice):\n",
    "    ##Indice: 0- Queda Brusca, 1 - Queda Moderada, 2- Platô, 3- Subida Moderada, 4-Subida Brusca\n",
    "    Index = 0\n",
    "    if indice == 0:\n",
    "        Index = 0\n",
    "    elif indice == 1:\n",
    "        Index = 1\n",
    "    elif indice == 2:\n",
    "        Index = 2\n",
    "    elif indice == 3:\n",
    "        Index = 3\n",
    "    elif indice == 4:\n",
    "        Index = 4\n",
    "    return Index"
   ]
  },
  {
   "cell_type": "code",
   "execution_count": 5,
   "metadata": {},
   "outputs": [],
   "source": [
    "def fuzzifyErrorsPos(param, media):\n",
    "    return trapezio(param, [(media + ((media * 26) / 100)), (media + ((media * 50) / 100)), (media + ((media * 80) / 100)), (media + ((media * 80) / 100))])\n",
    "\n",
    "def fuzzifyparamPos(param, media):\n",
    "    return triangulo(param, [(media + ((media * 8) / 100)), (media + ((media * 18) / 100)), (media + ((media * 28) / 100))])\n",
    "\n",
    "def fuzzifyparamZ(param, media):\n",
    "    return triangulo(param, [(media - ((media * 10) / 100)), media, (media + ((media * 10) / 100))])\n",
    "\n",
    "def fuzzifyparamNeg(param, media):\n",
    "    return triangulo(param, [(media - ((media * 28) / 100)), (media - ((media * 18) / 100)), (media - ((media * 8) / 100))])\n",
    "\n",
    "def fuzzifyparamsNeg(param, media):\n",
    "    return trapezio(param, [0, 0, (media - ((media * 50) / 100)), (media - ((media * 26) / 100))])"
   ]
  },
  {
   "cell_type": "code",
   "execution_count": 6,
   "metadata": {},
   "outputs": [],
   "source": [
    "def verifRegras(param, media):\n",
    "    regras = [0] * 5\n",
    "    \n",
    "    fuzzifyparamsNega = fuzzifyparamsNeg(param, media)\n",
    "    fuzzifyparamNega = fuzzifyparamNeg(param, media)\n",
    "    fuzzifyparamZe = fuzzifyparamZ(param, media)\n",
    "    fuzzifyparamPosi = fuzzifyparamPos(param, media)\n",
    "    fuzzifyparamsPosi = fuzzifyparamPos(param, media)\n",
    "    \n",
    "    regras[0] = fuzzifyparamNega\n",
    "    regras[1] = fuzzifyparamNega\n",
    "    regras[2] = fuzzifyparamZe    \n",
    "    regras[3] = fuzzifyparamPosi    \n",
    "    regras[4] = fuzzifyparamsPosi\n",
    "    \n",
    "    return regras"
   ]
  },
  {
   "cell_type": "code",
   "execution_count": 7,
   "metadata": {},
   "outputs": [],
   "source": [
    "def getPercentage(rules):\n",
    "    indice = np.argmax(rules)\n",
    "    percent = (rules[indice] * 100)\n",
    "    return percent"
   ]
  },
  {
   "cell_type": "code",
   "execution_count": 8,
   "metadata": {},
   "outputs": [],
   "source": [
    "def getCentroid(media,rules,incl):\n",
    "    \n",
    "    centroid = 0\n",
    "    indice = np.argmax(rules)\n",
    "    if indice == 0:\n",
    "        if rules[indice]>95:\n",
    "            return 0\n",
    "        elif rules[indice]>50:\n",
    "            return (media - ((media * 50) / 100)) * rules[indice]\n",
    "        else:\n",
    "            return (media - ((media * 26) / 100)) * rules[indice]\n",
    "    elif indice == 1:\n",
    "        if rules[indice]>95:\n",
    "            return (media - ((media * 18) / 100)) * rules[indice]\n",
    "        else:\n",
    "            if incl < (media - ((media * 18) / 100)):\n",
    "                return (media - ((media * 28) / 100)) * rules[indice]\n",
    "            else:\n",
    "                return (media - ((media * 8) / 100)) * rules[indice]\n",
    "    elif indice == 2:\n",
    "        if rules[indice]>95:\n",
    "            media * rules[indice]\n",
    "        else:\n",
    "            if incl < media  :\n",
    "                return (media - ((media * 10) / 100)) * rules[indice]\n",
    "            else:\n",
    "                return (media + ((media * 10) / 100)) * rules[indice]\n",
    "            \n",
    "    elif indice == 3:\n",
    "        if rules[indice]>95:\n",
    "            return (media + ((media * 18) / 100)) * rules[indice]\n",
    "        else:\n",
    "            if incl < (media + ((media * 18) / 100)):\n",
    "                return (media + ((media * 8) / 100)) * rules[indice]\n",
    "            else:\n",
    "                return (media + ((media * 28) / 100)) * rules[indice]        \n",
    "    elif indice == 4:\n",
    "        if rules[indice]>95:\n",
    "            return (media + ((media * 80) / 100)) * rules[indice]\n",
    "        elif rules[indice]>50:\n",
    "            return (media + ((media * 50) / 100)) * rules[indice]\n",
    "        else:\n",
    "            return (media - ((media * 26) / 100)) * rules[indice]\n",
    "    return centroid"
   ]
  },
  {
   "cell_type": "code",
   "execution_count": null,
   "metadata": {},
   "outputs": [],
   "source": []
  }
 ],
 "metadata": {
  "kernelspec": {
   "display_name": "Python 3",
   "language": "python",
   "name": "python3"
  },
  "language_info": {
   "codemirror_mode": {
    "name": "ipython",
    "version": 3
   },
   "file_extension": ".py",
   "mimetype": "text/x-python",
   "name": "python",
   "nbconvert_exporter": "python",
   "pygments_lexer": "ipython3",
   "version": "3.7.6"
  }
 },
 "nbformat": 4,
 "nbformat_minor": 4
}
