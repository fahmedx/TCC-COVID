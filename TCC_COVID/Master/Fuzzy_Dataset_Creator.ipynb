{
 "cells": [
  {
   "cell_type": "code",
   "execution_count": 25,
   "metadata": {},
   "outputs": [],
   "source": [
    "import pandas as pd\n",
    "import numpy as np\n",
    "import import_ipynb\n",
    "import sys\n",
    "import math \n",
    "import seaborn as sea\n",
    "import datetime as dt\n",
    "import Fuzzy_Prediction_Beta as fz\n",
    "from datetime import timedelta\n",
    "from operator import itemgetter\n",
    "from functools import partial\n",
    "url = \"in.csv\""
   ]
  },
  {
   "cell_type": "code",
   "execution_count": 26,
   "metadata": {},
   "outputs": [],
   "source": [
    "dataset = pd.read_csv(url, error_bad_lines=False)"
   ]
  },
  {
   "cell_type": "code",
   "execution_count": 27,
   "metadata": {},
   "outputs": [
    {
     "data": {
      "text/html": [
       "<div>\n",
       "<style scoped>\n",
       "    .dataframe tbody tr th:only-of-type {\n",
       "        vertical-align: middle;\n",
       "    }\n",
       "\n",
       "    .dataframe tbody tr th {\n",
       "        vertical-align: top;\n",
       "    }\n",
       "\n",
       "    .dataframe thead th {\n",
       "        text-align: right;\n",
       "    }\n",
       "</style>\n",
       "<table border=\"1\" class=\"dataframe\">\n",
       "  <thead>\n",
       "    <tr style=\"text-align: right;\">\n",
       "      <th></th>\n",
       "      <th>cod_location</th>\n",
       "      <th>date_id</th>\n",
       "      <th>total_cases</th>\n",
       "    </tr>\n",
       "  </thead>\n",
       "  <tbody>\n",
       "    <tr>\n",
       "      <th>0</th>\n",
       "      <td>0</td>\n",
       "      <td>20191231</td>\n",
       "      <td>0.0</td>\n",
       "    </tr>\n",
       "    <tr>\n",
       "      <th>1</th>\n",
       "      <td>0</td>\n",
       "      <td>20200101</td>\n",
       "      <td>0.0</td>\n",
       "    </tr>\n",
       "    <tr>\n",
       "      <th>2</th>\n",
       "      <td>0</td>\n",
       "      <td>20200102</td>\n",
       "      <td>0.0</td>\n",
       "    </tr>\n",
       "    <tr>\n",
       "      <th>3</th>\n",
       "      <td>0</td>\n",
       "      <td>20200103</td>\n",
       "      <td>0.0</td>\n",
       "    </tr>\n",
       "    <tr>\n",
       "      <th>4</th>\n",
       "      <td>0</td>\n",
       "      <td>20200104</td>\n",
       "      <td>0.0</td>\n",
       "    </tr>\n",
       "  </tbody>\n",
       "</table>\n",
       "</div>"
      ],
      "text/plain": [
       "   cod_location   date_id  total_cases\n",
       "0             0  20191231          0.0\n",
       "1             0  20200101          0.0\n",
       "2             0  20200102          0.0\n",
       "3             0  20200103          0.0\n",
       "4             0  20200104          0.0"
      ]
     },
     "execution_count": 27,
     "metadata": {},
     "output_type": "execute_result"
    }
   ],
   "source": [
    "selected = dataset[['cod_location','date_id','total_cases']]\n",
    "selected.head()"
   ]
  },
  {
   "cell_type": "code",
   "execution_count": 28,
   "metadata": {},
   "outputs": [],
   "source": [
    "selected = selected.groupby('cod_location').tail(5)"
   ]
  },
  {
   "cell_type": "code",
   "execution_count": 29,
   "metadata": {},
   "outputs": [],
   "source": [
    "selected.head()\n",
    "#Input na rede neural\n",
    "selected.to_csv('input.csv')"
   ]
  },
  {
   "cell_type": "code",
   "execution_count": 30,
   "metadata": {},
   "outputs": [],
   "source": [
    "def aver(input):\n",
    "    medias = input.groupby(['cod_location'])['total_cases'].mean()\n",
    "    return medias"
   ]
  },
  {
   "cell_type": "code",
   "execution_count": 31,
   "metadata": {},
   "outputs": [],
   "source": [
    "def diff(input):\n",
    "    difference = input.groupby('cod_location')['total_cases'].apply(lambda x: x.tail(1).values[0] - x.head(1).values[0])\n",
    "    return difference"
   ]
  },
  {
   "cell_type": "code",
   "execution_count": 32,
   "metadata": {},
   "outputs": [],
   "source": [
    "def first(input):\n",
    "    first = selected.groupby('cod_location')['total_cases'].apply(lambda x: x.head(1).values[0])\n",
    "    return first"
   ]
  },
  {
   "cell_type": "code",
   "execution_count": 33,
   "metadata": {},
   "outputs": [],
   "source": [
    "def last(input):\n",
    "    last = selected.groupby('cod_location')['total_cases'].apply(lambda x: x.tail(1).values[0])\n",
    "    return last"
   ]
  },
  {
   "cell_type": "code",
   "execution_count": 34,
   "metadata": {},
   "outputs": [],
   "source": [
    "def fuzzifyErrorPos(erro):\n",
    "    return fz.triangulo(erro, [0, 5, 5])"
   ]
  },
  {
   "cell_type": "code",
   "execution_count": 35,
   "metadata": {},
   "outputs": [],
   "source": [
    "def fuzzifyErrorZ(erro):\n",
    "    return fz.triangulo(erro, [-5, 0, 5])"
   ]
  },
  {
   "cell_type": "code",
   "execution_count": 36,
   "metadata": {},
   "outputs": [],
   "source": [
    "def fuzzifyErrorNeg(erro):\n",
    "    return fz.triangulo(erro, [-5,-5,0])"
   ]
  },
  {
   "cell_type": "code",
   "execution_count": 37,
   "metadata": {},
   "outputs": [],
   "source": [
    "def fuzzifyErrorDotPos(erroD):\n",
    "    return fz.trapezio(erroD,[1,1.5,5,5])"
   ]
  },
  {
   "cell_type": "code",
   "execution_count": 38,
   "metadata": {},
   "outputs": [],
   "source": [
    "def fuzzifyErrorDotZ(erroD):\n",
    "    return fz.triangulo(erroD,[-2,0,2])"
   ]
  },
  {
   "cell_type": "code",
   "execution_count": 39,
   "metadata": {},
   "outputs": [],
   "source": [
    "def fuzzifyErrorDotNeg(erroD):\n",
    "    return fz.trapezio(erroD,[-5,-5,-1.5,-1])"
   ]
  },
  {
   "cell_type": "code",
   "execution_count": 40,
   "metadata": {},
   "outputs": [],
   "source": [
    "def agrega(regras, bot, mid, top):\n",
    "    result = [0] * 200\n",
    "    for regra in range(len(regras)):\n",
    "        for i in range(200):\n",
    "            if regras[regra][0]>0 and i < 95:\n",
    "                result[i] = min(regras[regra][0], bot[i])\n",
    "            if regras[regra][1]>0 and i > 90 and i<110:\n",
    "                result[i] = min(regras[regra][1], bot[i])\n",
    "            if regras[regra][2]>0 and i > 105 and i<200:\n",
    "                result[i] = min(regras[regra][2], bot[i])\n",
    "    return result"
   ]
  },
  {
   "cell_type": "code",
   "execution_count": 41,
   "metadata": {},
   "outputs": [],
   "source": [
    "def OutputDecr():\n",
    "    return fz.getTrapPlot(0, 200, [0, 0, 30, 95], \"left\")"
   ]
  },
  {
   "cell_type": "code",
   "execution_count": 42,
   "metadata": {},
   "outputs": [],
   "source": [
    "def OutputPlat():\n",
    "    return fz.getTriPlot(0, 200, [90, 100, 110])"
   ]
  },
  {
   "cell_type": "code",
   "execution_count": 43,
   "metadata": {},
   "outputs": [],
   "source": [
    "def OutputCres():\n",
    "    return fz.getTrapPlot(0, 200, [105, 170, 200, 200], \"right\")"
   ]
  },
  {
   "cell_type": "code",
   "execution_count": 44,
   "metadata": {},
   "outputs": [],
   "source": [
    "def verifRegras(erro, erroD):\n",
    "    regras = [[0] * 3 for i in range(3)]\n",
    "    \n",
    "    fuzzifyErrorNega = fuzzifyErrorNeg(erro)\n",
    "    fuzzifyErrorZe = fuzzifyErrorZ(erro)\n",
    "    fuzzifyErrorPosi= fuzzifyErrorPos(erro)\n",
    "    \n",
    "    fuzzifyErrorDotNega = fuzzifyErrorDotNeg(erroD)\n",
    "    fuzzifyErrorDotZe = fuzzifyErrorDotZ(erroD)\n",
    "    fuzzifyErrorDotPosi = fuzzifyErrorDotPos(erroD)\n",
    "    \n",
    "    regras[0][0] = min(fuzzifyErrorNega,fuzzifyErrorDotNega)\n",
    "    regras[0][1] = min(fuzzifyErrorZe,fuzzifyErrorDotNega)\n",
    "    regras[0][2] = min(fuzzifyErrorPosi,fuzzifyErrorDotNega)\n",
    "    regras[1][0] = min(fuzzifyErrorNega,fuzzifyErrorDotZe)\n",
    "    regras[1][1] = min(fuzzifyErrorZe,fuzzifyErrorDotZe)\n",
    "    regras[1][2] = min(fuzzifyErrorPosi,fuzzifyErrorDotZe)\n",
    "    regras[2][0] = min(fuzzifyErrorNega,fuzzifyErrorDotPosi)\n",
    "    regras[2][1] = min(fuzzifyErrorZe,fuzzifyErrorDotPosi)\n",
    "    regras[2][2] = min(fuzzifyErrorPosi,fuzzifyErrorDotPosi)\n",
    "    \n",
    "    return regras"
   ]
  },
  {
   "cell_type": "code",
   "execution_count": 45,
   "metadata": {},
   "outputs": [],
   "source": [
    "media = aver(selected)\n",
    "diffe = diff(selected)\n",
    "first = first(selected)\n",
    "target = media - (media * 28) / 100"
   ]
  },
  {
   "cell_type": "code",
   "execution_count": 46,
   "metadata": {},
   "outputs": [],
   "source": [
    "prevError = target - first\n",
    "currError = target - diffe"
   ]
  },
  {
   "cell_type": "code",
   "execution_count": 47,
   "metadata": {},
   "outputs": [],
   "source": [
    "error = 1.5\n",
    "#currError\n",
    "dervError = 2.75\n",
    "#first - diffe"
   ]
  },
  {
   "cell_type": "code",
   "execution_count": 48,
   "metadata": {},
   "outputs": [
    {
     "name": "stdout",
     "output_type": "stream",
     "text": [
      "1.5\n",
      "2.75\n",
      "92.0\n"
     ]
    }
   ],
   "source": [
    "##\n",
    "Regras = verifRegras(error, dervError)\n",
    "vA = agrega(Regras, OutputDecr(), OutputPlat(), OutputCres())\n",
    "centroide = fz.getCentroid(vA)\n",
    "\n",
    "print(error)\n",
    "print(dervError)\n",
    "print(centroide)\n",
    "##"
   ]
  },
  {
   "cell_type": "code",
   "execution_count": null,
   "metadata": {},
   "outputs": [],
   "source": []
  },
  {
   "cell_type": "code",
   "execution_count": null,
   "metadata": {},
   "outputs": [],
   "source": []
  }
 ],
 "metadata": {
  "kernelspec": {
   "display_name": "Python 3",
   "language": "python",
   "name": "python3"
  },
  "language_info": {
   "codemirror_mode": {
    "name": "ipython",
    "version": 3
   },
   "file_extension": ".py",
   "mimetype": "text/x-python",
   "name": "python",
   "nbconvert_exporter": "python",
   "pygments_lexer": "ipython3",
   "version": "3.7.6"
  }
 },
 "nbformat": 4,
 "nbformat_minor": 4
}
