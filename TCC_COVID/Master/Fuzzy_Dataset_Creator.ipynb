{
 "cells": [
  {
   "cell_type": "code",
   "execution_count": 35,
   "metadata": {},
   "outputs": [],
   "source": [
    "import pandas as pd\n",
    "import numpy as np\n",
    "import import_ipynb\n",
    "import sys\n",
    "import math \n",
    "import seaborn as sea\n",
    "import datetime as dt\n",
    "import Fuzzy_Prediction_Beta as fz\n",
    "from datetime import timedelta\n",
    "from operator import itemgetter\n",
    "from functools import partial\n",
    "url = \"in.csv\""
   ]
  },
  {
   "cell_type": "code",
   "execution_count": 36,
   "metadata": {},
   "outputs": [],
   "source": [
    "dataset = pd.read_csv(url, error_bad_lines=False)"
   ]
  },
  {
   "cell_type": "code",
   "execution_count": 37,
   "metadata": {},
   "outputs": [
    {
     "data": {
      "text/html": [
       "<div>\n",
       "<style scoped>\n",
       "    .dataframe tbody tr th:only-of-type {\n",
       "        vertical-align: middle;\n",
       "    }\n",
       "\n",
       "    .dataframe tbody tr th {\n",
       "        vertical-align: top;\n",
       "    }\n",
       "\n",
       "    .dataframe thead th {\n",
       "        text-align: right;\n",
       "    }\n",
       "</style>\n",
       "<table border=\"1\" class=\"dataframe\">\n",
       "  <thead>\n",
       "    <tr style=\"text-align: right;\">\n",
       "      <th></th>\n",
       "      <th>cod_location</th>\n",
       "      <th>date_id</th>\n",
       "      <th>total_cases</th>\n",
       "    </tr>\n",
       "  </thead>\n",
       "  <tbody>\n",
       "    <tr>\n",
       "      <th>0</th>\n",
       "      <td>0</td>\n",
       "      <td>20191231</td>\n",
       "      <td>0.0</td>\n",
       "    </tr>\n",
       "    <tr>\n",
       "      <th>1</th>\n",
       "      <td>0</td>\n",
       "      <td>20200101</td>\n",
       "      <td>0.0</td>\n",
       "    </tr>\n",
       "    <tr>\n",
       "      <th>2</th>\n",
       "      <td>0</td>\n",
       "      <td>20200102</td>\n",
       "      <td>0.0</td>\n",
       "    </tr>\n",
       "    <tr>\n",
       "      <th>3</th>\n",
       "      <td>0</td>\n",
       "      <td>20200103</td>\n",
       "      <td>0.0</td>\n",
       "    </tr>\n",
       "    <tr>\n",
       "      <th>4</th>\n",
       "      <td>0</td>\n",
       "      <td>20200104</td>\n",
       "      <td>0.0</td>\n",
       "    </tr>\n",
       "  </tbody>\n",
       "</table>\n",
       "</div>"
      ],
      "text/plain": [
       "   cod_location   date_id  total_cases\n",
       "0             0  20191231          0.0\n",
       "1             0  20200101          0.0\n",
       "2             0  20200102          0.0\n",
       "3             0  20200103          0.0\n",
       "4             0  20200104          0.0"
      ]
     },
     "execution_count": 37,
     "metadata": {},
     "output_type": "execute_result"
    }
   ],
   "source": [
    "selected = dataset[['cod_location','date_id','total_cases']]\n",
    "selected.head()"
   ]
  },
  {
   "cell_type": "code",
   "execution_count": 38,
   "metadata": {},
   "outputs": [],
   "source": [
    "selected = selected.groupby('cod_location').tail(5)"
   ]
  },
  {
   "cell_type": "code",
   "execution_count": 39,
   "metadata": {},
   "outputs": [],
   "source": [
    "selected.head()\n",
    "#Input na rede neural\n",
    "selected.to_csv('input.csv')"
   ]
  },
  {
   "cell_type": "code",
   "execution_count": 40,
   "metadata": {},
   "outputs": [],
   "source": [
    "def aver(input):\n",
    "    medias = input.groupby(['cod_location'])['total_cases'].mean()\n",
    "    return medias"
   ]
  },
  {
   "cell_type": "code",
   "execution_count": 41,
   "metadata": {},
   "outputs": [],
   "source": [
    "def diff(input):\n",
    "    difference = input.groupby('cod_location')['total_cases'].apply(lambda x: x.tail(1).values[0] - x.head(1).values[0])\n",
    "    return difference"
   ]
  },
  {
   "cell_type": "code",
   "execution_count": 42,
   "metadata": {},
   "outputs": [
    {
     "name": "stdout",
     "output_type": "stream",
     "text": [
      "Enter Target Temperature: 30\n",
      "Enter Current Temperature: 35\n",
      "Enter Previous Temperature: 32\n"
     ]
    },
    {
     "ename": "NameError",
     "evalue": "name 'x' is not defined",
     "output_type": "error",
     "traceback": [
      "\u001b[1;31m---------------------------------------------------------------------------\u001b[0m",
      "\u001b[1;31mNameError\u001b[0m                                 Traceback (most recent call last)",
      "\u001b[1;32m<ipython-input-42-2a14c14c7305>\u001b[0m in \u001b[0;36m<module>\u001b[1;34m\u001b[0m\n\u001b[0;32m    104\u001b[0m \u001b[1;33m\u001b[0m\u001b[0m\n\u001b[0;32m    105\u001b[0m \u001b[1;32mif\u001b[0m \u001b[0m__name__\u001b[0m \u001b[1;33m==\u001b[0m \u001b[1;34m\"__main__\"\u001b[0m\u001b[1;33m:\u001b[0m\u001b[1;33m\u001b[0m\u001b[1;33m\u001b[0m\u001b[0m\n\u001b[1;32m--> 106\u001b[1;33m     \u001b[0mmain\u001b[0m\u001b[1;33m(\u001b[0m\u001b[1;33m)\u001b[0m\u001b[1;33m\u001b[0m\u001b[1;33m\u001b[0m\u001b[0m\n\u001b[0m",
      "\u001b[1;32m<ipython-input-42-2a14c14c7305>\u001b[0m in \u001b[0;36mmain\u001b[1;34m()\u001b[0m\n\u001b[0;32m     10\u001b[0m     \u001b[0merrorDerivative\u001b[0m \u001b[1;33m=\u001b[0m \u001b[0mprevError\u001b[0m \u001b[1;33m-\u001b[0m \u001b[0mcurrentError\u001b[0m\u001b[1;33m\u001b[0m\u001b[1;33m\u001b[0m\u001b[0m\n\u001b[0;32m     11\u001b[0m \u001b[1;33m\u001b[0m\u001b[0m\n\u001b[1;32m---> 12\u001b[1;33m     \u001b[0mrules\u001b[0m \u001b[1;33m=\u001b[0m \u001b[0mevaluateRules\u001b[0m\u001b[1;33m(\u001b[0m\u001b[0merror\u001b[0m\u001b[1;33m,\u001b[0m \u001b[0merrorDerivative\u001b[0m\u001b[1;33m)\u001b[0m\u001b[1;33m\u001b[0m\u001b[1;33m\u001b[0m\u001b[0m\n\u001b[0m\u001b[0;32m     13\u001b[0m     aggregateValues = fisAggregation(rules,\n\u001b[0;32m     14\u001b[0m                                      \u001b[0mfuzzifyOutputCooler\u001b[0m\u001b[1;33m(\u001b[0m\u001b[1;33m)\u001b[0m\u001b[1;33m,\u001b[0m\u001b[1;33m\u001b[0m\u001b[1;33m\u001b[0m\u001b[0m\n",
      "\u001b[1;32m<ipython-input-42-2a14c14c7305>\u001b[0m in \u001b[0;36mevaluateRules\u001b[1;34m(error, errorDerivative)\u001b[0m\n\u001b[0;32m     26\u001b[0m     \u001b[0mrules\u001b[0m \u001b[1;33m=\u001b[0m \u001b[1;33m[\u001b[0m\u001b[1;33m[\u001b[0m\u001b[1;36m0\u001b[0m\u001b[1;33m]\u001b[0m \u001b[1;33m*\u001b[0m \u001b[1;36m3\u001b[0m \u001b[1;32mfor\u001b[0m \u001b[0mi\u001b[0m \u001b[1;32min\u001b[0m \u001b[0mrange\u001b[0m\u001b[1;33m(\u001b[0m\u001b[1;36m3\u001b[0m\u001b[1;33m)\u001b[0m\u001b[1;33m]\u001b[0m\u001b[1;33m\u001b[0m\u001b[1;33m\u001b[0m\u001b[0m\n\u001b[0;32m     27\u001b[0m \u001b[1;33m\u001b[0m\u001b[0m\n\u001b[1;32m---> 28\u001b[1;33m     \u001b[0mfuzzifiedErrorNeg\u001b[0m \u001b[1;33m=\u001b[0m \u001b[0mfuzzifyErrorNeg\u001b[0m\u001b[1;33m(\u001b[0m\u001b[0merror\u001b[0m\u001b[1;33m)\u001b[0m\u001b[1;33m\u001b[0m\u001b[1;33m\u001b[0m\u001b[0m\n\u001b[0m\u001b[0;32m     29\u001b[0m     \u001b[0mfuzzifiedErrorZero\u001b[0m \u001b[1;33m=\u001b[0m \u001b[0mfuzzifyErrorZero\u001b[0m\u001b[1;33m(\u001b[0m\u001b[0merror\u001b[0m\u001b[1;33m)\u001b[0m\u001b[1;33m\u001b[0m\u001b[1;33m\u001b[0m\u001b[0m\n\u001b[0;32m     30\u001b[0m     \u001b[0mfuzzifiedErrorPos\u001b[0m \u001b[1;33m=\u001b[0m \u001b[0mfuzzifyErrorPos\u001b[0m\u001b[1;33m(\u001b[0m\u001b[0merror\u001b[0m\u001b[1;33m)\u001b[0m\u001b[1;33m\u001b[0m\u001b[1;33m\u001b[0m\u001b[0m\n",
      "\u001b[1;32m<ipython-input-42-2a14c14c7305>\u001b[0m in \u001b[0;36mfuzzifyErrorNeg\u001b[1;34m(error)\u001b[0m\n\u001b[0;32m     63\u001b[0m \u001b[1;33m\u001b[0m\u001b[0m\n\u001b[0;32m     64\u001b[0m \u001b[1;32mdef\u001b[0m \u001b[0mfuzzifyErrorNeg\u001b[0m\u001b[1;33m(\u001b[0m\u001b[0merror\u001b[0m\u001b[1;33m)\u001b[0m\u001b[1;33m:\u001b[0m\u001b[1;33m\u001b[0m\u001b[1;33m\u001b[0m\u001b[0m\n\u001b[1;32m---> 65\u001b[1;33m     \u001b[1;32mreturn\u001b[0m \u001b[0mfz\u001b[0m\u001b[1;33m.\u001b[0m\u001b[0mtriangulo\u001b[0m\u001b[1;33m(\u001b[0m\u001b[0merror\u001b[0m\u001b[1;33m,\u001b[0m \u001b[1;33m[\u001b[0m\u001b[1;33m-\u001b[0m\u001b[1;36m5\u001b[0m\u001b[1;33m,\u001b[0m \u001b[1;33m-\u001b[0m\u001b[1;36m5\u001b[0m\u001b[1;33m,\u001b[0m \u001b[1;36m0\u001b[0m\u001b[1;33m]\u001b[0m\u001b[1;33m)\u001b[0m\u001b[1;33m\u001b[0m\u001b[1;33m\u001b[0m\u001b[0m\n\u001b[0m\u001b[0;32m     66\u001b[0m \u001b[1;33m\u001b[0m\u001b[0m\n\u001b[0;32m     67\u001b[0m \u001b[1;33m\u001b[0m\u001b[0m\n",
      "\u001b[1;32m~\\Documents\\TCC-COVID\\TCC_COVID\\Master\\Fuzzy_Prediction_Beta.ipynb\u001b[0m in \u001b[0;36mtriangulo\u001b[1;34m(var, pontos)\u001b[0m\n",
      "\u001b[1;31mNameError\u001b[0m: name 'x' is not defined"
     ]
    }
   ],
   "source": [
    "def main():\n",
    "    targetTemp = float(input('Enter Target Temperature: '))\n",
    "    currentTemp = float(input('Enter Current Temperature: '))\n",
    "    prevTemp = float(input('Enter Previous Temperature: '))\n",
    "\n",
    "    prevError = targetTemp - prevTemp\n",
    "    currentError = targetTemp - currentTemp\n",
    "\n",
    "    error = currentError\n",
    "    errorDerivative = prevError - currentError\n",
    "\n",
    "    rules = evaluateRules(error, errorDerivative)\n",
    "    aggregateValues = fisAggregation(rules,\n",
    "                                     fuzzifyOutputCooler(),\n",
    "                                     fuzzifyOutputNoChange(),\n",
    "                                     fuzzifyOutputHeater())\n",
    "\n",
    "    centroid = getCentroid(aggregateValues)\n",
    "\n",
    "    print(error)\n",
    "    print(errorDerivative)\n",
    "    print(centroid)\n",
    "\n",
    "\n",
    "def evaluateRules(error, errorDerivative):\n",
    "    rules = [[0] * 3 for i in range(3)]\n",
    "\n",
    "    fuzzifiedErrorNeg = fuzzifyErrorNeg(error)\n",
    "    fuzzifiedErrorZero = fuzzifyErrorZero(error)\n",
    "    fuzzifiedErrorPos = fuzzifyErrorPos(error)\n",
    "\n",
    "    fuzzifiedErrorDotNeg = fuzzifyErrorDotNeg(errorDerivative)\n",
    "    fuzzifiedErrorDotZero = fuzzifyErrorDotZero(errorDerivative)\n",
    "    fuzzifiedErrorDotPos = fuzzifyErrorDotPos(errorDerivative)\n",
    "    # RULE 1\n",
    "    rules[0][0] = min(fuzzifiedErrorNeg, fuzzifiedErrorDotNeg)\n",
    "    # RULE 2\n",
    "    rules[0][1] = min(fuzzifiedErrorZero, fuzzifiedErrorDotNeg)\n",
    "    # RULE 3\n",
    "    rules[0][2] = min(fuzzifiedErrorPos, fuzzifiedErrorDotNeg)\n",
    "    # RULE 4\n",
    "    rules[1][0] = min(fuzzifiedErrorNeg, fuzzifiedErrorDotZero)\n",
    "    # RULE 5\n",
    "    rules[1][1] = min(fuzzifiedErrorZero, fuzzifiedErrorDotZero)\n",
    "    # RULE 6\n",
    "    rules[1][2] = min(fuzzifiedErrorPos, fuzzifiedErrorDotZero)\n",
    "    # RULE 7\n",
    "    rules[2][0] = min(fuzzifiedErrorNeg, fuzzifiedErrorDotPos)\n",
    "    # RULE 8\n",
    "    rules[2][1] = min(fuzzifiedErrorZero, fuzzifiedErrorDotPos)\n",
    "    # RULE 9\n",
    "    rules[2][2] = min(fuzzifiedErrorPos, fuzzifiedErrorDotPos)\n",
    "    return rules\n",
    "\n",
    "\n",
    "def fuzzifyErrorPos(error):\n",
    "    return fz.triangulo(error, [0, 5, 5])\n",
    "\n",
    "\n",
    "def fuzzifyErrorZero(error):\n",
    "    return fz.triangulo(error, [-5, 0, 5])\n",
    "\n",
    "\n",
    "def fuzzifyErrorNeg(error):\n",
    "    return fz.triangulo(error, [-5, -5, 0])\n",
    "\n",
    "\n",
    "def fuzzifyErrorDotPos(errorDot):\n",
    "    return fz.trapezio(errorDot, [1, 1.5, 5, 5])\n",
    "\n",
    "\n",
    "def fuzzifyErrorDotZero(errorDot):\n",
    "    return fz.triangulo(errorDot, [-2, 0, 2])\n",
    "\n",
    "\n",
    "def fuzzifyErrorDotNeg(errorDot):\n",
    "    return fz.trapezio(errorDot, [-5, -5, -1.5, -1])\n",
    "\n",
    "\n",
    "def fuzzifyOutputCooler():\n",
    "    return fz.getTrapPlot(0, 200, [0, 0, 30, 95], \"left\")\n",
    "\n",
    "\n",
    "def fuzzifyOutputNoChange():\n",
    "    return fz.getTriPlot(0, 200, [90, 100, 110])\n",
    "\n",
    "\n",
    "def fuzzifyOutputHeater():\n",
    "    return fz.getTrapPlot(0, 200, [105, 170, 200, 200], \"right\")\n",
    "\n",
    "\n",
    "def fisAggregation(rules, pcc, pcnc, pch):\n",
    "    result = [0] * 200\n",
    "    for rule in range(len(rules)):\n",
    "        for i in range(200):\n",
    "            if rules[rule][0] > 0 and i < 95:\n",
    "                result[i] = min(rules[rule][0], pcc[i])\n",
    "            if rules[rule][1] > 0 and i > 90 and i < 110:\n",
    "                result[i] = min(rules[rule][1], pcnc[i])\n",
    "            if rules[rule][2] > 0 and i > 105 and i < 200:\n",
    "                result[i] = min(rules[rule][2], pch[i])\n",
    "    return result\n",
    "\n",
    "\n",
    "if __name__ == \"__main__\":\n",
    "    main()"
   ]
  },
  {
   "cell_type": "code",
   "execution_count": null,
   "metadata": {},
   "outputs": [],
   "source": []
  }
 ],
 "metadata": {
  "kernelspec": {
   "display_name": "Python 3",
   "language": "python",
   "name": "python3"
  },
  "language_info": {
   "codemirror_mode": {
    "name": "ipython",
    "version": 3
   },
   "file_extension": ".py",
   "mimetype": "text/x-python",
   "name": "python",
   "nbconvert_exporter": "python",
   "pygments_lexer": "ipython3",
   "version": "3.7.6"
  }
 },
 "nbformat": 4,
 "nbformat_minor": 4
}
