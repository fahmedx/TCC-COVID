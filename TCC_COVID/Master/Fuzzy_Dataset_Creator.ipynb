{
 "cells": [
  {
   "cell_type": "code",
   "execution_count": 1,
   "metadata": {},
   "outputs": [
    {
     "name": "stdout",
     "output_type": "stream",
     "text": [
      "importing Jupyter notebook from Fuzzy_Prediction_Beta.ipynb\n"
     ]
    }
   ],
   "source": [
    "import pandas as pd\n",
    "import numpy as np\n",
    "import import_ipynb\n",
    "import sys\n",
    "import math \n",
    "import seaborn as sea\n",
    "import datetime as dt\n",
    "import Fuzzy_Prediction_Beta as fz\n",
    "from datetime import timedelta\n",
    "from operator import itemgetter\n",
    "from functools import partial\n",
    "url = \"in.csv\""
   ]
  },
  {
   "cell_type": "code",
   "execution_count": 2,
   "metadata": {},
   "outputs": [],
   "source": [
    "dataset = pd.read_csv(url, error_bad_lines=False)"
   ]
  },
  {
   "cell_type": "code",
   "execution_count": 3,
   "metadata": {},
   "outputs": [],
   "source": [
    "selected = dataset[['cod_location','date_id','total_cases']]"
   ]
  },
  {
   "cell_type": "code",
   "execution_count": 4,
   "metadata": {},
   "outputs": [],
   "source": [
    "selected = selected.groupby('cod_location').tail(5)"
   ]
  },
  {
   "cell_type": "code",
   "execution_count": 5,
   "metadata": {},
   "outputs": [],
   "source": [
    "selected.head()\n",
    "#Input na rede neural\n",
    "selected.to_csv('input.csv')"
   ]
  },
  {
   "cell_type": "code",
   "execution_count": 6,
   "metadata": {},
   "outputs": [],
   "source": [
    "def aver(input):\n",
    "    medias = input.groupby(['cod_location'])['total_cases'].mean()\n",
    "    return medias"
   ]
  },
  {
   "cell_type": "code",
   "execution_count": 7,
   "metadata": {},
   "outputs": [],
   "source": [
    "def diff(input):\n",
    "    difference = input.groupby('cod_location')['total_cases'].apply(lambda x: x.tail(1).values[0] - x.head(1).values[0])\n",
    "    return difference"
   ]
  },
  {
   "cell_type": "code",
   "execution_count": 8,
   "metadata": {},
   "outputs": [],
   "source": [
    "def first(input):\n",
    "    first = selected.groupby('cod_location')['total_cases'].apply(lambda x: x.head(1).values[0])\n",
    "    return first"
   ]
  },
  {
   "cell_type": "code",
   "execution_count": 9,
   "metadata": {},
   "outputs": [],
   "source": [
    "def last(input):\n",
    "    last = selected.groupby('cod_location')['total_cases'].apply(lambda x: x.tail(1).values[0])\n",
    "    return last"
   ]
  },
  {
   "cell_type": "code",
   "execution_count": 10,
   "metadata": {},
   "outputs": [],
   "source": [
    "def fuzzifyErrorsPos(erro, media, maximus):\n",
    "    return fz.trapezio(erro,[(media + ((media * 26) / 100)), (media + ((media * 40) / 100)), maximus, maximus])"
   ]
  },
  {
   "cell_type": "code",
   "execution_count": 11,
   "metadata": {},
   "outputs": [],
   "source": [
    "def fuzzifyErrorPos(erro, media):\n",
    "    return fz.triangulo(erro, [(media - (media + ((media * 8) / 100))), (media + ((media * 18) / 100)), (media + ((media * 28) / 100))])"
   ]
  },
  {
   "cell_type": "code",
   "execution_count": 12,
   "metadata": {},
   "outputs": [],
   "source": [
    "def fuzzifyErrorZ(erro, media):\n",
    "    return fz.triangulo(erro, [(media - ((media * 10) / 100)), media, (media + ((media * 10) / 100))])"
   ]
  },
  {
   "cell_type": "code",
   "execution_count": 13,
   "metadata": {},
   "outputs": [],
   "source": [
    "def fuzzifyErrorNeg(erro, media):\n",
    "    return fz.triangulo(erro, [(media - ((media * 28) / 100)), (media - ((media * 18) / 100)), (media - ((media * 8) / 100))])"
   ]
  },
  {
   "cell_type": "code",
   "execution_count": 14,
   "metadata": {},
   "outputs": [],
   "source": [
    "def fuzzifyErrorsNeg(erro, media):\n",
    "    return fz.trapezio(erro, [0, 0, (media - ((media * 40) / 100)), (media - ((media * 26) / 100))])"
   ]
  },
  {
   "cell_type": "code",
   "execution_count": 15,
   "metadata": {},
   "outputs": [],
   "source": [
    "def fuzzifyErrorDotsPos(erroD, media, maximus):\n",
    "    return fz.trapezio(erroD,[(media + ((media * 26) / 100)), (media + ((media * 40) / 100)), maximus, maximus])"
   ]
  },
  {
   "cell_type": "code",
   "execution_count": 16,
   "metadata": {},
   "outputs": [],
   "source": [
    "def fuzzifyErrorDotPos(erroD, media):\n",
    "    return fz.triangulo(erroD,[(media - (media + ((media * 8) / 100))),(media - (media + ((media * 18) / 100))),(media - (media + ((media * 28) / 100)))])"
   ]
  },
  {
   "cell_type": "code",
   "execution_count": 17,
   "metadata": {},
   "outputs": [],
   "source": [
    "def fuzzifyErrorDotZ(erroD, media):\n",
    "    return fz.triangulo(erroD,[(media - ((media * 10) / 100)), media, (media + ((media * 10) / 100))])"
   ]
  },
  {
   "cell_type": "code",
   "execution_count": 18,
   "metadata": {},
   "outputs": [],
   "source": [
    "def fuzzifyErrorDotNeg(erroD, media):\n",
    "    return fz.triangulo(erroD,[(media - ((media * 28) / 100)), (media - ((media * 18) / 100)), (media - ((media * 8) / 100))])"
   ]
  },
  {
   "cell_type": "code",
   "execution_count": 19,
   "metadata": {},
   "outputs": [],
   "source": [
    "def fuzzifyErrorDotsNeg(erroD, media):\n",
    "    return fz.trapezio(erroD,[0, 0, (media - ((media * 40) / 100)), (media - ((media * 26) / 100))])"
   ]
  },
  {
   "cell_type": "code",
   "execution_count": 20,
   "metadata": {},
   "outputs": [],
   "source": [
    "def agrega(regras, maximus, sbot, bot, mid, top, stop, media):\n",
    "    result = [0] * maximus\n",
    "    for regra in range(len(regras)):\n",
    "        for i in range(int(maximus)):\n",
    "            if regras[regra][0]>0 and i < (media - ((media * 26) / 100)):\n",
    "                result[i] = min(regras[regra][0], bot[i])\n",
    "            if regras[regra][1]>0 and i > (media - ((media * 28) / 100)) and i < (media - ((media * 8) / 100)):\n",
    "                result[i] = min(regras[regra][1], mid[i])\n",
    "            if regras[regra][2]>0 and i > (media - ((media * 10) / 100)) and i < (media + ((media * 10) / 100)):\n",
    "                result[i] = min(regras[regra][2], top[i])\n",
    "            if regras[regra][3]>0 and i > (media + ((media * 8) / 100)) and i< (media + ((media * 28) / 100)):\n",
    "                result[i] = min(regras[regra][3], bot[i])\n",
    "            if regras[regra][4]>0 and i > (media + ((media * 26) / 100)):\n",
    "                result[i] = min(regras[regra][4], mid[i])\n",
    "    return result"
   ]
  },
  {
   "cell_type": "code",
   "execution_count": 21,
   "metadata": {},
   "outputs": [],
   "source": [
    "def OutputSugDecr(media, maximus):\n",
    "    return fz.getTrapPlot(0, maximus, [0, 0, (media - ((media * 40) / 100)), (media - ((media * 26) / 100))], \"left\")"
   ]
  },
  {
   "cell_type": "code",
   "execution_count": 22,
   "metadata": {},
   "outputs": [],
   "source": [
    "def OutputDecr(media, maximus):\n",
    "    return fz.getTriPlot(0, maximus, [(media - ((media * 28) / 100)), (media - ((media * 18) / 100)), (media - ((media * 8) / 100))])"
   ]
  },
  {
   "cell_type": "code",
   "execution_count": 23,
   "metadata": {},
   "outputs": [],
   "source": [
    "def OutputPlat(media, maximus):\n",
    "    return fz.getTriPlot(0, maximus, [(media - ((media * 10) / 100)), media, (media + ((media * 10) / 100))])"
   ]
  },
  {
   "cell_type": "code",
   "execution_count": 24,
   "metadata": {},
   "outputs": [],
   "source": [
    "def OutputCres(media, maximus):\n",
    "    return fz.getTriPlot(0, maximus, [(media + ((media * 8) / 100)), (media + ((media * 18) / 100)), (media + ((media * 28) / 100))])"
   ]
  },
  {
   "cell_type": "code",
   "execution_count": 25,
   "metadata": {},
   "outputs": [],
   "source": [
    "def OutputSugCres(media, maximus):\n",
    "    return fz.getTrapPlot(0, maximus, [(media + ((media * 26) / 100)), (media + ((media * 40) / 100)), maximus, maximus], \"right\")"
   ]
  },
  {
   "cell_type": "code",
   "execution_count": 26,
   "metadata": {},
   "outputs": [],
   "source": [
    "def verifRegras(erro, erroD, media, maximus):\n",
    "    regras = [[0] * 25 for i in range(5)]\n",
    "    \n",
    "    fuzzifyErrorsNega = fuzzifyErrorsNeg(erro, media)\n",
    "    fuzzifyErrorNega = fuzzifyErrorNeg(erro, media)\n",
    "    fuzzifyErrorZe = fuzzifyErrorZ(erro, media)\n",
    "    fuzzifyErrorPosi= fuzzifyErrorPos(erro, media)\n",
    "    fuzzifyErrorsPosi= fuzzifyErrorsPos(erro, media, maximus)\n",
    "    \n",
    "    fuzzifyErrorDotsNega = fuzzifyErrorDotsNeg(erroD, media)\n",
    "    fuzzifyErrorDotNega = fuzzifyErrorDotNeg(erroD, media)\n",
    "    fuzzifyErrorDotZe = fuzzifyErrorDotZ(erroD, media)\n",
    "    fuzzifyErrorDotPosi = fuzzifyErrorDotPos(erroD, media)\n",
    "    fuzzifyErrorDotsPosi = fuzzifyErrorDotsPos(erroD, media, maximus)\n",
    "    \n",
    "    regras[0][0] = min(fuzzifyErrorsNega,fuzzifyErrorDotsNega)\n",
    "    regras[0][1] = min(fuzzifyErrorNega,fuzzifyErrorDotsNega)\n",
    "    regras[0][2] = min(fuzzifyErrorZe,fuzzifyErrorDotsNega)\n",
    "    regras[0][3] = min(fuzzifyErrorPosi,fuzzifyErrorDotsNega)\n",
    "    regras[0][4] = min(fuzzifyErrorsPosi,fuzzifyErrorDotsNega)\n",
    "    \n",
    "    regras[1][0] = min(fuzzifyErrorsNega,fuzzifyErrorDotNega)\n",
    "    regras[1][1] = min(fuzzifyErrorNega,fuzzifyErrorDotNega)\n",
    "    regras[1][2] = min(fuzzifyErrorZe,fuzzifyErrorDotNega)\n",
    "    regras[1][3] = min(fuzzifyErrorPosi,fuzzifyErrorDotNega)\n",
    "    regras[1][4] = min(fuzzifyErrorsPosi,fuzzifyErrorDotNega)\n",
    "    \n",
    "    regras[2][0] = min(fuzzifyErrorsNega,fuzzifyErrorDotZe)\n",
    "    regras[2][1] = min(fuzzifyErrorNega,fuzzifyErrorDotZe)\n",
    "    regras[2][2] = min(fuzzifyErrorZe,fuzzifyErrorDotZe)\n",
    "    regras[2][3] = min(fuzzifyErrorPosi,fuzzifyErrorDotZe)\n",
    "    regras[2][4] = min(fuzzifyErrorsPosi,fuzzifyErrorDotZe)\n",
    "    \n",
    "    regras[3][0] = min(fuzzifyErrorsNega,fuzzifyErrorDotPosi)\n",
    "    regras[3][1] = min(fuzzifyErrorNega,fuzzifyErrorDotPosi)\n",
    "    regras[3][2] = min(fuzzifyErrorZe,fuzzifyErrorDotPosi)\n",
    "    regras[3][3] = min(fuzzifyErrorPosi,fuzzifyErrorDotPosi)\n",
    "    regras[3][4] = min(fuzzifyErrorsPosi,fuzzifyErrorDotPosi)\n",
    "    \n",
    "    regras[4][0] = min(fuzzifyErrorsNega,fuzzifyErrorDotsPosi)\n",
    "    regras[4][1] = min(fuzzifyErrorNega,fuzzifyErrorDotsPosi)\n",
    "    regras[4][2] = min(fuzzifyErrorZe,fuzzifyErrorDotsPosi)\n",
    "    regras[4][3] = min(fuzzifyErrorPosi,fuzzifyErrorDotsPosi)\n",
    "    regras[4][4] = min(fuzzifyErrorsPosi,fuzzifyErrorDotsPosi)\n",
    "    \n",
    "    return regras"
   ]
  },
  {
   "cell_type": "code",
   "execution_count": 27,
   "metadata": {},
   "outputs": [],
   "source": [
    "media = aver(selected)\n",
    "diffe = diff(selected)\n",
    "first = first(selected)\n",
    "maximus = max(selected['total_cases'])\n",
    "\n",
    "target = media - ((media * 28) / 100)"
   ]
  },
  {
   "cell_type": "code",
   "execution_count": 28,
   "metadata": {},
   "outputs": [],
   "source": [
    "currError = target - diffe"
   ]
  },
  {
   "cell_type": "code",
   "execution_count": 29,
   "metadata": {},
   "outputs": [],
   "source": [
    "error = currError\n",
    "dervError = first - diffe"
   ]
  },
  {
   "cell_type": "code",
   "execution_count": 30,
   "metadata": {},
   "outputs": [
    {
     "name": "stdout",
     "output_type": "stream",
     "text": [
      "cod_location\n",
      "0      2.802269e+04\n",
      "1      8.453256e+03\n",
      "2      3.523538e+04\n",
      "3      9.979920e+02\n",
      "4      2.614264e+03\n",
      "           ...     \n",
      "207    5.515200e+02\n",
      "208    2.148036e+07\n",
      "209    1.457888e+03\n",
      "210    9.828328e+03\n",
      "211    5.490568e+03\n",
      "Name: total_cases, Length: 212, dtype: float64\n",
      "cod_location\n",
      "0         38918.0\n",
      "1         11665.0\n",
      "2         48846.0\n",
      "3          1375.0\n",
      "4          3566.0\n",
      "          ...    \n",
      "207         766.0\n",
      "208    29713363.0\n",
      "209        2024.0\n",
      "210       13605.0\n",
      "211        7619.0\n",
      "Name: total_cases, Length: 212, dtype: float64\n",
      "0\n"
     ]
    }
   ],
   "source": [
    "\n",
    "Regras = verifRegras(error[0], dervError[0], media[0],round(maximus))\n",
    "vA = agrega(Regras, int(maximus), OutputSugDecr(int(media[0]),int(maximus)), OutputDecr(int(media[0]),int(maximus)), \n",
    "            OutputPlat(int(media[0]),int(maximus)), OutputCres(int(media[0]),int(maximus)), OutputSugCres(int(media[0]),int(maximus)),media[0])\n",
    "centroide = fz.getCentroid(vA)\n",
    "\n",
    "print(error)\n",
    "print(dervError)\n",
    "print(centroide)\n",
    "##"
   ]
  },
  {
   "cell_type": "code",
   "execution_count": 31,
   "metadata": {},
   "outputs": [
    {
     "data": {
      "text/plain": [
       "0"
      ]
     },
     "execution_count": 31,
     "metadata": {},
     "output_type": "execute_result"
    }
   ],
   "source": [
    "## Codigos: 0-Queda Brusca 1-Queda 2-Platô 3-Subida 4-Subida Brusca"
   ]
  },
  {
   "cell_type": "code",
   "execution_count": null,
   "metadata": {},
   "outputs": [],
   "source": []
  }
 ],
 "metadata": {
  "kernelspec": {
   "display_name": "Python 3",
   "language": "python",
   "name": "python3"
  },
  "language_info": {
   "codemirror_mode": {
    "name": "ipython",
    "version": 3
   },
   "file_extension": ".py",
   "mimetype": "text/x-python",
   "name": "python",
   "nbconvert_exporter": "python",
   "pygments_lexer": "ipython3",
   "version": "3.7.6"
  }
 },
 "nbformat": 4,
 "nbformat_minor": 4
}
