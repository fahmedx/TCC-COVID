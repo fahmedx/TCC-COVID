{
 "cells": [
  {
   "cell_type": "code",
   "execution_count": 547,
   "metadata": {},
   "outputs": [],
   "source": [
    "import pandas as pd\n",
    "import numpy as np\n",
    "import import_ipynb\n",
    "import sys\n",
    "import math \n",
    "import seaborn as sea\n",
    "import datetime as dt\n",
    "import Fuzzy_Prediction_Beta as fz\n",
    "from datetime import timedelta\n",
    "from operator import itemgetter\n",
    "from functools import partial\n",
    "url = \"in.csv\""
   ]
  },
  {
   "cell_type": "code",
   "execution_count": 548,
   "metadata": {},
   "outputs": [],
   "source": [
    "dataset = pd.read_csv(url, error_bad_lines=False)"
   ]
  },
  {
   "cell_type": "code",
   "execution_count": 549,
   "metadata": {},
   "outputs": [],
   "source": [
    "selected = dataset[['cod_location','date_id','total_cases']]"
   ]
  },
  {
   "cell_type": "code",
   "execution_count": 550,
   "metadata": {},
   "outputs": [],
   "source": [
    "selected = selected.groupby('cod_location').tail(5)"
   ]
  },
  {
   "cell_type": "code",
   "execution_count": 551,
   "metadata": {},
   "outputs": [],
   "source": [
    "selected.head()\n",
    "#Input na rede neural\n",
    "selected.to_csv('input.csv')"
   ]
  },
  {
   "cell_type": "code",
   "execution_count": 552,
   "metadata": {},
   "outputs": [],
   "source": [
    "def aver(input):\n",
    "    medias = input.groupby('cod_location')['total_cases'].apply(lambda x: x.tail(5).mean())\n",
    "    return medias"
   ]
  },
  {
   "cell_type": "code",
   "execution_count": 553,
   "metadata": {},
   "outputs": [],
   "source": [
    "def diff(input):\n",
    "    difference = input.groupby('cod_location')['total_cases'].apply(lambda x: x.tail(1).values[0] - x.head(1).values[0])\n",
    "    return difference"
   ]
  },
  {
   "cell_type": "code",
   "execution_count": 554,
   "metadata": {},
   "outputs": [],
   "source": [
    "def first(input):\n",
    "    first = selected.groupby('cod_location')['total_cases'].apply(lambda x: x.head(1).values[0])\n",
    "    return first"
   ]
  },
  {
   "cell_type": "code",
   "execution_count": 555,
   "metadata": {},
   "outputs": [],
   "source": [
    "def last(input):\n",
    "    last = selected.groupby('cod_location')['total_cases'].apply(lambda x: x.tail(1).values[0])\n",
    "    return last"
   ]
  },
  {
   "cell_type": "code",
   "execution_count": 556,
   "metadata": {},
   "outputs": [],
   "source": [
    "def param(last,diffe):\n",
    "    param = last + diffe\n",
    "    return param"
   ]
  },
  {
   "cell_type": "code",
   "execution_count": 557,
   "metadata": {},
   "outputs": [],
   "source": [
    "def fuzzifyErrorsPos(erro, media):\n",
    "    return fz.trapezio(erro, [(media + ((media * 25) / 100)), (media + ((media * 60) / 100)), (media + ((media * 80) / 100)), (media + ((media * 80) / 100))])"
   ]
  },
  {
   "cell_type": "code",
   "execution_count": 558,
   "metadata": {},
   "outputs": [],
   "source": [
    "def fuzzifyErrorPos(erro, media):\n",
    "    return fz.triangulo(erro, [(media + ((media * 8) / 100)), (media + ((media * 15) / 100)), (media + ((media * 30) / 100))])"
   ]
  },
  {
   "cell_type": "code",
   "execution_count": 559,
   "metadata": {},
   "outputs": [],
   "source": [
    "def fuzzifyErrorZ(erro, media):\n",
    "    return fz.trapezio(erro, [(media - ((media * 10) / 100)), (media - ((media * 5) / 100)), (media + ((media * 5) / 100)), (media + ((media * 10) / 100))])"
   ]
  },
  {
   "cell_type": "code",
   "execution_count": 560,
   "metadata": {},
   "outputs": [],
   "source": [
    "def fuzzifyErrorNeg(erro, media):\n",
    "    return fz.triangulo(erro, [(media - ((media * 30) / 100)), (media - ((media * 15) / 100)), (media - ((media * 8) / 100))])"
   ]
  },
  {
   "cell_type": "code",
   "execution_count": 561,
   "metadata": {},
   "outputs": [],
   "source": [
    "def fuzzifyErrorsNeg(erro, media):\n",
    "    return fz.trapezio(erro, [0, 0, (media - ((media * 60) / 100)), (media - ((media * 40) / 100))])"
   ]
  },
  {
   "cell_type": "code",
   "execution_count": 562,
   "metadata": {},
   "outputs": [],
   "source": [
    "def verifRegras(erro, media):\n",
    "    regras = [[0] * 5 for i in range(5)]\n",
    "    \n",
    "    fuzzifyErrorsNega = fuzzifyErrorsNeg(erro, media)\n",
    "    fuzzifyErrorNega = fuzzifyErrorNeg(erro, media)\n",
    "    fuzzifyErrorZe = fuzzifyErrorZ(erro, media)\n",
    "    fuzzifyErrorPosi = fuzzifyErrorPos(erro, media)\n",
    "    fuzzifyErrorsPosi = fuzzifyErrorsPos(erro, media)\n",
    "    \n",
    "    regras[0] = fuzzifyErrorsNega\n",
    "    regras[1] = fuzzifyErrorNega\n",
    "    regras[2] = fuzzifyErrorZe    \n",
    "    regras[3] = fuzzifyErrorPosi    \n",
    "    regras[4] = fuzzifyErrorsPosi\n",
    "    \n",
    "    return regras"
   ]
  },
  {
   "cell_type": "code",
   "execution_count": 563,
   "metadata": {},
   "outputs": [],
   "source": [
    "media = aver(selected)\n",
    "diffe = diff(selected)\n",
    "first = first(selected)\n",
    "last = last(selected)\n",
    "param = last + diffe\n",
    "maximus = max(selected['total_cases'])"
   ]
  },
  {
   "cell_type": "code",
   "execution_count": 564,
   "metadata": {},
   "outputs": [],
   "source": [
    "fuzzy_data = pd.DataFrame()"
   ]
  },
  {
   "cell_type": "code",
   "execution_count": 565,
   "metadata": {},
   "outputs": [
    {
     "name": "stderr",
     "output_type": "stream",
     "text": [
      "Fuzzy_Prediction_Beta.ipynb:3: RuntimeWarning: divide by zero encountered in double_scalars\n",
      "  {\n",
      "Fuzzy_Prediction_Beta.ipynb:9: RuntimeWarning: invalid value encountered in double_scalars\n",
      "  \"import pandas as pd\\n\",\n",
      "Fuzzy_Prediction_Beta.ipynb:11: RuntimeWarning: invalid value encountered in double_scalars\n",
      "  \"import sys\\n\",\n"
     ]
    }
   ],
   "source": [
    "## Códigos: 0-Queda Brusca 1-Queda 2-Platô 3-Subida 4-Subida Brusca\n",
    "for i in range(212):\n",
    "    Regras = verifRegras(param[i], media[i])\n",
    "    prev = fz.getOutput(Regras)\n",
    "    per  = fz.getPercentage(Regras)\n",
    "    #centroide = fz.getCentroid(prev,Regras,per,maximus)\n",
    "    fuzzy_data = fuzzy_data.append({'cd_local':i,'id_caso_prev':prev,'percent':per},ignore_index=True)\n",
    "    fuzzy_data['cd_local'] = fuzzy_data['cd_local'].astype(int)\n",
    "    fuzzy_data['id_caso_prev'] = fuzzy_data['id_caso_prev'].astype(int)\n",
    "    "
   ]
  },
  {
   "cell_type": "code",
   "execution_count": 566,
   "metadata": {},
   "outputs": [],
   "source": [
    "fuzzy_data.to_csv('predict.csv')"
   ]
  },
  {
   "cell_type": "code",
   "execution_count": 567,
   "metadata": {},
   "outputs": [
    {
     "data": {
      "text/html": [
       "<div>\n",
       "<style scoped>\n",
       "    .dataframe tbody tr th:only-of-type {\n",
       "        vertical-align: middle;\n",
       "    }\n",
       "\n",
       "    .dataframe tbody tr th {\n",
       "        vertical-align: top;\n",
       "    }\n",
       "\n",
       "    .dataframe thead th {\n",
       "        text-align: right;\n",
       "    }\n",
       "</style>\n",
       "<table border=\"1\" class=\"dataframe\">\n",
       "  <thead>\n",
       "    <tr style=\"text-align: right;\">\n",
       "      <th></th>\n",
       "      <th>cd_local</th>\n",
       "      <th>id_caso_prev</th>\n",
       "      <th>percent</th>\n",
       "    </tr>\n",
       "  </thead>\n",
       "  <tbody>\n",
       "    <tr>\n",
       "      <th>0</th>\n",
       "      <td>0</td>\n",
       "      <td>2</td>\n",
       "      <td>100.00</td>\n",
       "    </tr>\n",
       "    <tr>\n",
       "      <th>1</th>\n",
       "      <td>1</td>\n",
       "      <td>2</td>\n",
       "      <td>92.89</td>\n",
       "    </tr>\n",
       "    <tr>\n",
       "      <th>2</th>\n",
       "      <td>2</td>\n",
       "      <td>2</td>\n",
       "      <td>100.00</td>\n",
       "    </tr>\n",
       "    <tr>\n",
       "      <th>3</th>\n",
       "      <td>3</td>\n",
       "      <td>2</td>\n",
       "      <td>71.09</td>\n",
       "    </tr>\n",
       "    <tr>\n",
       "      <th>4</th>\n",
       "      <td>4</td>\n",
       "      <td>0</td>\n",
       "      <td>90.64</td>\n",
       "    </tr>\n",
       "    <tr>\n",
       "      <th>...</th>\n",
       "      <td>...</td>\n",
       "      <td>...</td>\n",
       "      <td>...</td>\n",
       "    </tr>\n",
       "    <tr>\n",
       "      <th>207</th>\n",
       "      <td>207</td>\n",
       "      <td>2</td>\n",
       "      <td>100.00</td>\n",
       "    </tr>\n",
       "    <tr>\n",
       "      <th>208</th>\n",
       "      <td>208</td>\n",
       "      <td>2</td>\n",
       "      <td>91.45</td>\n",
       "    </tr>\n",
       "    <tr>\n",
       "      <th>209</th>\n",
       "      <td>209</td>\n",
       "      <td>2</td>\n",
       "      <td>100.00</td>\n",
       "    </tr>\n",
       "    <tr>\n",
       "      <th>210</th>\n",
       "      <td>210</td>\n",
       "      <td>2</td>\n",
       "      <td>100.00</td>\n",
       "    </tr>\n",
       "    <tr>\n",
       "      <th>211</th>\n",
       "      <td>211</td>\n",
       "      <td>2</td>\n",
       "      <td>100.00</td>\n",
       "    </tr>\n",
       "  </tbody>\n",
       "</table>\n",
       "<p>212 rows × 3 columns</p>\n",
       "</div>"
      ],
      "text/plain": [
       "     cd_local  id_caso_prev  percent\n",
       "0           0             2   100.00\n",
       "1           1             2    92.89\n",
       "2           2             2   100.00\n",
       "3           3             2    71.09\n",
       "4           4             0    90.64\n",
       "..        ...           ...      ...\n",
       "207       207             2   100.00\n",
       "208       208             2    91.45\n",
       "209       209             2   100.00\n",
       "210       210             2   100.00\n",
       "211       211             2   100.00\n",
       "\n",
       "[212 rows x 3 columns]"
      ]
     },
     "execution_count": 567,
     "metadata": {},
     "output_type": "execute_result"
    }
   ],
   "source": [
    "fuzzy_data"
   ]
  },
  {
   "cell_type": "code",
   "execution_count": null,
   "metadata": {},
   "outputs": [],
   "source": []
  },
  {
   "cell_type": "code",
   "execution_count": null,
   "metadata": {},
   "outputs": [],
   "source": []
  },
  {
   "cell_type": "code",
   "execution_count": null,
   "metadata": {},
   "outputs": [],
   "source": []
  },
  {
   "cell_type": "code",
   "execution_count": null,
   "metadata": {},
   "outputs": [],
   "source": []
  },
  {
   "cell_type": "code",
   "execution_count": null,
   "metadata": {},
   "outputs": [],
   "source": []
  },
  {
   "cell_type": "code",
   "execution_count": null,
   "metadata": {},
   "outputs": [],
   "source": []
  },
  {
   "cell_type": "code",
   "execution_count": null,
   "metadata": {},
   "outputs": [],
   "source": []
  },
  {
   "cell_type": "code",
   "execution_count": null,
   "metadata": {},
   "outputs": [],
   "source": []
  },
  {
   "cell_type": "code",
   "execution_count": null,
   "metadata": {},
   "outputs": [],
   "source": []
  }
 ],
 "metadata": {
  "kernelspec": {
   "display_name": "Python 3",
   "language": "python",
   "name": "python3"
  },
  "language_info": {
   "codemirror_mode": {
    "name": "ipython",
    "version": 3
   },
   "file_extension": ".py",
   "mimetype": "text/x-python",
   "name": "python",
   "nbconvert_exporter": "python",
   "pygments_lexer": "ipython3",
   "version": "3.7.6"
  }
 },
 "nbformat": 4,
 "nbformat_minor": 4
}
